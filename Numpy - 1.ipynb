{
 "cells": [
  {
   "cell_type": "raw",
   "id": "d763b405",
   "metadata": {
    "vscode": {
     "languageId": "raw"
    }
   },
   "source": [
    "* What is Numpy ? \n",
    "--> Numpy is scientific computing library for python. \n",
    "--> Support large number of data in the form of multidimensional array and matrix.\n",
    "-->Use for mathematic calculation like linear algebra, Fourier transform, and random number capabilities, etc.\n",
    "-->Written in Python and C-Fast Process,Use less memory to store data,Convenient\n",
    "--> numpy array also called nd(numpy data)  array."
   ]
  },
  {
   "cell_type": "raw",
   "id": "9db15c10",
   "metadata": {},
   "source": [
    " * Why we use numpy array when we have python list?\n",
    " \n",
    " --> because its fast, convenient and use less memory."
   ]
  },
  {
   "cell_type": "markdown",
   "id": "1ba3865e",
   "metadata": {},
   "source": [
    "# Installation of Numpy"
   ]
  },
  {
   "cell_type": "code",
   "execution_count": 1,
   "id": "2b431ee4",
   "metadata": {},
   "outputs": [
    {
     "name": "stdout",
     "output_type": "stream",
     "text": [
      "Requirement already satisfied: numpy in c:\\users\\sandeep\\anaconda3\\envs\\notebook\\lib\\site-packages (2.0.0)\n"
     ]
    }
   ],
   "source": [
    "!pip install numpy"
   ]
  },
  {
   "cell_type": "code",
   "execution_count": 1,
   "id": "7cf6f818",
   "metadata": {},
   "outputs": [],
   "source": [
    "import numpy as np"
   ]
  },
  {
   "cell_type": "markdown",
   "id": "ed6a74a7",
   "metadata": {},
   "source": [
    "# 1 d array"
   ]
  },
  {
   "cell_type": "code",
   "execution_count": 4,
   "id": "4c3f9dd0",
   "metadata": {},
   "outputs": [
    {
     "name": "stdout",
     "output_type": "stream",
     "text": [
      "[1 2 3 4]\n"
     ]
    }
   ],
   "source": [
    "one = np.array([1,2,3,4])\n",
    "print(one)"
   ]
  },
  {
   "cell_type": "markdown",
   "id": "52bb8eb4",
   "metadata": {},
   "source": [
    "# 2 d array"
   ]
  },
  {
   "cell_type": "code",
   "execution_count": 5,
   "id": "35ad9ccb",
   "metadata": {},
   "outputs": [
    {
     "name": "stdout",
     "output_type": "stream",
     "text": [
      "[[1 2 3]\n",
      " [4 5 6]]\n"
     ]
    }
   ],
   "source": [
    "two = np.array([[1,2,3],[4,5,6]])\n",
    "print(two)"
   ]
  },
  {
   "cell_type": "code",
   "execution_count": 6,
   "id": "f7c7e65b",
   "metadata": {},
   "outputs": [
    {
     "name": "stdout",
     "output_type": "stream",
     "text": [
      "[[1 2 3]\n",
      " [4 5 6]\n",
      " [7 8 9]]\n"
     ]
    }
   ],
   "source": [
    "two = np.array([[1,2,3],[4,5,6],[7,8,9]])\n",
    "print(two)"
   ]
  },
  {
   "cell_type": "markdown",
   "id": "79d5c59a",
   "metadata": {},
   "source": [
    "# 3 d array"
   ]
  },
  {
   "cell_type": "code",
   "execution_count": 6,
   "id": "5d94bd5f",
   "metadata": {},
   "outputs": [
    {
     "name": "stdout",
     "output_type": "stream",
     "text": [
      "[[[1 2 3]\n",
      "  [1 2 3]\n",
      "  [1 2 3]]]\n"
     ]
    }
   ],
   "source": [
    "three = np.array([[[1,2,3],[1,2,3],[1,2,3]]])\n",
    "print(three)"
   ]
  },
  {
   "cell_type": "code",
   "execution_count": 7,
   "id": "f7b4b1d2",
   "metadata": {},
   "outputs": [
    {
     "name": "stdout",
     "output_type": "stream",
     "text": [
      "[[[1 2 3]\n",
      "  [1 2 3]\n",
      "  [1 2 3]]\n",
      "\n",
      " [[1 2 3]\n",
      "  [1 2 3]\n",
      "  [1 2 3]]]\n"
     ]
    }
   ],
   "source": [
    "three = np.array([[[1,2,3],[1,2,3],[1,2,3]],[[1,2,3],[1,2,3],[1,2,3]]])\n",
    "print(three)"
   ]
  },
  {
   "cell_type": "markdown",
   "id": "5ac7c373",
   "metadata": {},
   "source": [
    "# find array shape,dimention and size"
   ]
  },
  {
   "cell_type": "code",
   "execution_count": 12,
   "id": "f02df3af",
   "metadata": {},
   "outputs": [
    {
     "name": "stdout",
     "output_type": "stream",
     "text": [
      "[ 1  2  3  4  5  6  7  8  9 10]\n"
     ]
    }
   ],
   "source": [
    "one = np.array([1,2,3,4,5,6,7,8,9,10])\n",
    "print(one)"
   ]
  },
  {
   "cell_type": "code",
   "execution_count": 13,
   "id": "aca202c3",
   "metadata": {},
   "outputs": [
    {
     "data": {
      "text/plain": [
       "(10,)"
      ]
     },
     "execution_count": 13,
     "metadata": {},
     "output_type": "execute_result"
    }
   ],
   "source": [
    "one.shape #it means (1,10)"
   ]
  },
  {
   "cell_type": "code",
   "execution_count": 10,
   "id": "f29557b9",
   "metadata": {},
   "outputs": [
    {
     "data": {
      "text/plain": [
       "1"
      ]
     },
     "execution_count": 10,
     "metadata": {},
     "output_type": "execute_result"
    }
   ],
   "source": [
    "one.ndim   #1d dimention"
   ]
  },
  {
   "cell_type": "code",
   "execution_count": 11,
   "id": "08de564d",
   "metadata": {},
   "outputs": [
    {
     "data": {
      "text/plain": [
       "10"
      ]
     },
     "execution_count": 11,
     "metadata": {},
     "output_type": "execute_result"
    }
   ],
   "source": [
    "one.size   # total eliments"
   ]
  },
  {
   "cell_type": "code",
   "execution_count": 12,
   "id": "fb793dbe",
   "metadata": {},
   "outputs": [
    {
     "data": {
      "text/plain": [
       "4"
      ]
     },
     "execution_count": 12,
     "metadata": {},
     "output_type": "execute_result"
    }
   ],
   "source": [
    "one.itemsize   # int = 4 bytes , float = 8 bytes"
   ]
  },
  {
   "cell_type": "code",
   "execution_count": 63,
   "id": "8b3a6517",
   "metadata": {},
   "outputs": [
    {
     "data": {
      "text/plain": [
       "dtype('int32')"
      ]
     },
     "execution_count": 63,
     "metadata": {},
     "output_type": "execute_result"
    }
   ],
   "source": [
    "one.dtype"
   ]
  },
  {
   "cell_type": "code",
   "execution_count": 13,
   "id": "8d57ee91",
   "metadata": {},
   "outputs": [
    {
     "data": {
      "text/plain": [
       "array([ 1.,  2.,  3.,  4.,  5.,  6.,  7.,  8.,  9., 10.])"
      ]
     },
     "execution_count": 13,
     "metadata": {},
     "output_type": "execute_result"
    }
   ],
   "source": [
    "one1 =  one.astype(\"float\")\n",
    "one1"
   ]
  },
  {
   "cell_type": "code",
   "execution_count": 62,
   "id": "c232e057",
   "metadata": {},
   "outputs": [
    {
     "data": {
      "text/plain": [
       "dtype('float64')"
      ]
     },
     "execution_count": 62,
     "metadata": {},
     "output_type": "execute_result"
    }
   ],
   "source": [
    "one1.dtype"
   ]
  },
  {
   "cell_type": "code",
   "execution_count": 14,
   "id": "9b70f8c0",
   "metadata": {},
   "outputs": [
    {
     "data": {
      "text/plain": [
       "8"
      ]
     },
     "execution_count": 14,
     "metadata": {},
     "output_type": "execute_result"
    }
   ],
   "source": [
    "one1.itemsize"
   ]
  },
  {
   "cell_type": "code",
   "execution_count": 15,
   "id": "6ab06f0f",
   "metadata": {},
   "outputs": [
    {
     "name": "stdout",
     "output_type": "stream",
     "text": [
      "[[1 2 3]\n",
      " [4 5 6]]\n"
     ]
    }
   ],
   "source": [
    "two = np.array([[1,2,3],[4,5,6]])\n",
    "print(two)"
   ]
  },
  {
   "cell_type": "code",
   "execution_count": 16,
   "id": "a46122e0",
   "metadata": {},
   "outputs": [
    {
     "data": {
      "text/plain": [
       "(2, 3)"
      ]
     },
     "execution_count": 16,
     "metadata": {},
     "output_type": "execute_result"
    }
   ],
   "source": [
    "two.shape  # (row,column)"
   ]
  },
  {
   "cell_type": "code",
   "execution_count": 17,
   "id": "af3ff0c6",
   "metadata": {},
   "outputs": [
    {
     "data": {
      "text/plain": [
       "2"
      ]
     },
     "execution_count": 17,
     "metadata": {},
     "output_type": "execute_result"
    }
   ],
   "source": [
    "two.ndim   #2d dimention"
   ]
  },
  {
   "cell_type": "code",
   "execution_count": 18,
   "id": "7cf83494",
   "metadata": {},
   "outputs": [
    {
     "data": {
      "text/plain": [
       "6"
      ]
     },
     "execution_count": 18,
     "metadata": {},
     "output_type": "execute_result"
    }
   ],
   "source": [
    "two.size"
   ]
  },
  {
   "cell_type": "code",
   "execution_count": 65,
   "id": "db329873",
   "metadata": {},
   "outputs": [
    {
     "data": {
      "text/plain": [
       "dtype('int32')"
      ]
     },
     "execution_count": 65,
     "metadata": {},
     "output_type": "execute_result"
    }
   ],
   "source": [
    "two.dtype"
   ]
  },
  {
   "cell_type": "code",
   "execution_count": 19,
   "id": "a61da257",
   "metadata": {},
   "outputs": [
    {
     "data": {
      "text/plain": [
       "4"
      ]
     },
     "execution_count": 19,
     "metadata": {},
     "output_type": "execute_result"
    }
   ],
   "source": [
    "two.itemsize  "
   ]
  },
  {
   "cell_type": "code",
   "execution_count": 20,
   "id": "a3c8afe4",
   "metadata": {},
   "outputs": [
    {
     "name": "stdout",
     "output_type": "stream",
     "text": [
      "[[1 2 3]\n",
      " [4 5 6]\n",
      " [7 8 9]]\n"
     ]
    }
   ],
   "source": [
    "two1 = np.array([[1,2,3],[4,5,6],[7,8,9]])\n",
    "print(two1)"
   ]
  },
  {
   "cell_type": "code",
   "execution_count": 21,
   "id": "ff7f4f90",
   "metadata": {},
   "outputs": [
    {
     "data": {
      "text/plain": [
       "(3, 3)"
      ]
     },
     "execution_count": 21,
     "metadata": {},
     "output_type": "execute_result"
    }
   ],
   "source": [
    "two1.shape "
   ]
  },
  {
   "cell_type": "code",
   "execution_count": 22,
   "id": "fcad2f65",
   "metadata": {},
   "outputs": [
    {
     "data": {
      "text/plain": [
       "2"
      ]
     },
     "execution_count": 22,
     "metadata": {},
     "output_type": "execute_result"
    }
   ],
   "source": [
    "two1.ndim"
   ]
  },
  {
   "cell_type": "code",
   "execution_count": 23,
   "id": "1e2dfde0",
   "metadata": {},
   "outputs": [
    {
     "data": {
      "text/plain": [
       "9"
      ]
     },
     "execution_count": 23,
     "metadata": {},
     "output_type": "execute_result"
    }
   ],
   "source": [
    "two1.size"
   ]
  },
  {
   "cell_type": "code",
   "execution_count": 3,
   "id": "53399955",
   "metadata": {},
   "outputs": [
    {
     "name": "stdout",
     "output_type": "stream",
     "text": [
      "[[[1 2 3]\n",
      "  [4 5 6]\n",
      "  [7 8 9]]]\n"
     ]
    },
    {
     "data": {
      "text/plain": [
       "(1, 3, 3)"
      ]
     },
     "execution_count": 3,
     "metadata": {},
     "output_type": "execute_result"
    }
   ],
   "source": [
    "three = np.array([[[1,2,3],[4,5,6],[7,8,9]]])\n",
    "print(three)\n"
   ]
  },
  {
   "cell_type": "code",
   "execution_count": 25,
   "id": "1bd40f7f",
   "metadata": {},
   "outputs": [
    {
     "data": {
      "text/plain": [
       "(1, 3, 3)"
      ]
     },
     "execution_count": 25,
     "metadata": {},
     "output_type": "execute_result"
    }
   ],
   "source": [
    "three.shape"
   ]
  },
  {
   "cell_type": "code",
   "execution_count": 26,
   "id": "9f56ffaa",
   "metadata": {},
   "outputs": [
    {
     "data": {
      "text/plain": [
       "3"
      ]
     },
     "execution_count": 26,
     "metadata": {},
     "output_type": "execute_result"
    }
   ],
   "source": [
    "three.ndim"
   ]
  },
  {
   "cell_type": "code",
   "execution_count": 27,
   "id": "7d73ae99",
   "metadata": {},
   "outputs": [
    {
     "data": {
      "text/plain": [
       "9"
      ]
     },
     "execution_count": 27,
     "metadata": {},
     "output_type": "execute_result"
    }
   ],
   "source": [
    "three.size"
   ]
  },
  {
   "cell_type": "code",
   "execution_count": 28,
   "id": "8b6406a9",
   "metadata": {
    "scrolled": true
   },
   "outputs": [
    {
     "name": "stdout",
     "output_type": "stream",
     "text": [
      "[[[1 2 3]\n",
      "  [4 5 6]\n",
      "  [7 8 9]]\n",
      "\n",
      " [[1 2 3]\n",
      "  [4 5 6]\n",
      "  [7 8 9]]]\n"
     ]
    }
   ],
   "source": [
    "three1 = np.array([[[1,2,3],[4,5,6],[7,8,9,]],[[1,2,3],[4,5,6],[7,8,9]]])\n",
    "print(three1)\n",
    "#(2,3,3)"
   ]
  },
  {
   "cell_type": "code",
   "execution_count": 29,
   "id": "06e8d01e",
   "metadata": {},
   "outputs": [
    {
     "data": {
      "text/plain": [
       "(2, 3, 3)"
      ]
     },
     "execution_count": 29,
     "metadata": {},
     "output_type": "execute_result"
    }
   ],
   "source": [
    "three1.shape"
   ]
  },
  {
   "cell_type": "code",
   "execution_count": 30,
   "id": "3d1dbc11",
   "metadata": {},
   "outputs": [
    {
     "data": {
      "text/plain": [
       "3"
      ]
     },
     "execution_count": 30,
     "metadata": {},
     "output_type": "execute_result"
    }
   ],
   "source": [
    "three1.ndim"
   ]
  },
  {
   "cell_type": "code",
   "execution_count": 31,
   "id": "9e878b88",
   "metadata": {},
   "outputs": [
    {
     "data": {
      "text/plain": [
       "18"
      ]
     },
     "execution_count": 31,
     "metadata": {},
     "output_type": "execute_result"
    }
   ],
   "source": [
    "three1.size"
   ]
  },
  {
   "cell_type": "code",
   "execution_count": 32,
   "id": "f28281c5",
   "metadata": {},
   "outputs": [
    {
     "name": "stdout",
     "output_type": "stream",
     "text": [
      "[[[1 2 3]\n",
      "  [4 5 6]\n",
      "  [7 8 9]]\n",
      "\n",
      " [[1 2 3]\n",
      "  [4 5 6]\n",
      "  [7 8 9]]\n",
      "\n",
      " [[1 2 3]\n",
      "  [4 5 6]\n",
      "  [7 8 9]]]\n"
     ]
    }
   ],
   "source": [
    "three2 = np.array([[[1,2,3],[4,5,6],[7,8,9,]],[[1,2,3],[4,5,6],[7,8,9]],[[1,2,3],[4,5,6],[7,8,9]]])\n",
    "print(three2)\n",
    "#(3,3,3)"
   ]
  },
  {
   "cell_type": "code",
   "execution_count": 33,
   "id": "d3860bda",
   "metadata": {},
   "outputs": [
    {
     "data": {
      "text/plain": [
       "(3, 3, 3)"
      ]
     },
     "execution_count": 33,
     "metadata": {},
     "output_type": "execute_result"
    }
   ],
   "source": [
    "three2.shape  # count of metrix,row,column"
   ]
  },
  {
   "cell_type": "code",
   "execution_count": 34,
   "id": "7bd25dd5",
   "metadata": {},
   "outputs": [
    {
     "data": {
      "text/plain": [
       "3"
      ]
     },
     "execution_count": 34,
     "metadata": {},
     "output_type": "execute_result"
    }
   ],
   "source": [
    "three2.ndim"
   ]
  },
  {
   "cell_type": "code",
   "execution_count": 35,
   "id": "914f35b8",
   "metadata": {},
   "outputs": [
    {
     "data": {
      "text/plain": [
       "27"
      ]
     },
     "execution_count": 35,
     "metadata": {},
     "output_type": "execute_result"
    }
   ],
   "source": [
    "three2.size"
   ]
  },
  {
   "cell_type": "code",
   "execution_count": 36,
   "id": "455438b0",
   "metadata": {},
   "outputs": [
    {
     "name": "stdout",
     "output_type": "stream",
     "text": [
      "[[[ 1  2  3 10]\n",
      "  [ 4  5  6 11]\n",
      "  [ 7  8  9 12]]\n",
      "\n",
      " [[ 1  2  3 10]\n",
      "  [ 4  5  6 11]\n",
      "  [ 7  8  9 12]]\n",
      "\n",
      " [[ 1  2  3 10]\n",
      "  [ 4  5  6 11]\n",
      "  [ 7  8  9 12]]]\n"
     ]
    }
   ],
   "source": [
    "three3 = np.array([[[1,2,3,10],[4,5,6,11],[7,8,9,12]],[[1,2,3,10],[4,5,6,11],[7,8,9,12]],[[1,2,3,10],[4,5,6,11],[7,8,9,12]]])\n",
    "print(three3)"
   ]
  },
  {
   "cell_type": "code",
   "execution_count": 37,
   "id": "b170a67d",
   "metadata": {},
   "outputs": [
    {
     "data": {
      "text/plain": [
       "(3, 3, 4)"
      ]
     },
     "execution_count": 37,
     "metadata": {},
     "output_type": "execute_result"
    }
   ],
   "source": [
    "three3.shape"
   ]
  },
  {
   "cell_type": "code",
   "execution_count": 38,
   "id": "53e6e780",
   "metadata": {},
   "outputs": [
    {
     "data": {
      "text/plain": [
       "3"
      ]
     },
     "execution_count": 38,
     "metadata": {},
     "output_type": "execute_result"
    }
   ],
   "source": [
    "three3.ndim"
   ]
  },
  {
   "cell_type": "code",
   "execution_count": 39,
   "id": "f4a67698",
   "metadata": {},
   "outputs": [
    {
     "data": {
      "text/plain": [
       "36"
      ]
     },
     "execution_count": 39,
     "metadata": {},
     "output_type": "execute_result"
    }
   ],
   "source": [
    "three3.size"
   ]
  },
  {
   "cell_type": "markdown",
   "id": "6822328e",
   "metadata": {},
   "source": [
    "# find data types"
   ]
  },
  {
   "cell_type": "code",
   "execution_count": 40,
   "id": "f75e1d90",
   "metadata": {},
   "outputs": [
    {
     "name": "stdout",
     "output_type": "stream",
     "text": [
      "<class 'numpy.ndarray'>\n"
     ]
    }
   ],
   "source": [
    "print(type(three))"
   ]
  },
  {
   "cell_type": "code",
   "execution_count": 41,
   "id": "99314a73",
   "metadata": {},
   "outputs": [
    {
     "data": {
      "text/plain": [
       "dtype('int32')"
      ]
     },
     "execution_count": 41,
     "metadata": {},
     "output_type": "execute_result"
    }
   ],
   "source": [
    "three.dtype"
   ]
  },
  {
   "cell_type": "markdown",
   "id": "d937a0cf",
   "metadata": {},
   "source": [
    "# Change datatypes"
   ]
  },
  {
   "cell_type": "code",
   "execution_count": 15,
   "id": "cfe13fe2",
   "metadata": {},
   "outputs": [
    {
     "name": "stdout",
     "output_type": "stream",
     "text": [
      "[[1 2 3]\n",
      " [4 5 6]\n",
      " [7 8 9]]\n"
     ]
    }
   ],
   "source": [
    "x = np.array([[1,2,3],[4,5,6],[7,8,9]])\n",
    "print(x)"
   ]
  },
  {
   "cell_type": "code",
   "execution_count": 16,
   "id": "7a10ac71",
   "metadata": {},
   "outputs": [
    {
     "data": {
      "text/plain": [
       "array([[1., 2., 3.],\n",
       "       [4., 5., 6.],\n",
       "       [7., 8., 9.]])"
      ]
     },
     "execution_count": 16,
     "metadata": {},
     "output_type": "execute_result"
    }
   ],
   "source": [
    "x.astype('float')"
   ]
  },
  {
   "cell_type": "code",
   "execution_count": 43,
   "id": "647b86e8",
   "metadata": {},
   "outputs": [
    {
     "name": "stdout",
     "output_type": "stream",
     "text": [
      "[[1. 2. 3.]\n",
      " [4. 5. 6.]\n",
      " [7. 8. 9.]]\n"
     ]
    }
   ],
   "source": [
    "x = np.array([[1,2,3],[4,5,6],[7,8,9]],dtype=\"float\")\n",
    "print(x)"
   ]
  },
  {
   "cell_type": "code",
   "execution_count": 44,
   "id": "184a371b",
   "metadata": {},
   "outputs": [
    {
     "name": "stdout",
     "output_type": "stream",
     "text": [
      "[['1' '2' '3']\n",
      " ['4' '5' '6']\n",
      " ['7' '8' '9']]\n"
     ]
    }
   ],
   "source": [
    "x = np.array([[1,2,3],[4,5,6],[7,8,9]],dtype=\"str\")\n",
    "print(x)"
   ]
  },
  {
   "cell_type": "code",
   "execution_count": 68,
   "id": "639b4f10",
   "metadata": {},
   "outputs": [
    {
     "name": "stdout",
     "output_type": "stream",
     "text": [
      "[[ True  True  True]\n",
      " [ True False False]\n",
      " [ True  True  True]]\n"
     ]
    }
   ],
   "source": [
    "x = np.array([[1,2,3],[4,0,0],[7,8,9]],dtype=\"bool\")\n",
    "print(x)"
   ]
  },
  {
   "cell_type": "code",
   "execution_count": 71,
   "id": "b24a385b",
   "metadata": {},
   "outputs": [
    {
     "name": "stdout",
     "output_type": "stream",
     "text": [
      "[[1 2 3]\n",
      " [4 5 6]\n",
      " [7 8 9]]\n"
     ]
    }
   ],
   "source": [
    "x = np.array([[1,2,3],[4,5,6],[7,8,9]])\n",
    "print(x)"
   ]
  },
  {
   "cell_type": "code",
   "execution_count": 72,
   "id": "ecf31f96",
   "metadata": {},
   "outputs": [
    {
     "data": {
      "text/plain": [
       "dtype('int32')"
      ]
     },
     "execution_count": 72,
     "metadata": {},
     "output_type": "execute_result"
    }
   ],
   "source": [
    "x.dtype"
   ]
  },
  {
   "cell_type": "markdown",
   "id": "b487fbcd",
   "metadata": {},
   "source": [
    "# creat ones matrix & change datatypes\n",
    ".ones"
   ]
  },
  {
   "cell_type": "code",
   "execution_count": 3,
   "id": "19ed0956",
   "metadata": {},
   "outputs": [
    {
     "name": "stdout",
     "output_type": "stream",
     "text": [
      "[[1. 1. 1. 1. 1.]\n",
      " [1. 1. 1. 1. 1.]]\n"
     ]
    }
   ],
   "source": [
    "ones = np.ones((2,5))\n",
    "print(ones)"
   ]
  },
  {
   "cell_type": "code",
   "execution_count": 20,
   "id": "395b1bad",
   "metadata": {},
   "outputs": [
    {
     "name": "stdout",
     "output_type": "stream",
     "text": [
      "[[1 1 1]\n",
      " [1 1 1]\n",
      " [1 1 1]]\n"
     ]
    }
   ],
   "source": [
    "ones = np.ones((3,3),dtype='int')\n",
    "print(ones)"
   ]
  },
  {
   "cell_type": "code",
   "execution_count": 49,
   "id": "d16dda94",
   "metadata": {},
   "outputs": [
    {
     "name": "stdout",
     "output_type": "stream",
     "text": [
      "[[1. 1. 1.]\n",
      " [1. 1. 1.]\n",
      " [1. 1. 1.]]\n"
     ]
    }
   ],
   "source": [
    "ones = np.ones((3,3),dtype='float')\n",
    "print(ones)"
   ]
  },
  {
   "cell_type": "code",
   "execution_count": 50,
   "id": "e15851da",
   "metadata": {},
   "outputs": [
    {
     "name": "stdout",
     "output_type": "stream",
     "text": [
      "[['1' '1' '1']\n",
      " ['1' '1' '1']\n",
      " ['1' '1' '1']]\n"
     ]
    }
   ],
   "source": [
    "ones = np.ones((3,3),dtype='str')\n",
    "print(ones)"
   ]
  },
  {
   "cell_type": "code",
   "execution_count": 51,
   "id": "9a1ef6d0",
   "metadata": {},
   "outputs": [
    {
     "name": "stdout",
     "output_type": "stream",
     "text": [
      "[[ True  True  True]\n",
      " [ True  True  True]\n",
      " [ True  True  True]]\n"
     ]
    }
   ],
   "source": [
    "ones = np.ones((3,3),dtype='bool')\n",
    "print(ones)"
   ]
  },
  {
   "cell_type": "code",
   "execution_count": 52,
   "id": "0eab1a24",
   "metadata": {},
   "outputs": [
    {
     "name": "stdout",
     "output_type": "stream",
     "text": [
      "[[1.+0.j 1.+0.j 1.+0.j]\n",
      " [1.+0.j 1.+0.j 1.+0.j]\n",
      " [1.+0.j 1.+0.j 1.+0.j]]\n"
     ]
    }
   ],
   "source": [
    "ones = np.ones((3,3),dtype='complex')\n",
    "print(ones)"
   ]
  },
  {
   "cell_type": "markdown",
   "id": "d734f948",
   "metadata": {},
   "source": [
    "# creat zeros matrix & chnage datatypes\n",
    ".zeros"
   ]
  },
  {
   "cell_type": "code",
   "execution_count": 53,
   "id": "7bb6b1b0",
   "metadata": {},
   "outputs": [
    {
     "name": "stdout",
     "output_type": "stream",
     "text": [
      "[[0. 0. 0.]\n",
      " [0. 0. 0.]\n",
      " [0. 0. 0.]]\n"
     ]
    }
   ],
   "source": [
    "zeros = np.zeros((3,3))\n",
    "print(zeros)"
   ]
  },
  {
   "cell_type": "code",
   "execution_count": 54,
   "id": "fb5dbfc4",
   "metadata": {},
   "outputs": [
    {
     "name": "stdout",
     "output_type": "stream",
     "text": [
      "[[0 0 0]\n",
      " [0 0 0]\n",
      " [0 0 0]]\n"
     ]
    }
   ],
   "source": [
    "zeros = np.zeros((3,3),dtype='int')\n",
    "print(zeros)"
   ]
  },
  {
   "cell_type": "code",
   "execution_count": 55,
   "id": "31b221ae",
   "metadata": {},
   "outputs": [
    {
     "name": "stdout",
     "output_type": "stream",
     "text": [
      "[[0. 0. 0.]\n",
      " [0. 0. 0.]\n",
      " [0. 0. 0.]]\n"
     ]
    }
   ],
   "source": [
    "zeros = np.zeros((3,3),dtype='float')\n",
    "print(zeros)"
   ]
  },
  {
   "cell_type": "raw",
   "id": "6ea3aa7b",
   "metadata": {},
   "source": [
    "The reason you see empty strings ('') in the output of np.zeros((3,3), dtype='str') is because when you create an array of zeros with a dtype of str, NumPy initializes each element of the array as an empty string ''. This is the default behavior for arrays of string dtype when no specific value is provided."
   ]
  },
  {
   "cell_type": "code",
   "execution_count": null,
   "id": "7154b28f",
   "metadata": {},
   "outputs": [
    {
     "name": "stdout",
     "output_type": "stream",
     "text": [
      "[['' '' '']\n",
      " ['' '' '']\n",
      " ['' '' '']]\n"
     ]
    }
   ],
   "source": [
    "zeros = np.zeros((3,3),dtype='str')\n",
    "print(zeros)"
   ]
  },
  {
   "cell_type": "code",
   "execution_count": 57,
   "id": "df554bfa",
   "metadata": {},
   "outputs": [
    {
     "name": "stdout",
     "output_type": "stream",
     "text": [
      "[[False False False]\n",
      " [False False False]\n",
      " [False False False]]\n"
     ]
    }
   ],
   "source": [
    "zeros = np.zeros((3,3),dtype='bool')\n",
    "print(zeros)"
   ]
  },
  {
   "cell_type": "code",
   "execution_count": 58,
   "id": "7378cb7c",
   "metadata": {},
   "outputs": [
    {
     "name": "stdout",
     "output_type": "stream",
     "text": [
      "[[0.+0.j 0.+0.j 0.+0.j]\n",
      " [0.+0.j 0.+0.j 0.+0.j]\n",
      " [0.+0.j 0.+0.j 0.+0.j]]\n"
     ]
    }
   ],
   "source": [
    "zeros = np.zeros((3,3),dtype='complex')\n",
    "print(zeros)"
   ]
  },
  {
   "cell_type": "markdown",
   "id": "93428576",
   "metadata": {},
   "source": [
    "# diaginal matrix\n",
    ".diag"
   ]
  },
  {
   "cell_type": "code",
   "execution_count": 59,
   "id": "d193c2a7",
   "metadata": {},
   "outputs": [
    {
     "name": "stdout",
     "output_type": "stream",
     "text": [
      "[[1 0 0 0 0]\n",
      " [0 3 0 0 0]\n",
      " [0 0 6 0 0]\n",
      " [0 0 0 2 0]\n",
      " [0 0 0 0 9]]\n"
     ]
    }
   ],
   "source": [
    "a = np.diag([1,3,6,2,9])\n",
    "print(a)"
   ]
  },
  {
   "cell_type": "markdown",
   "id": "7a4cf08c",
   "metadata": {},
   "source": [
    "# identity matrix\n",
    ".eye"
   ]
  },
  {
   "cell_type": "code",
   "execution_count": 60,
   "id": "eb27e909",
   "metadata": {},
   "outputs": [
    {
     "name": "stdout",
     "output_type": "stream",
     "text": [
      "[[1. 0. 0. 0.]\n",
      " [0. 1. 0. 0.]\n",
      " [0. 0. 1. 0.]\n",
      " [0. 0. 0. 1.]]\n"
     ]
    }
   ],
   "source": [
    "a = np.eye(4,4)\n",
    "print(a)"
   ]
  },
  {
   "cell_type": "code",
   "execution_count": 61,
   "id": "e9313278",
   "metadata": {},
   "outputs": [
    {
     "name": "stdout",
     "output_type": "stream",
     "text": [
      "[[1. 0. 0. 0.]\n",
      " [0. 1. 0. 0.]\n",
      " [0. 0. 1. 0.]]\n"
     ]
    }
   ],
   "source": [
    "a = np.eye(3,4)\n",
    "print(a)"
   ]
  },
  {
   "cell_type": "code",
   "execution_count": null,
   "id": "644566cd",
   "metadata": {},
   "outputs": [],
   "source": []
  },
  {
   "cell_type": "code",
   "execution_count": null,
   "id": "191fd032-bb52-4def-aeff-6a5ff52196b7",
   "metadata": {},
   "outputs": [],
   "source": []
  }
 ],
 "metadata": {
  "kernelspec": {
   "display_name": "Python 3 (ipykernel)",
   "language": "python",
   "name": "python3"
  },
  "language_info": {
   "codemirror_mode": {
    "name": "ipython",
    "version": 3
   },
   "file_extension": ".py",
   "mimetype": "text/x-python",
   "name": "python",
   "nbconvert_exporter": "python",
   "pygments_lexer": "ipython3",
   "version": "3.11.9"
  }
 },
 "nbformat": 4,
 "nbformat_minor": 5
}
