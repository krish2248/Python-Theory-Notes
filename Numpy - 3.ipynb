{
 "cells": [
  {
   "cell_type": "code",
   "execution_count": 2,
   "id": "12ed765c",
   "metadata": {},
   "outputs": [],
   "source": [
    "import numpy as np"
   ]
  },
  {
   "cell_type": "markdown",
   "id": "e8c5ff46",
   "metadata": {},
   "source": [
    "# Array Slicing in Numpy and filtering"
   ]
  },
  {
   "cell_type": "code",
   "execution_count": 3,
   "id": "fb213c1e",
   "metadata": {},
   "outputs": [
    {
     "name": "stdout",
     "output_type": "stream",
     "text": [
      "[[1 2 3]\n",
      " [4 5 6]\n",
      " [7 8 9]]\n"
     ]
    }
   ],
   "source": [
    "a = np.arange(1,10,dtype='int').reshape(3,3)\n",
    "print(a)"
   ]
  },
  {
   "cell_type": "code",
   "execution_count": 12,
   "id": "fee16cb5",
   "metadata": {},
   "outputs": [
    {
     "data": {
      "text/plain": [
       "9"
      ]
     },
     "execution_count": 12,
     "metadata": {},
     "output_type": "execute_result"
    }
   ],
   "source": [
    "a[2,2]"
   ]
  },
  {
   "cell_type": "code",
   "execution_count": null,
   "id": "483e498a",
   "metadata": {},
   "outputs": [
    {
     "data": {
      "text/plain": [
       "3"
      ]
     },
     "execution_count": 4,
     "metadata": {},
     "output_type": "execute_result"
    }
   ],
   "source": [
    "a[0,2]"
   ]
  },
  {
   "cell_type": "code",
   "execution_count": null,
   "id": "e64b683e",
   "metadata": {},
   "outputs": [
    {
     "data": {
      "text/plain": [
       "array([4, 5, 6])"
      ]
     },
     "execution_count": 5,
     "metadata": {},
     "output_type": "execute_result"
    }
   ],
   "source": [
    "a[1]"
   ]
  },
  {
   "cell_type": "code",
   "execution_count": null,
   "id": "0bc7633f",
   "metadata": {},
   "outputs": [
    {
     "data": {
      "text/plain": [
       "array([[1, 2, 3],\n",
       "       [4, 5, 6],\n",
       "       [7, 8, 9]])"
      ]
     },
     "execution_count": 6,
     "metadata": {},
     "output_type": "execute_result"
    }
   ],
   "source": [
    "a"
   ]
  },
  {
   "cell_type": "code",
   "execution_count": null,
   "id": "86edb081",
   "metadata": {},
   "outputs": [
    {
     "data": {
      "text/plain": [
       "array([2, 5, 8])"
      ]
     },
     "execution_count": 7,
     "metadata": {},
     "output_type": "execute_result"
    }
   ],
   "source": [
    "a[:,1]"
   ]
  },
  {
   "cell_type": "code",
   "execution_count": null,
   "id": "bb556b7b",
   "metadata": {},
   "outputs": [
    {
     "data": {
      "text/plain": [
       "array([[1, 2],\n",
       "       [4, 5]])"
      ]
     },
     "execution_count": 8,
     "metadata": {},
     "output_type": "execute_result"
    }
   ],
   "source": [
    "a[0:2,0:2]"
   ]
  },
  {
   "cell_type": "code",
   "execution_count": null,
   "id": "1b92cf24",
   "metadata": {},
   "outputs": [
    {
     "data": {
      "text/plain": [
       "array([[5, 6],\n",
       "       [8, 9]])"
      ]
     },
     "execution_count": 9,
     "metadata": {},
     "output_type": "execute_result"
    }
   ],
   "source": [
    "a[1:,1:]"
   ]
  },
  {
   "cell_type": "code",
   "execution_count": null,
   "id": "54b16b3b",
   "metadata": {},
   "outputs": [
    {
     "name": "stdout",
     "output_type": "stream",
     "text": [
      "[[ 1  2  3  4  5]\n",
      " [ 6  7  8  9 10]\n",
      " [11 12 13 14 15]\n",
      " [16 17 18 19 20]\n",
      " [21 22 23 24 25]]\n"
     ]
    }
   ],
   "source": [
    "a = np.arange(1,26,dtype=\"int\").reshape(5,5)\n",
    "print(a)"
   ]
  },
  {
   "cell_type": "code",
   "execution_count": null,
   "id": "204ae811",
   "metadata": {},
   "outputs": [
    {
     "name": "stdout",
     "output_type": "stream",
     "text": [
      "[[ 1  2  3  4  5]\n",
      " [ 6  7  8  9 10]\n",
      " [11 12 13 14 15]\n",
      " [16 17 18 19 20]\n",
      " [21 22 23 24 25]]\n"
     ]
    },
    {
     "data": {
      "text/plain": [
       "array([[ 7,  8],\n",
       "       [12, 13],\n",
       "       [17, 18]])"
      ]
     },
     "execution_count": 11,
     "metadata": {},
     "output_type": "execute_result"
    }
   ],
   "source": [
    "print(a)\n",
    "a[1:4,1:3]"
   ]
  },
  {
   "cell_type": "code",
   "execution_count": null,
   "id": "dc2cdf9c",
   "metadata": {},
   "outputs": [
    {
     "data": {
      "text/plain": [
       "array([[ 2,  3],\n",
       "       [ 7,  8],\n",
       "       [12, 13],\n",
       "       [17, 18],\n",
       "       [22, 23]])"
      ]
     },
     "execution_count": 12,
     "metadata": {},
     "output_type": "execute_result"
    }
   ],
   "source": [
    "a[:,1:3]"
   ]
  },
  {
   "cell_type": "code",
   "execution_count": null,
   "id": "1f692a47",
   "metadata": {},
   "outputs": [
    {
     "data": {
      "text/plain": [
       "array([[11, 13, 15],\n",
       "       [16, 18, 20]])"
      ]
     },
     "execution_count": 13,
     "metadata": {},
     "output_type": "execute_result"
    }
   ],
   "source": [
    "a[2:4,::2]"
   ]
  },
  {
   "cell_type": "code",
   "execution_count": null,
   "id": "46710353",
   "metadata": {},
   "outputs": [
    {
     "data": {
      "text/plain": [
       "array([21, 23])"
      ]
     },
     "execution_count": 14,
     "metadata": {},
     "output_type": "execute_result"
    }
   ],
   "source": [
    "a[4,0:3:2]"
   ]
  },
  {
   "cell_type": "code",
   "execution_count": null,
   "id": "06892614",
   "metadata": {},
   "outputs": [
    {
     "data": {
      "text/plain": [
       "array([[ 2,  3],\n",
       "       [12, 13]])"
      ]
     },
     "execution_count": 15,
     "metadata": {},
     "output_type": "execute_result"
    }
   ],
   "source": [
    "a[0:3:2,1:3]"
   ]
  },
  {
   "cell_type": "code",
   "execution_count": null,
   "id": "311482d0",
   "metadata": {},
   "outputs": [
    {
     "data": {
      "text/plain": [
       "array([[ 7,  9],\n",
       "       [17, 19]])"
      ]
     },
     "execution_count": 16,
     "metadata": {},
     "output_type": "execute_result"
    }
   ],
   "source": [
    "a[1:5:2,1:5:2]"
   ]
  },
  {
   "cell_type": "code",
   "execution_count": null,
   "id": "95d51116",
   "metadata": {},
   "outputs": [
    {
     "data": {
      "text/plain": [
       "array([[ 1,  5],\n",
       "       [21, 25]])"
      ]
     },
     "execution_count": 17,
     "metadata": {},
     "output_type": "execute_result"
    }
   ],
   "source": [
    "a[::4,::4]"
   ]
  },
  {
   "cell_type": "code",
   "execution_count": null,
   "id": "fed032da",
   "metadata": {},
   "outputs": [
    {
     "name": "stdout",
     "output_type": "stream",
     "text": [
      "[[[ 1  2  3]\n",
      "  [ 4  5  6]\n",
      "  [ 7  8  9]]\n",
      "\n",
      " [[10 11 12]\n",
      "  [13 14 15]\n",
      "  [16 17 18]]\n",
      "\n",
      " [[19 20 21]\n",
      "  [22 23 24]\n",
      "  [25 26 27]]]\n"
     ]
    }
   ],
   "source": [
    "a = np.arange(1,28,dtype = \"int\").reshape(3,3,3)\n",
    "print(a)"
   ]
  },
  {
   "cell_type": "code",
   "execution_count": null,
   "id": "ed35ffc2",
   "metadata": {},
   "outputs": [
    {
     "data": {
      "text/plain": [
       "23"
      ]
     },
     "execution_count": 19,
     "metadata": {},
     "output_type": "execute_result"
    }
   ],
   "source": [
    "a[2,1,1]"
   ]
  },
  {
   "cell_type": "code",
   "execution_count": null,
   "id": "1ac2c2c9",
   "metadata": {},
   "outputs": [
    {
     "ename": "IndexError",
     "evalue": "too many indices for array: array is 3-dimensional, but 4 were indexed",
     "output_type": "error",
     "traceback": [
      "\u001b[1;31m---------------------------------------------------------------------------\u001b[0m",
      "\u001b[1;31mIndexError\u001b[0m                                Traceback (most recent call last)",
      "Cell \u001b[1;32mIn[6], line 1\u001b[0m\n\u001b[1;32m----> 1\u001b[0m a[\u001b[38;5;241m0\u001b[39m:\u001b[38;5;241m3\u001b[39m,\u001b[38;5;241m1\u001b[39m,\u001b[38;5;241m1\u001b[39m,\u001b[38;5;241m2\u001b[39m]\n",
      "\u001b[1;31mIndexError\u001b[0m: too many indices for array: array is 3-dimensional, but 4 were indexed"
     ]
    }
   ],
   "source": [
    "a[0:3,1,1,2]"
   ]
  },
  {
   "cell_type": "markdown",
   "id": "560e742a",
   "metadata": {},
   "source": [
    "# filtering"
   ]
  },
  {
   "cell_type": "code",
   "execution_count": null,
   "id": "68942ab4",
   "metadata": {},
   "outputs": [
    {
     "name": "stdout",
     "output_type": "stream",
     "text": [
      "[[ 1  2  3  4  5]\n",
      " [ 6  7  8  9 10]\n",
      " [11 12 13 14 15]\n",
      " [16 17 18 19 20]\n",
      " [21 22 23 24 25]]\n"
     ]
    }
   ],
   "source": [
    "a = np.arange(1,26,dtype=\"int\").reshape(5,5)\n",
    "print(a)"
   ]
  },
  {
   "cell_type": "code",
   "execution_count": null,
   "id": "3678a5d0",
   "metadata": {},
   "outputs": [
    {
     "data": {
      "text/plain": [
       "array([[False, False, False, False, False],\n",
       "       [False, False, False, False, False],\n",
       "       [ True,  True,  True,  True,  True],\n",
       "       [ True,  True,  True,  True,  True],\n",
       "       [ True,  True,  True,  True,  True]])"
      ]
     },
     "execution_count": 22,
     "metadata": {},
     "output_type": "execute_result"
    }
   ],
   "source": [
    "a>10"
   ]
  },
  {
   "cell_type": "code",
   "execution_count": null,
   "id": "3e389de6",
   "metadata": {},
   "outputs": [
    {
     "data": {
      "text/plain": [
       "array([11, 12, 13, 14, 15, 16, 17, 18, 19, 20, 21, 22, 23, 24, 25])"
      ]
     },
     "execution_count": 23,
     "metadata": {},
     "output_type": "execute_result"
    }
   ],
   "source": [
    "a[a>10]"
   ]
  },
  {
   "cell_type": "code",
   "execution_count": null,
   "id": "6f981930",
   "metadata": {},
   "outputs": [
    {
     "name": "stdout",
     "output_type": "stream",
     "text": [
      "[11 12 13 14 15 16 17 18 19 20 21 22 23 24 25]\n"
     ]
    }
   ],
   "source": [
    "x = a[a>10]\n",
    "print(x)"
   ]
  },
  {
   "cell_type": "code",
   "execution_count": null,
   "id": "0bebffc2",
   "metadata": {},
   "outputs": [
    {
     "data": {
      "text/plain": [
       "array([1, 2, 3, 4, 5, 6, 7, 8, 9])"
      ]
     },
     "execution_count": 25,
     "metadata": {},
     "output_type": "execute_result"
    }
   ],
   "source": [
    "a[a<10]"
   ]
  },
  {
   "cell_type": "code",
   "execution_count": null,
   "id": "7743fa16",
   "metadata": {},
   "outputs": [
    {
     "name": "stdout",
     "output_type": "stream",
     "text": [
      "[[111 111 111 111 111]\n",
      " [111 111 111 111  10]\n",
      " [ 11  12  13  14  15]\n",
      " [ 16  17  18  19  20]\n",
      " [ 21  22  23  24  25]]\n"
     ]
    }
   ],
   "source": [
    "a[a<10] = 111\n",
    "print(a)"
   ]
  },
  {
   "cell_type": "markdown",
   "id": "b52a6c8d",
   "metadata": {},
   "source": [
    "# random with numpy"
   ]
  },
  {
   "cell_type": "code",
   "execution_count": null,
   "id": "b70dbc10",
   "metadata": {},
   "outputs": [
    {
     "data": {
      "text/plain": [
       "array([0.15051877, 0.68243972, 0.31188145, 0.86682636, 0.97085903])"
      ]
     },
     "execution_count": 5,
     "metadata": {},
     "output_type": "execute_result"
    }
   ],
   "source": [
    "np.random.random(5)"
   ]
  },
  {
   "cell_type": "code",
   "execution_count": null,
   "id": "047bd2b7",
   "metadata": {},
   "outputs": [
    {
     "data": {
      "text/plain": [
       "array([[0.11590896, 0.59671026, 0.4281133 ],\n",
       "       [0.03203022, 0.22119142, 0.33157748],\n",
       "       [0.29705178, 0.89275922, 0.31968894]])"
      ]
     },
     "execution_count": 6,
     "metadata": {},
     "output_type": "execute_result"
    }
   ],
   "source": [
    "np.random.random((3,3))"
   ]
  },
  {
   "cell_type": "code",
   "execution_count": null,
   "id": "cc61e565",
   "metadata": {},
   "outputs": [
    {
     "name": "stdout",
     "output_type": "stream",
     "text": [
      "[[[49 45 57]\n",
      "  [63 60 62]\n",
      "  [63 64 53]\n",
      "  [57 60 54]]\n",
      "\n",
      " [[51 65 49]\n",
      "  [61 63 65]\n",
      "  [51 62 62]\n",
      "  [47 52 52]]]\n"
     ]
    }
   ],
   "source": [
    "x = np.random.randint(45,66,(2,4,3))\n",
    "print(x)"
   ]
  },
  {
   "cell_type": "code",
   "execution_count": null,
   "id": "a99b428e",
   "metadata": {},
   "outputs": [
    {
     "name": "stdout",
     "output_type": "stream",
     "text": [
      "[[0.57846546 0.2097219  0.79512444]\n",
      " [0.24008421 0.96218295 0.33965888]\n",
      " [0.36527879 0.64191915 0.77216393]]\n"
     ]
    }
   ],
   "source": [
    "a = np.random.rand(3,3)          # np.random.rand is for Uniform Distribution (in the half-open interval [0.0,1.0))\n",
    "print(a)"
   ]
  },
  {
   "cell_type": "code",
   "execution_count": null,
   "id": "b2c37f63",
   "metadata": {},
   "outputs": [
    {
     "name": "stdout",
     "output_type": "stream",
     "text": [
      "[[-3.04101896  0.157455    0.25948281]\n",
      " [ 2.00458399  0.06927897 -0.69486625]\n",
      " [ 1.30592752  0.71968007  0.31348947]]\n"
     ]
    }
   ],
   "source": [
    "a = np.random.randn(3,3)    # np.random.randn is for Standard Normal(Gaussian Distribution) Distribution (mean 0 and variance 1)\n",
    "print(a)"
   ]
  },
  {
   "cell_type": "code",
   "execution_count": null,
   "id": "9635e541",
   "metadata": {},
   "outputs": [
    {
     "data": {
      "text/plain": [
       "15"
      ]
     },
     "execution_count": 32,
     "metadata": {},
     "output_type": "execute_result"
    }
   ],
   "source": [
    "x = [1,2,3,4,5,6,7,8,9,10,11,12,13,14,15]\n",
    "np.random.choice(x)"
   ]
  },
  {
   "cell_type": "code",
   "execution_count": null,
   "id": "4490bd07",
   "metadata": {},
   "outputs": [
    {
     "data": {
      "text/plain": [
       "array([ 4,  6, 11, 13,  7,  2,  3,  9, 14, 15,  1,  8, 10, 12,  5])"
      ]
     },
     "execution_count": 10,
     "metadata": {},
     "output_type": "execute_result"
    }
   ],
   "source": [
    "x = [1,2,3,4,5,6,7,8,9,10,11,12,13,14,15]\n",
    "np.random.permutation(x)"
   ]
  },
  {
   "cell_type": "markdown",
   "id": "ced666fe",
   "metadata": {},
   "source": [
    "# np.char"
   ]
  },
  {
   "cell_type": "code",
   "execution_count": null,
   "id": "59d0c158",
   "metadata": {},
   "outputs": [
    {
     "name": "stdout",
     "output_type": "stream",
     "text": [
      "HELLO I AM FROM INDIA\n"
     ]
    }
   ],
   "source": [
    "a = \"Hello i am from India\"\n",
    "b = np.char.upper(a)\n",
    "print(b)"
   ]
  },
  {
   "cell_type": "code",
   "execution_count": null,
   "id": "2ab17267",
   "metadata": {},
   "outputs": [
    {
     "name": "stdout",
     "output_type": "stream",
     "text": [
      "hello i am from india\n"
     ]
    }
   ],
   "source": [
    "a = \"Hello i am from India\"\n",
    "b = np.char.lower(a)\n",
    "print(b)"
   ]
  },
  {
   "cell_type": "code",
   "execution_count": null,
   "id": "503c7443",
   "metadata": {},
   "outputs": [
    {
     "name": "stdout",
     "output_type": "stream",
     "text": [
      "Hello i am from USA\n"
     ]
    }
   ],
   "source": [
    "a = \"Hello i am from India\"               #IMP\n",
    "b = np.char.replace(a,\"India\",\"USA\")\n",
    "print(b)"
   ]
  },
  {
   "cell_type": "code",
   "execution_count": null,
   "id": "e1bb7f18",
   "metadata": {},
   "outputs": [
    {
     "name": "stdout",
     "output_type": "stream",
     "text": [
      "Hello i am from India I love my india\n"
     ]
    }
   ],
   "source": [
    "a = \"Hello i am from India \"             #IMP\n",
    "b = \"I love my india\"\n",
    "c = np.char.add(a,b)\n",
    "print(c)"
   ]
  },
  {
   "cell_type": "code",
   "execution_count": null,
   "id": "c7185ed9",
   "metadata": {},
   "outputs": [
    {
     "name": "stdout",
     "output_type": "stream",
     "text": [
      "                   hello i am from india                    \n"
     ]
    }
   ],
   "source": [
    "a = \"hello i am from india\"\n",
    "b = np.char.center(a,60)\n",
    "print(b)"
   ]
  },
  {
   "cell_type": "code",
   "execution_count": null,
   "id": "acb16e3a",
   "metadata": {},
   "outputs": [
    {
     "name": "stdout",
     "output_type": "stream",
     "text": [
      "-------------------hello i am from india--------------------\n"
     ]
    }
   ],
   "source": [
    "a = \"hello i am from india\"\n",
    "b = np.char.center(a,60,fillchar=\"-\")\n",
    "print(b)"
   ]
  },
  {
   "cell_type": "code",
   "execution_count": null,
   "id": "9cd0fe0a",
   "metadata": {},
   "outputs": [
    {
     "data": {
      "text/plain": [
       "array(['H:e:l:l:o: :h:o:w: :a:r:e: :y:o:u:?', 'i/n/d/i/a'], dtype='<U35')"
      ]
     },
     "execution_count": 12,
     "metadata": {},
     "output_type": "execute_result"
    }
   ],
   "source": [
    "a = \"Hello how are you?\"\n",
    "b = \"india\"\n",
    "np.char.join([\":\", \"/\"], [a,b])"
   ]
  },
  {
   "cell_type": "code",
   "execution_count": null,
   "id": "4386ef0b",
   "metadata": {},
   "outputs": [
    {
     "data": {
      "text/plain": [
       "array(list(['Hello', 'how', 'are', 'you?']), dtype=object)"
      ]
     },
     "execution_count": 41,
     "metadata": {},
     "output_type": "execute_result"
    }
   ],
   "source": [
    "np.char.split(a)"
   ]
  },
  {
   "cell_type": "code",
   "execution_count": null,
   "id": "87a87b7f",
   "metadata": {},
   "outputs": [
    {
     "data": {
      "text/plain": [
       "array(list(['hello', 'Indian']), dtype=object)"
      ]
     },
     "execution_count": 42,
     "metadata": {},
     "output_type": "execute_result"
    }
   ],
   "source": [
    "np.char.splitlines(\"hello\\nIndian\")"
   ]
  },
  {
   "cell_type": "code",
   "execution_count": null,
   "id": "58916787",
   "metadata": {},
   "outputs": [
    {
     "data": {
      "text/plain": [
       "array(False)"
      ]
     },
     "execution_count": 43,
     "metadata": {},
     "output_type": "execute_result"
    }
   ],
   "source": [
    "np.char.equal(a,b)"
   ]
  },
  {
   "cell_type": "markdown",
   "id": "e8427d71",
   "metadata": {},
   "source": [
    "# datetime with numpy"
   ]
  },
  {
   "cell_type": "code",
   "execution_count": null,
   "id": "5db94538",
   "metadata": {},
   "outputs": [
    {
     "name": "stdout",
     "output_type": "stream",
     "text": [
      "2022-11-12\n",
      "<class 'numpy.datetime64'>\n"
     ]
    }
   ],
   "source": [
    "today = np.datetime64(\"2022-11-12\")\n",
    "print(today)\n",
    "print(type(today))"
   ]
  },
  {
   "cell_type": "code",
   "execution_count": null,
   "id": "47e27d4c",
   "metadata": {},
   "outputs": [
    {
     "name": "stdout",
     "output_type": "stream",
     "text": [
      "2022\n"
     ]
    }
   ],
   "source": [
    "today = np.datetime64(\"2022-11-12\",'Y')\n",
    "print(today)"
   ]
  },
  {
   "cell_type": "code",
   "execution_count": null,
   "id": "5fbd87c3",
   "metadata": {},
   "outputs": [
    {
     "name": "stdout",
     "output_type": "stream",
     "text": [
      "2022-11\n"
     ]
    }
   ],
   "source": [
    "today = np.datetime64(\"2022-11-12\",'M')\n",
    "print(today)"
   ]
  },
  {
   "cell_type": "code",
   "execution_count": null,
   "id": "3f2042e3",
   "metadata": {},
   "outputs": [
    {
     "name": "stdout",
     "output_type": "stream",
     "text": [
      "730 days\n"
     ]
    }
   ],
   "source": [
    "diff = np.datetime64(\"2022-11-12\") - np.datetime64(\"2020-11-12\")\n",
    "print(diff)"
   ]
  },
  {
   "cell_type": "code",
   "execution_count": null,
   "id": "243f6e8b",
   "metadata": {},
   "outputs": [
    {
     "name": "stdout",
     "output_type": "stream",
     "text": [
      "104 weeks\n"
     ]
    }
   ],
   "source": [
    "x = np.timedelta64(diff,'W')\n",
    "print(x)"
   ]
  },
  {
   "cell_type": "code",
   "execution_count": null,
   "id": "087366dc",
   "metadata": {},
   "outputs": [
    {
     "name": "stdout",
     "output_type": "stream",
     "text": [
      "1051200 minutes\n"
     ]
    }
   ],
   "source": [
    "x = np.timedelta64(diff,'m')\n",
    "print(x)"
   ]
  },
  {
   "cell_type": "code",
   "execution_count": null,
   "id": "e948a60b",
   "metadata": {},
   "outputs": [
    {
     "name": "stdout",
     "output_type": "stream",
     "text": [
      "17520 hours\n"
     ]
    }
   ],
   "source": [
    "x = np.timedelta64(diff,'h')\n",
    "print(x)"
   ]
  },
  {
   "cell_type": "code",
   "execution_count": null,
   "id": "ed0a9909-64ee-43ba-a355-e53ad123d234",
   "metadata": {},
   "outputs": [
    {
     "name": "stdout",
     "output_type": "stream",
     "text": [
      "7237 days\n",
      "1033 weeks\n"
     ]
    }
   ],
   "source": [
    "b=np.datetime64(\"2024-04-10\")-np.datetime64(\"2004-06-17\")\n",
    "print(b)\n",
    "k=np.timedelta64(b,\"W\")\n",
    "print(k)"
   ]
  },
  {
   "cell_type": "code",
   "execution_count": null,
   "id": "5f8cab9b",
   "metadata": {},
   "outputs": [
    {
     "name": "stdout",
     "output_type": "stream",
     "text": [
      "2023-01-20T00:00\n"
     ]
    }
   ],
   "source": [
    "today = np.datetime64(\"2023-01-20\",'m')\n",
    "print(today)"
   ]
  },
  {
   "cell_type": "code",
   "execution_count": null,
   "id": "91498a83",
   "metadata": {},
   "outputs": [
    {
     "name": "stdout",
     "output_type": "stream",
     "text": [
      "2023-01-20T00\n"
     ]
    }
   ],
   "source": [
    "today = np.datetime64(\"2023-01-20\",'h')\n",
    "print(today)"
   ]
  },
  {
   "cell_type": "code",
   "execution_count": null,
   "id": "1d7356e8",
   "metadata": {},
   "outputs": [
    {
     "name": "stdout",
     "output_type": "stream",
     "text": [
      "['2022-11-25' '2022-11-26' '2022-11-27' '2022-11-28' '2022-11-29'\n",
      " '2022-11-30' '2022-12-01' '2022-12-02' '2022-12-03' '2022-12-04'\n",
      " '2022-12-05' '2022-12-06' '2022-12-07' '2022-12-08' '2022-12-09'\n",
      " '2022-12-10' '2022-12-11' '2022-12-12' '2022-12-13' '2022-12-14'\n",
      " '2022-12-15' '2022-12-16' '2022-12-17' '2022-12-18' '2022-12-19'\n",
      " '2022-12-20' '2022-12-21' '2022-12-22' '2022-12-23' '2022-12-24']\n"
     ]
    }
   ],
   "source": [
    "month_date = np.arange('2022-11-25','2022-12-25',dtype = 'datetime64')\n",
    "print(month_date)"
   ]
  },
  {
   "cell_type": "code",
   "execution_count": null,
   "id": "913f0053",
   "metadata": {},
   "outputs": [
    {
     "name": "stdout",
     "output_type": "stream",
     "text": [
      "['2020-10' '2020-11' '2020-12' '2021-01' '2021-02' '2021-03' '2021-04'\n",
      " '2021-05' '2021-06' '2021-07' '2021-08' '2021-09' '2021-10' '2021-11'\n",
      " '2021-12' '2022-01' '2022-02' '2022-03' '2022-04' '2022-05' '2022-06'\n",
      " '2022-07' '2022-08' '2022-09']\n"
     ]
    }
   ],
   "source": [
    "month = np.arange('2020-10-11','2022-10-11',dtype = 'datetime64[M]')\n",
    "print(month)"
   ]
  },
  {
   "cell_type": "code",
   "execution_count": null,
   "id": "0fbfea27",
   "metadata": {},
   "outputs": [
    {
     "name": "stdout",
     "output_type": "stream",
     "text": [
      "['2020' '2021']\n"
     ]
    }
   ],
   "source": [
    "month = np.arange('2020-10-11','2022-10-11',dtype = 'datetime64[Y]')\n",
    "print(month)"
   ]
  },
  {
   "cell_type": "code",
   "execution_count": null,
   "id": "ac074bf4",
   "metadata": {},
   "outputs": [
    {
     "name": "stdout",
     "output_type": "stream",
     "text": [
      "['2012-10-11' '2012-10-12' '2012-10-13' ... '2022-10-08' '2022-10-09'\n",
      " '2022-10-10']\n"
     ]
    }
   ],
   "source": [
    "month = np.arange('2012-10-11','2022-10-11',dtype = 'datetime64')\n",
    "print(month)"
   ]
  },
  {
   "cell_type": "code",
   "execution_count": null,
   "id": "526535d8",
   "metadata": {},
   "outputs": [
    {
     "name": "stdout",
     "output_type": "stream",
     "text": [
      "3652\n"
     ]
    }
   ],
   "source": [
    "print(len(month))"
   ]
  },
  {
   "cell_type": "code",
   "execution_count": null,
   "id": "3dd8e7c0",
   "metadata": {},
   "outputs": [],
   "source": []
  }
 ],
 "metadata": {
  "kernelspec": {
   "display_name": "Python 3",
   "language": "python",
   "name": "python3"
  },
  "language_info": {
   "codemirror_mode": {
    "name": "ipython",
    "version": 3
   },
   "file_extension": ".py",
   "mimetype": "text/x-python",
   "name": "python",
   "nbconvert_exporter": "python",
   "pygments_lexer": "ipython3",
   "version": "3.11.9"
  }
 },
 "nbformat": 4,
 "nbformat_minor": 5
}
