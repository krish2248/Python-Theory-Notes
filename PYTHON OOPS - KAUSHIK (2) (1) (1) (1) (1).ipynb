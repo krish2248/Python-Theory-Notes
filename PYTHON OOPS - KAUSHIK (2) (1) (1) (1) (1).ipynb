{
 "cells": [
  {
   "cell_type": "markdown",
   "id": "d82e114e-d864-473e-812d-d1a9c07e50a7",
   "metadata": {},
   "source": [
    "# OOPS"
   ]
  },
  {
   "cell_type": "markdown",
   "id": "f454babb-4c7d-44f3-a9e8-b4a1529db788",
   "metadata": {},
   "source": [
    " the **4 main topics** of **Object-Oriented Programming (OOP)** in Python:\n",
    "\n",
    "### 1. **Class and Object**\n",
    "   - **Class**: A blueprint or template for creating objects. It defines the attributes (properties) and methods (functions) that the objects will have.\n",
    "   - **Object**: An instance of a class, created using the class as a template.\n",
    "\n",
    "### 2. **Inheritance**\n",
    "   - Inheritance allows one class (child class) to inherit attributes and methods from another class (parent class). It helps in code reusability and the extension of functionality.\n",
    "\n",
    "### 3. **Polymorphism**\n",
    "   - Polymorphism allows the same method or function to behave differently based on the object it is acting upon. It is typically achieved through method overriding or method overloading in subclasses.\n",
    "\n",
    "### 4. **Encapsulation**\n",
    "   - Encapsulation is the concept of bundling the data (attributes) and methods that operate on the data within a single unit or class. It also involves restricting access to certain details of the object using access modifiers (e.g., private or protected).\n",
    "\n",
    "Let me know if you'd like an example or more explanation for any of these!"
   ]
  },
  {
   "cell_type": "markdown",
   "id": "00efc988-97e3-4f72-86ef-1b8293088536",
   "metadata": {},
   "source": [
    "## Classes and Objects"
   ]
  },
  {
   "cell_type": "markdown",
   "id": "c8556418-6690-4780-8e3d-bc95afc320e9",
   "metadata": {},
   "source": [
    "### Python is an object oriented programming language.\n",
    "\n",
    "Almost everything in Python is an object, with its properties and methods.\n",
    "\n",
    "A Class is like an object constructor, or a \"blueprint\" for creating objects."
   ]
  },
  {
   "cell_type": "code",
   "execution_count": null,
   "id": "4314c79f-5363-4758-b851-86ee86c7e9a6",
   "metadata": {},
   "outputs": [
    {
     "name": "stdout",
     "output_type": "stream",
     "text": [
      "5\n"
     ]
    }
   ],
   "source": [
    "\"\"\"\n",
    "Create a Class\n",
    "To create a class, use the keyword class:\n",
    "\"\"\"\n",
    "class MyClass:\n",
    "  x = 5\n",
    "\"\"\"\n",
    "Create Object\n",
    "#Now we can use the class named MyClass to create objects:\n",
    "\"\"\"\n",
    "p1 = MyClass()\n",
    "print(p1.x)"
   ]
  },
  {
   "cell_type": "markdown",
   "id": "61109cc9-a120-4ecb-b70c-cd969ba24fd8",
   "metadata": {},
   "source": [
    "### The __init__() Function\n",
    "The examples above are classes and objects in their simplest form, and are not really useful in real life applications.\n",
    "\n",
    "To understand the meaning of classes we have to understand the built-in __init__() function.\n",
    "\n",
    "All classes have a function called __init__(), which is always executed when the class is being initiated.\n",
    "\n",
    "Use the __init__() function to assign values to object properties, or other operations that are necessary to do when the object is being created:"
   ]
  },
  {
   "cell_type": "code",
   "execution_count": null,
   "id": "0c957dbb-19b8-4320-aa2c-52e22c45e3a2",
   "metadata": {},
   "outputs": [
    {
     "name": "stdout",
     "output_type": "stream",
     "text": [
      "John\n",
      "36\n"
     ]
    }
   ],
   "source": [
    "\"\"\"\n",
    "Create a class named Person, use the __init__() function to assign values for name and age:\n",
    "\"\"\"\n",
    "\n",
    "class Person:\n",
    "  def __init__(self, name, age):\n",
    "    self.name = name\n",
    "    self.age = age\n",
    "    \n",
    "\n",
    "p1 = Person(\"John\", 36)\n",
    "\n",
    "print(p1.name)\n",
    "print(p1.age)"
   ]
  },
  {
   "cell_type": "markdown",
   "id": "a457dff1-2aca-4c21-91b6-7fd1c66b222d",
   "metadata": {},
   "source": [
    "### Function for addition"
   ]
  },
  {
   "cell_type": "code",
   "execution_count": null,
   "id": "374bf8fd-fda5-4211-bd25-6607bafc7160",
   "metadata": {},
   "outputs": [
    {
     "name": "stdout",
     "output_type": "stream",
     "text": [
      "Enter the first number:  5\n",
      "Enter the second number:  5\n"
     ]
    },
    {
     "name": "stdout",
     "output_type": "stream",
     "text": [
      "Addition: 10.0\n",
      "Subtraction: 0.0\n",
      "Multiplication: 25.0\n"
     ]
    }
   ],
   "source": [
    "def add(num1, num2):\n",
    "    return num1 + num2\n",
    "\n",
    "# Function for subtraction\n",
    "def subtract(num1, num2):\n",
    "    return num1 - num2\n",
    "\n",
    "# Function for multiplication\n",
    "def multiply(num1, num2):\n",
    "    return num1 * num2\n",
    "\n",
    "# Taking input from the user\n",
    "num1 = float(input(\"Enter the first number: \"))\n",
    "num2 = float(input(\"Enter the second number: \"))\n",
    "\n",
    "# Calling the functions and printing results\n",
    "print(\"Addition:\", add(num1, num2))\n",
    "print(\"Subtraction:\", subtract(num1, num2))\n",
    "print(\"Multiplication:\", multiply(num1, num2))"
   ]
  },
  {
   "cell_type": "code",
   "execution_count": null,
   "id": "3dedbd0a-a6d3-4646-8eb7-68918c3fb0e1",
   "metadata": {},
   "outputs": [
    {
     "name": "stdout",
     "output_type": "stream",
     "text": [
      "Addition: 10.0\n",
      "Subtraction: 0.0\n",
      "Multiplication: 25.0\n"
     ]
    }
   ],
   "source": [
    "\n",
    "\n",
    "class Retable:\n",
    "    # Constructor to initialize two numbers\n",
    "    def __init__(self, num1, num2):\n",
    "        self.num1 = num1\n",
    "        self.num2 = num2\n",
    "\n",
    "    # Method for addition\n",
    "    def add(self):\n",
    "        return self.num1 + self.num2\n",
    "\n",
    "    # Method for subtraction\n",
    "    def subtract(self):\n",
    "        return self.num1 - self.num2\n",
    "\n",
    "    # Method for multiplication\n",
    "    def multiply(self):\n",
    "        return self.num1 * self.num2\n",
    "\n",
    "# Taking input from the user\n",
    "num1 = float(input(\"Enter the first number: \"))\n",
    "num2 = float(input(\"Enter the second number: \"))\n",
    "\n",
    "# Creating an object of the Retable class\n",
    "math_operations = Retable(num1, num2)\n",
    "\n",
    "# Calling methods and printing results\n",
    "print(\"Addition:\", math_operations.add())\n",
    "print(\"Subtraction:\", math_operations.subtract())\n",
    "print(\"Multiplication:\", math_operations.multiply())\n"
   ]
  },
  {
   "cell_type": "code",
   "execution_count": 103,
   "id": "848b1cde-996c-4dc7-a591-a9c22ca85207",
   "metadata": {},
   "outputs": [
    {
     "name": "stdout",
     "output_type": "stream",
     "text": [
      "Multiplication: 25.0\n"
     ]
    }
   ],
   "source": [
    "print(\"Multiplication:\", math_operations.multiply())"
   ]
  },
  {
   "cell_type": "markdown",
   "id": "abea482c-653f-4e62-b6db-f758c7343f1b",
   "metadata": {},
   "source": [
    "### Note: The __init__() function is called automatically every time the class is being used to create a new object."
   ]
  },
  {
   "cell_type": "code",
   "execution_count": null,
   "id": "1af3528e-c34c-449b-a310-249b1af71c47",
   "metadata": {},
   "outputs": [],
   "source": [
    "\"\"\"\n",
    "Difference Between OOP and Functions (Procedural Programming)\n",
    "\n",
    "| **Aspect**              | **OOP (Object-Oriented Programming)**                                                                                               | **Functions (Procedural Programming)**                                                                 |\n",
    "|-------------------------|------------------------------------------------------------------------------------------------------------------------------------|-------------------------------------------------------------------------------------------------------|\n",
    "| **Focus**              | Focuses on **objects** (real-world entities) and how they interact.                                                                | Focuses on **functions** (step-by-step instructions to perform tasks).                               |\n",
    "| **Structure**          | Code is organized into **classes** (blueprints) and **objects** (instances of classes).                                           | Code is organized into **functions** (blocks of reusable code).                                      |\n",
    "| **Data Handling**       | Combines **data** (attributes) and **methods** (functions) in objects.                                                            | Data and functions are separate, and functions operate on the data.                                  |\n",
    "| **Encapsulation**       | Data is **encapsulated** within objects, which means it is protected and only accessible via methods.                              | No built-in mechanism for encapsulation; data is accessible directly.                                |\n",
    "| **Reusability**         | Promotes reusability through **inheritance** and **polymorphism** (reusing and overriding code).                                   | Functions can be reused, but there is no inheritance or polymorphism.                                |\n",
    "| **Example Use Case**    | Best for large, complex programs (e.g., a game, a banking system).                                                                | Best for small or simple programs (e.g., a calculator, file manipulation).                           |\n",
    "| **Real-World Mapping**  | Models real-world scenarios (e.g., a car object has attributes like color and methods like drive).                                 | Represents a sequence of tasks or operations to complete a process.                                  |\n",
    "| **Code Example**        | Classes and Objects (e.g., `class Car {}` with methods like `drive()`).                                                           | Functions only (e.g., `def drive():`).                                                               |\n",
    "\n",
    " Analogy:\n",
    "- ** OOP: ** Think of a car (object). It has attributes (color, model) and methods (drive, stop). Everything about the car is bundled together. \n",
    "- **Functions:** Think of a **recipe** (function). It gives you step-by-step instructions on how to prepare a dish but doesn’t bundle ingredients and tools into one entity.\n"
   ]
  },
  {
   "cell_type": "markdown",
   "id": "0dcb19c3-9627-4c7e-9796-386a0713f0ee",
   "metadata": {},
   "source": [
    "### The __str__() Function\n",
    "The __str__() function controls what should be returned when the class object is represented as a string.\n",
    "\n",
    "If the __str__() function is not set, the string representation of the object is returned:"
   ]
  },
  {
   "cell_type": "code",
   "execution_count": null,
   "id": "7eccf238-3574-4aea-bf96-fdf7813b2c68",
   "metadata": {},
   "outputs": [
    {
     "name": "stdout",
     "output_type": "stream",
     "text": [
      "<__main__.Person object at 0x000001924BCA2A20>\n"
     ]
    }
   ],
   "source": [
    "#The string representation of an object WITHOUT the __str__() function:\n",
    "\n",
    "class Person:\n",
    "  def __init__(self, name, age):\n",
    "    self.name = name\n",
    "    self.age = age\n",
    "\n",
    "p1 = Person(\"John\", 36)\n",
    "\n",
    "print(p1)"
   ]
  },
  {
   "cell_type": "markdown",
   "id": "bd4a7e2e-16e8-4410-9b6e-3fc85802c294",
   "metadata": {},
   "source": [
    "### Object Methods\n",
    "Objects can also contain methods. Methods in objects are functions that belong to the object.\n",
    "\n",
    "Let us create a method in the Person class:"
   ]
  },
  {
   "cell_type": "code",
   "execution_count": null,
   "id": "86accbc3-28e0-4240-b2e5-0fc78c45f5eb",
   "metadata": {},
   "outputs": [
    {
     "name": "stdout",
     "output_type": "stream",
     "text": [
      "Hello my name is John\n"
     ]
    }
   ],
   "source": [
    "#Insert a function that prints a greeting, and execute it on the p1 object:\n",
    "\n",
    "class Person:\n",
    "  def __init__(self, name, age):\n",
    "    self.name = name\n",
    "    self.age = age\n",
    "\n",
    "  def myfunc(self):\n",
    "    print(\"Hello my name is \" + self.name)\n",
    "\n",
    "p1 = Person(\"John\", 36)\n",
    "p1.myfunc()"
   ]
  },
  {
   "cell_type": "markdown",
   "id": "3f8c7ada-395b-4155-9571-4335b7c8da6d",
   "metadata": {},
   "source": [
    "### Note: The self parameter is a reference to the current instance of the class, and is used to access variables that belong to the class."
   ]
  },
  {
   "cell_type": "markdown",
   "id": "e78b2c73-2470-4523-8c0b-eb267278173a",
   "metadata": {},
   "source": [
    "### The self Parameter\n",
    "The self parameter is a reference to the current instance of the class, and is used to access variables that belong to the class.\n",
    "\n",
    "It does not have to be named self, you can call it whatever you like, but it has to be the first parameter of any function in the class:"
   ]
  },
  {
   "cell_type": "code",
   "execution_count": null,
   "id": "78fcfb56-ae60-40c7-b5da-ed73298dc2b8",
   "metadata": {},
   "outputs": [
    {
     "name": "stdout",
     "output_type": "stream",
     "text": [
      "Hello my name is Kaushik\n"
     ]
    }
   ],
   "source": [
    "class Person:\n",
    "  def __init__(mysillyobject, name, age):\n",
    "    mysillyobject.name = name\n",
    "    mysillyobject.age = age\n",
    "\n",
    "  def myfunc(abc):\n",
    "    print(\"Hello my name is \" + abc.name)\n",
    "\n",
    "p1 = Person(\"Kaushik\", 26)\n",
    "p1.myfunc()"
   ]
  },
  {
   "cell_type": "code",
   "execution_count": null,
   "id": "116027f9-0794-4cd8-9224-215fc2e9a2e9",
   "metadata": {},
   "outputs": [
    {
     "name": "stdout",
     "output_type": "stream",
     "text": [
      "Name: Kaushik, Age: 22\n"
     ]
    }
   ],
   "source": [
    "class Person:\n",
    "    def __init__(self, name, age):\n",
    "        self.name = name\n",
    "        self.age = age\n",
    "\n",
    "    def __str__(self):\n",
    "        return f\"Name: {self.name}, Age: {self.age}\"\n",
    "\n",
    "# Creating an object of the Person class\n",
    "person = Person(\"Kaushik\", 22)\n",
    "\n",
    "# Printing the object\n",
    "print(person)\n"
   ]
  },
  {
   "cell_type": "code",
   "execution_count": null,
   "id": "3b5328d4-d8af-4685-8479-2f4b1b1f4575",
   "metadata": {},
   "outputs": [],
   "source": [
    "\"\"\"\n",
    "Explanation:\n",
    "__str__ Method:\n",
    "\n",
    "This special method is used to define a user-friendly string representation of an object.\n",
    "When print() or str() is called on the object, it displays the string returned by __str__().\n",
    "\n",
    "\n",
    "\"\"\"\n",
    "\"\"\"\n",
    "Without the __str__() method, printing the object would show something like <__main__.Person object at 0x...>, which is less meaningful.\n",
    "\"\"\""
   ]
  },
  {
   "cell_type": "code",
   "execution_count": null,
   "id": "38d23d4d-85d2-4802-8456-892238600a6b",
   "metadata": {},
   "outputs": [
    {
     "name": "stdout",
     "output_type": "stream",
     "text": [
      "<__main__.Person object at 0x0000022EA6A27BC0>\n"
     ]
    }
   ],
   "source": [
    "class Person:\n",
    "    def __init__(self, name, age):\n",
    "        self.name = name\n",
    "        self.age = age\n",
    "\n",
    "# Creating an object of the Person class\n",
    "person = Person(\"Kaushik\", 22)\n",
    "\n",
    "# Printing the object\n",
    "print(person)\n"
   ]
  },
  {
   "cell_type": "markdown",
   "id": "ada54c74-66b3-42b5-8fa6-9d8d6444e471",
   "metadata": {},
   "source": [
    "### Modify Object Properties\n",
    "You can modify properties on objects like this:"
   ]
  },
  {
   "cell_type": "code",
   "execution_count": null,
   "id": "b9bf6b6a-1090-4316-8d72-e51532d5800e",
   "metadata": {},
   "outputs": [
    {
     "name": "stdout",
     "output_type": "stream",
     "text": [
      "40\n"
     ]
    }
   ],
   "source": [
    "class Person:\n",
    "  def __init__(self, name, age):\n",
    "    self.name = name\n",
    "    self.age = age\n",
    "\n",
    "  def myfunc(self):\n",
    "    print(\"Hello my name is \" + self.name)\n",
    "\n",
    "p1 = Person(\"John\", 36)\n",
    "\n",
    "p1.age = 40\n",
    "\n",
    "print(p1.age)\n"
   ]
  },
  {
   "cell_type": "markdown",
   "id": "c83a8b47-2841-4e08-b861-624d87f497bf",
   "metadata": {},
   "source": [
    "### Delete Object Properties\n",
    "You can delete properties on objects by using the del keyword:"
   ]
  },
  {
   "cell_type": "code",
   "execution_count": null,
   "id": "3a04f349-f298-4662-8c5f-6edcaaf3f0ef",
   "metadata": {},
   "outputs": [
    {
     "name": "stdout",
     "output_type": "stream",
     "text": [
      "John\n"
     ]
    },
    {
     "ename": "AttributeError",
     "evalue": "'Person' object has no attribute 'age'",
     "output_type": "error",
     "traceback": [
      "\u001b[1;31m---------------------------------------------------------------------------\u001b[0m",
      "\u001b[1;31mAttributeError\u001b[0m                            Traceback (most recent call last)",
      "Cell \u001b[1;32mIn[15], line 13\u001b[0m\n\u001b[0;32m     11\u001b[0m \u001b[38;5;28;01mdel\u001b[39;00m p1\u001b[38;5;241m.\u001b[39mage\n\u001b[0;32m     12\u001b[0m \u001b[38;5;28mprint\u001b[39m(p1\u001b[38;5;241m.\u001b[39mname)\n\u001b[1;32m---> 13\u001b[0m \u001b[38;5;28mprint\u001b[39m(p1\u001b[38;5;241m.\u001b[39mage)\n",
      "\u001b[1;31mAttributeError\u001b[0m: 'Person' object has no attribute 'age'"
     ]
    }
   ],
   "source": [
    "class Person:\n",
    "  def __init__(self, name, age):\n",
    "    self.name = name\n",
    "    self.age = age\n",
    "\n",
    "  def myfunc(self):\n",
    "    print(\"Hello my name is \" + self.name)\n",
    "\n",
    "p1 = Person(\"John\", 36)\n",
    "\n",
    "del p1.age\n",
    "print(p1.name)\n",
    "print(p1.age)\n"
   ]
  },
  {
   "cell_type": "markdown",
   "id": "219f6ecf-7268-4cfc-8656-b778d2813630",
   "metadata": {},
   "source": [
    "### Delete Objects\n",
    "You can delete objects by using the del keyword:"
   ]
  },
  {
   "cell_type": "code",
   "execution_count": null,
   "id": "04672bc3-0fc7-4084-957e-df5abd19cae2",
   "metadata": {},
   "outputs": [
    {
     "ename": "NameError",
     "evalue": "name 'p1' is not defined",
     "output_type": "error",
     "traceback": [
      "\u001b[1;31m---------------------------------------------------------------------------\u001b[0m",
      "\u001b[1;31mNameError\u001b[0m                                 Traceback (most recent call last)",
      "Cell \u001b[1;32mIn[17], line 13\u001b[0m\n\u001b[0;32m      9\u001b[0m p1 \u001b[38;5;241m=\u001b[39m Person(\u001b[38;5;124m\"\u001b[39m\u001b[38;5;124mJohn\u001b[39m\u001b[38;5;124m\"\u001b[39m, \u001b[38;5;241m36\u001b[39m)\n\u001b[0;32m     11\u001b[0m \u001b[38;5;28;01mdel\u001b[39;00m p1\n\u001b[1;32m---> 13\u001b[0m \u001b[38;5;28mprint\u001b[39m(p1)\n",
      "\u001b[1;31mNameError\u001b[0m: name 'p1' is not defined"
     ]
    }
   ],
   "source": [
    "class Person:\n",
    "  def __init__(self, name, age):\n",
    "    self.name = name\n",
    "    self.age = age\n",
    "\n",
    "  def myfunc(self):\n",
    "    print(\"Hello my name is \" + self.name)\n",
    "\n",
    "p1 = Person(\"John\", 36)\n",
    "\n",
    "del p1\n",
    "\n",
    "print(p1)"
   ]
  },
  {
   "cell_type": "code",
   "execution_count": null,
   "id": "4806a31c-5398-4223-9a0d-4daa2d04d859",
   "metadata": {},
   "outputs": [],
   "source": [
    "class Person:\n",
    "    def __init__(self, name, age):\n",
    "        self.name = name\n",
    "        self.age = age\n",
    "\n",
    "    def myfunc(self):\n",
    "        print(\"Hello my name is \" + self.name)\n",
    "\n",
    "p1 = Person(\"John\", 36)  # Creating an object\n",
    "p2 = Person(\"Jane\", 28)  # Creating another object\n",
    "\n",
    "del p1  # Deleting p1"
   ]
  },
  {
   "cell_type": "code",
   "execution_count": null,
   "id": "13725441-2851-419c-b5ad-07cecb44d741",
   "metadata": {},
   "outputs": [
    {
     "name": "stdout",
     "output_type": "stream",
     "text": [
      "Name: Jane , Age: 28\n"
     ]
    }
   ],
   "source": [
    "# Printing p2 instead of p1\n",
    "print(\"Name:\", p2.name, \", Age:\", p2.age)  # Accessing p2 attributes"
   ]
  },
  {
   "cell_type": "markdown",
   "id": "7bff9e50-4922-434d-9d14-c028d94fa0b8",
   "metadata": {},
   "source": [
    "### The pass Statement\n",
    "class definitions cannot be empty, but if you for some reason have a class definition with no content, put in the pass statement to avoid getting an error."
   ]
  },
  {
   "cell_type": "code",
   "execution_count": null,
   "id": "70d9856a-7262-44be-aaeb-b1675e6db411",
   "metadata": {},
   "outputs": [],
   "source": [
    "class Person:\n",
    "  pass\n",
    "\n",
    "# having an empty class definition like this, would raise an error without the pass statement\n"
   ]
  },
  {
   "cell_type": "markdown",
   "id": "fd53f87d-b11a-4a6b-83d4-82b1ac95b43c",
   "metadata": {},
   "source": [
    "## Python Inheritance"
   ]
  },
  {
   "cell_type": "markdown",
   "id": "d60f5eec-c230-42a1-a101-4ffd291d6fc3",
   "metadata": {},
   "source": [
    "### Inheritance allows us to define a class that inherits all the methods and properties from another class.\n",
    "\n",
    "Parent class is the class being inherited from, also called base class.\n",
    "\n",
    "Child class is the class that inherits from another class, also called derived clas class:"
   ]
  },
  {
   "cell_type": "markdown",
   "id": "6170fe84-dbe8-4899-90bd-5ae50acdddcb",
   "metadata": {},
   "source": [
    "## Create a Parent Class\n",
    "Any class can be a parent class, so the syntax is the same as creating any other class:"
   ]
  },
  {
   "cell_type": "code",
   "execution_count": null,
   "id": "86f25341-2f3c-46e9-8807-77506fa6580e",
   "metadata": {},
   "outputs": [
    {
     "name": "stdout",
     "output_type": "stream",
     "text": [
      "John Doe\n"
     ]
    }
   ],
   "source": [
    "#Create a class named Person, with firstname and lastname properties, and a printname method:\n",
    "\n",
    "class Person:\n",
    "  def __init__(self, fname, lname):\n",
    "    self.firstname = fname\n",
    "    self.lastname = lname\n",
    "\n",
    "  def printname(self):\n",
    "    print(self.firstname, self.lastname)\n",
    "\n",
    "#Use the Person class to create an object, and then execute the printname method:\n",
    "\n",
    "x = Person(\"John\", \"Doe\")\n",
    "x.printname()"
   ]
  },
  {
   "cell_type": "markdown",
   "id": "9f11d039-b08f-4e90-8f4a-9760366cfaeb",
   "metadata": {},
   "source": [
    "## Create a Child Class\n",
    "To create a class that inherits the functionality from another class, send the parent class as a parameter when creating the child class:"
   ]
  },
  {
   "cell_type": "code",
   "execution_count": null,
   "id": "e7db27a1-7337-4c4d-982b-40b327a8de78",
   "metadata": {},
   "outputs": [
    {
     "name": "stdout",
     "output_type": "stream",
     "text": [
      "Mike Olsen\n"
     ]
    }
   ],
   "source": [
    "class Person:\n",
    "  def __init__(self, fname, lname):\n",
    "    self.firstname = fname\n",
    "    self.lastname = lname\n",
    "\n",
    "  def printname(self):\n",
    "    print(self.firstname, self.lastname)\n",
    "\n",
    "class Student(Person):\n",
    "  pass\n",
    "\n",
    "x = Student(\"Mike\", \"Olsen\")\n",
    "x.printname()\n"
   ]
  },
  {
   "cell_type": "markdown",
   "id": "f271f615-7949-46ab-99a1-69a519620528",
   "metadata": {},
   "source": [
    "### Add the __init__() Function\n",
    "So far we have created a child class that inherits the properties and methods from its parent.\n",
    "\n",
    "We want to add the __init__() function to the child class (instead of the pass keyword).\n",
    "\n",
    "Note: The __init__() function is called automatically every time the class is being used to create a new object."
   ]
  },
  {
   "cell_type": "code",
   "execution_count": null,
   "id": "304aa2b2-1ba0-409e-a71e-fb189b39b3e7",
   "metadata": {},
   "outputs": [],
   "source": [
    "#Add the __init__() function to the Student class:\n",
    "\n",
    "class Student(Person):\n",
    "  def __init__(self, fname, lname):\n",
    "    #add properties etc.\n",
    "#When you add the __init__() function, the child class will no longer inherit (acquire) the parent's __init__() function."
   ]
  },
  {
   "cell_type": "markdown",
   "id": "87202499-6b3e-4e75-8f06-ff17c511e022",
   "metadata": {},
   "source": [
    "### Note: The child's __init__() function overrides the inheritance of the parent's __init__() function.\n",
    "\n",
    "To keep the inheritance of the parent's __init__() function, add a call to the parent's __init__() function:"
   ]
  },
  {
   "cell_type": "code",
   "execution_count": null,
   "id": "701f0aef-0263-4e82-87ae-09f85515e375",
   "metadata": {},
   "outputs": [
    {
     "name": "stdout",
     "output_type": "stream",
     "text": [
      "Mike Olsen\n"
     ]
    }
   ],
   "source": [
    "class Person:\n",
    "  def __init__(self, fname, lname):\n",
    "    self.firstname = fname\n",
    "    self.lastname = lname\n",
    "\n",
    "  def printname(self):\n",
    "    print(self.firstname, self.lastname)\n",
    "\n",
    "class Student(Person):\n",
    "  def __init__(self, fname, lname):\n",
    "    Person.__init__(self, fname, lname)\n",
    "\n",
    "x = Student(\"Mike\", \"Olsen\")\n",
    "x.printname()\n"
   ]
  },
  {
   "cell_type": "markdown",
   "id": "bebd0fc0-f2e6-426d-b986-4549675b1d15",
   "metadata": {},
   "source": [
    "### Now we have successfully added the __init__() function, and kept the inheritance of the parent class, and we are ready to add functionality in the __init__() function."
   ]
  },
  {
   "cell_type": "code",
   "execution_count": null,
   "id": "8d306650-397f-4ff0-bfcb-739702173a29",
   "metadata": {},
   "outputs": [
    {
     "name": "stdout",
     "output_type": "stream",
     "text": [
      "Addition: 15\n",
      "Subtraction: 5\n",
      "Multiplication: 50\n",
      "Division: 2.0\n"
     ]
    }
   ],
   "source": [
    "### DO IT NOW! \n",
    "\n",
    "# Parent Class\n",
    "class MathOperations:\n",
    "    def __init__(self, num1, num2):\n",
    "        self.num1 = num1\n",
    "        self.num2 = num2\n",
    "\n",
    "    def add(self):\n",
    "        return self.num1 + self.num2\n",
    "\n",
    "    def subtract(self):\n",
    "        return self.num1 - self.num2\n",
    "\n",
    "# Child Class\n",
    "class AdvancedMathOperations(MathOperations):\n",
    "    def multiply(self):\n",
    "        return self.num1 * self.num2\n",
    "\n",
    "    def divide(self):\n",
    "\n",
    "        \n",
    "        return self.num1 / self.num2 if self.num2 != 0 else \"Cannot divide by zero\"\n",
    "\n",
    "# Creating an object of the child class\n",
    "math_ops = AdvancedMathOperations(10, 5)\n",
    "\n",
    "# Performing operations\n",
    "print(\"Addition:\", math_ops.add())         # Inherited from Parent\n",
    "print(\"Subtraction:\", math_ops.subtract()) # Inherited from Parent\n",
    "print(\"Multiplication:\", math_ops.multiply()) # Defined in Child\n",
    "print(\"Division:\", math_ops.divide())         # Defined in Child\n"
   ]
  },
  {
   "cell_type": "markdown",
   "id": "1701f895-9198-411c-bfc2-cb39dd841ac2",
   "metadata": {},
   "source": [
    "### Use the super() Function\n",
    "#### Python's super() function accesses methods or properties from a parent class. It is useful when you want to use or extend functionality from the parent class to a child class.\n",
    "\n",
    " ## Think of it as:\n",
    " ### The child class asks the Parent class for help.\n",
    " ### How does it work?\n",
    " #### It calls a method or property from the parent class.\n",
    " #### It avoids directly naming the parent class, so your code is flexible.:"
   ]
  },
  {
   "cell_type": "code",
   "execution_count": null,
   "id": "78eded97-6ac5-4e15-9e92-be8500fa81c9",
   "metadata": {},
   "outputs": [
    {
     "name": "stdout",
     "output_type": "stream",
     "text": [
      "Hello from Parent!\n",
      "Hello from Child!\n"
     ]
    }
   ],
   "source": [
    "class Parent:\n",
    "    def greet(self):\n",
    "        print(\"Hello from Parent!\")\n",
    "\n",
    "class Child(Parent):\n",
    "    def greet(self):\n",
    "        super().greet()  # Call the greet method of Parent\n",
    "        print(\"Hello from Child!\")\n",
    "\n",
    "# Using the classes\n",
    "c = Child()\n",
    "c.greet()\n"
   ]
  },
  {
   "cell_type": "markdown",
   "id": "12d97e8e-2418-4f68-98ab-cb3870fb2c10",
   "metadata": {},
   "source": [
    "### By using the super() function, you do not have to use the name of the parent element, it will automatically inherit the methods and properties from its parent."
   ]
  },
  {
   "cell_type": "markdown",
   "id": "f01a8e48-162e-46c5-a9a5-b180fef5da80",
   "metadata": {},
   "source": [
    "#### Add Properties\n"
   ]
  },
  {
   "cell_type": "markdown",
   "id": "92bbf5ef-ce6f-407e-97c8-92e1af0bf997",
   "metadata": {},
   "source": [
    "##### Example\n"
   ]
  },
  {
   "cell_type": "markdown",
   "id": "7aeb1b48-c6c4-4439-88a8-2636eb2d9ca7",
   "metadata": {},
   "source": [
    "### Add a property called graduationyear to the Student class:"
   ]
  },
  {
   "cell_type": "code",
   "execution_count": null,
   "id": "587c1152-befb-4e77-86b3-0f50a3812864",
   "metadata": {},
   "outputs": [
    {
     "name": "stdout",
     "output_type": "stream",
     "text": [
      "2019\n"
     ]
    }
   ],
   "source": [
    "class Person:\n",
    "  def __init__(self, fname, lname):\n",
    "    self.firstname = fname\n",
    "    self.lastname = lname\n",
    "\n",
    "  def printname(self):\n",
    "    print(self.firstname, self.lastname)\n",
    "\n",
    "class Student(Person):\n",
    "  def __init__(self, fname, lname):\n",
    "    super().__init__(fname, lname)\n",
    "    self.graduationyear = 2019\n",
    "\n",
    "x = Student(\"Mike\", \"Olsen\")\n",
    "print(x.graduationyear)\n"
   ]
  },
  {
   "cell_type": "markdown",
   "id": "f9383e85-719a-4f96-b8cf-218c89afced6",
   "metadata": {},
   "source": [
    "#### In the example below, the year 2019 should be a variable, and passed into the Student class when creating student objects. To do so, add another parameter in the __init__() function:"
   ]
  },
  {
   "cell_type": "markdown",
   "id": "14128860-2cc7-4c71-b01b-bff69df3df99",
   "metadata": {},
   "source": [
    "### Add a year parameter, and pass the correct year when creating objects:\n"
   ]
  },
  {
   "cell_type": "code",
   "execution_count": null,
   "id": "b199299f-c1c4-496b-951d-2811f2bd8b59",
   "metadata": {},
   "outputs": [
    {
     "name": "stdout",
     "output_type": "stream",
     "text": [
      "2019\n"
     ]
    }
   ],
   "source": [
    "class Person:\n",
    "  def __init__(self, fname, lname):\n",
    "    self.firstname = fname\n",
    "    self.lastname = lname\n",
    "\n",
    "  def printname(self):\n",
    "    print(self.firstname, self.lastname)\n",
    "\n",
    "class Student(Person):\n",
    "  def __init__(self, fname, lname, year):\n",
    "    super().__init__(fname, lname)\n",
    "    self.graduationyear = year\n",
    "\n",
    "x = Student(\"Mike\", \"Olsen\", 2019)\n",
    "print(x.graduationyear)\n"
   ]
  },
  {
   "cell_type": "markdown",
   "id": "4ea3008b-a18c-4d6a-a47a-1c9751f20382",
   "metadata": {},
   "source": [
    "# Add Methods"
   ]
  },
  {
   "cell_type": "markdown",
   "id": "9908ecd7-c9c1-4ba7-9758-1e138b8b2f32",
   "metadata": {},
   "source": [
    "## Example"
   ]
  },
  {
   "cell_type": "markdown",
   "id": "d9f4475e-36b6-4a74-bef8-866025af183a",
   "metadata": {},
   "source": [
    "### Add a method called welcome to the Student class:"
   ]
  },
  {
   "cell_type": "code",
   "execution_count": null,
   "id": "815a8bbf-4a54-42e7-b736-2d09a0d2b7e8",
   "metadata": {},
   "outputs": [
    {
     "name": "stdout",
     "output_type": "stream",
     "text": [
      "Welcome Mike Olsen to the class of 2024\n"
     ]
    }
   ],
   "source": [
    "class Person:\n",
    "  def __init__(self, fname, lname):\n",
    "    self.firstname = fname\n",
    "    self.lastname = lname\n",
    "\n",
    "  def printname(self):\n",
    "    print(self.firstname, self.lastname)\n",
    "\n",
    "class Student(Person):\n",
    "  def __init__(self, fname, lname, year):\n",
    "    super().__init__(fname, lname)\n",
    "    self.graduationyear = year\n",
    "\n",
    "  def welcome(self):\n",
    "    print(\"Welcome\", self.firstname, self.lastname, \"to the class of\", self.graduationyear) \n",
    "\n",
    "x = Student(\"Mike\", \"Olsen\", 2024)\n",
    "x.welcome()\n"
   ]
  },
  {
   "cell_type": "markdown",
   "id": "2ea62812-e692-4915-acbf-8fe9b11ac01b",
   "metadata": {},
   "source": [
    "### If you add a method in the child class with the same name as a function in the parent class, the inheritance of the parent method will be overridden.\n",
    "\n"
   ]
  },
  {
   "cell_type": "markdown",
   "id": "76cbd10c-2f86-4c3d-86c0-ca90a9c9be2f",
   "metadata": {},
   "source": [
    "# Python Iterators"
   ]
  },
  {
   "cell_type": "markdown",
   "id": "f612c1a5-2ceb-4e39-9170-e6970ae63b93",
   "metadata": {},
   "source": [
    "### https://cdn.educba.com/academy/wp-content/uploads/2019/12/Iterator-in-Python.jpg"
   ]
  },
  {
   "cell_type": "raw",
   "id": "382a2a61-22e7-4b70-aef5-51dca298806c",
   "metadata": {},
   "source": [
    "mytuple = (\"apple\", \"banana\", \"cherry\")\n",
    "myit = iter(mytuple)\n",
    "\n",
    "print(next(myit))\n",
    "print(next(myit))\n"
   ]
  },
  {
   "cell_type": "markdown",
   "id": "058fabf8-88da-4338-826b-5128b54f3de1",
   "metadata": {},
   "source": [
    "##### Even strings are iterable objects, and can return an iterator:rs:"
   ]
  },
  {
   "cell_type": "markdown",
   "id": "630452b1-90c3-41a9-b415-3fd0f3be0383",
   "metadata": {},
   "source": [
    "### Strings are also iterable objects, containing a sequence of characters:"
   ]
  },
  {
   "cell_type": "code",
   "execution_count": null,
   "id": "72f57fb8-b28f-4564-ab48-04dee349befe",
   "metadata": {},
   "outputs": [
    {
     "name": "stdout",
     "output_type": "stream",
     "text": [
      "b\n",
      "a\n",
      "n\n",
      "a\n",
      "n\n",
      "a\n"
     ]
    }
   ],
   "source": [
    "mystr = \"banana\"\n",
    "myit = iter(mystr)\n",
    "\n",
    "print(next(myit))\n",
    "print(next(myit))\n",
    "print(next(myit))\n",
    "print(next(myit))\n",
    "print(next(myit))\n",
    "print(next(myit))\n"
   ]
  },
  {
   "cell_type": "markdown",
   "id": "9db977a4-8a09-466a-9fa1-a5ed372809e6",
   "metadata": {},
   "source": [
    "### Looping Through an Iterator\n",
    "We can also use a for loop to iterate through an iterable object:"
   ]
  },
  {
   "cell_type": "code",
   "execution_count": null,
   "id": "b72e4f57-3363-4e22-ba8c-42756daa7940",
   "metadata": {},
   "outputs": [
    {
     "name": "stdout",
     "output_type": "stream",
     "text": [
      "apple\n",
      "banana\n",
      "cherry\n"
     ]
    }
   ],
   "source": [
    "#Iterate the values of a tuple:\n",
    "\n",
    "mytuple = (\"apple\", \"banana\", \"cherry\")\n",
    "\n",
    "for x in mytuple:\n",
    "  print(x)"
   ]
  },
  {
   "cell_type": "code",
   "execution_count": null,
   "id": "b6b9c390-e02a-42df-a92f-7e16e669ff12",
   "metadata": {},
   "outputs": [
    {
     "name": "stdout",
     "output_type": "stream",
     "text": [
      "b\n",
      "a\n",
      "n\n",
      "a\n",
      "n\n",
      "a\n"
     ]
    }
   ],
   "source": [
    "#Iterate the characters of a string:\n",
    "\n",
    "mystr = \"banana\"\n",
    "\n",
    "for x in mystr:\n",
    "  print(x)\n",
    "\n",
    "#The for loop creates an iterator object and executes the next() method for each loop."
   ]
  },
  {
   "cell_type": "markdown",
   "id": "a2911285-359f-45e2-b3f2-29e5a71c242a",
   "metadata": {},
   "source": [
    "### Create an Iterator\n",
    "To create an object/class as an iterator you have to implement the methods __iter__() and __next__() to your object.\n",
    "\n",
    "As you have learned in the Python Classes/Objects chapter, all classes have a function called __init__(), which allows you to do some initializing when the object is being created.\n",
    "\n",
    "The __iter__() method acts similar, you can do operations (initializing etc.), but must always return the iterator object itself.\n",
    "\n",
    "The __next__() method also allows you to do operations, and must return the next item in the sequence."
   ]
  },
  {
   "cell_type": "code",
   "execution_count": null,
   "id": "a410ac19-aea4-4173-a53a-864091738fae",
   "metadata": {},
   "outputs": [
    {
     "name": "stdout",
     "output_type": "stream",
     "text": [
      "1\n",
      "2\n",
      "3\n",
      "4\n",
      "5\n"
     ]
    }
   ],
   "source": [
    "#Create an iterator that returns numbers, starting with 1, and each sequence will increase by one (returning 1,2,3,4,5 etc.):\n",
    "\n",
    "class MyNumbers:\n",
    "  def __iter__(self):\n",
    "    self.a = 1\n",
    "    return self\n",
    "\n",
    "  def __next__(self):\n",
    "    x = self.a\n",
    "    self.a += 1\n",
    "    return x\n",
    "\n",
    "myclass = MyNumbers()\n",
    "myiter = iter(myclass)\n",
    "\n",
    "print(next(myiter))\n",
    "print(next(myiter))\n",
    "print(next(myiter))\n",
    "print(next(myiter))\n",
    "print(next(myiter))"
   ]
  },
  {
   "cell_type": "markdown",
   "id": "92df56ec-5985-4da0-935d-0463b4635241",
   "metadata": {},
   "source": [
    "### StopIteration\n",
    "The example above would continue forever if you had enough next() statements, or if it was used in a for loop.\n",
    "\n",
    "To prevent the iteration from going on forever, we can use the StopIteration statement.\n",
    "\n",
    "In the __next__() method, we can add a terminating condition to raise an error if the iteration is done a specified number of times:\n",
    "\n",
    " - Example"
   ]
  },
  {
   "cell_type": "code",
   "execution_count": null,
   "id": "33987844-bdbf-461e-b873-f399ef478e00",
   "metadata": {},
   "outputs": [
    {
     "name": "stdout",
     "output_type": "stream",
     "text": [
      "1\n",
      "2\n",
      "3\n",
      "4\n",
      "5\n",
      "6\n",
      "7\n",
      "8\n",
      "9\n",
      "10\n",
      "11\n",
      "12\n",
      "13\n",
      "14\n",
      "15\n",
      "16\n",
      "17\n",
      "18\n",
      "19\n",
      "20\n"
     ]
    }
   ],
   "source": [
    "#Stop after 20 iterations:\n",
    "\n",
    "class MyNumbers:\n",
    "  def __iter__(self):\n",
    "    self.a = 1\n",
    "    return self\n",
    "\n",
    "  def __next__(self):\n",
    "    if self.a <= 20:\n",
    "      x = self.a\n",
    "      self.a += 1\n",
    "      return x\n",
    "    else:\n",
    "      raise StopIteration\n",
    "\n",
    "myclass = MyNumbers()\n",
    "myiter = iter(myclass)\n",
    "\n",
    "for x in myiter:\n",
    "  print(x)"
   ]
  },
  {
   "cell_type": "markdown",
   "id": "cf40c452-b40c-4d4f-850e-fab3e765cded",
   "metadata": {},
   "source": [
    "# Polymorphism "
   ]
  },
  {
   "cell_type": "markdown",
   "id": "e504392b-9a4c-40f5-96ce-c43048273123",
   "metadata": {},
   "source": [
    "### The word \"polymorphism\" means \"many forms\", and in programming it refers to methods/functions/operators with the same name that can be executed on many objects or classes."
   ]
  },
  {
   "cell_type": "markdown",
   "id": "bae5c9fc-5df5-48d1-a4b4-037a676ddb8e",
   "metadata": {},
   "source": [
    "### Function Polymorphism\n",
    "An example of a Python function that can be used on different objects is the len() function.#### \n",
    "\n",
    "String\n",
    "For strings len() returns the number of characters:"
   ]
  },
  {
   "cell_type": "code",
   "execution_count": null,
   "id": "5c3837df-599e-4707-a284-6ad7c25cc118",
   "metadata": {},
   "outputs": [
    {
     "name": "stdout",
     "output_type": "stream",
     "text": [
      "12\n"
     ]
    }
   ],
   "source": [
    "x = \"Hello World!\"\n",
    "\n",
    "print(len(x))"
   ]
  },
  {
   "cell_type": "markdown",
   "id": "2242f9b9-0d79-48d8-803d-4cc0f7f99cb8",
   "metadata": {},
   "source": [
    "### Tuple\n",
    "For tuples len() returns the number of items in the tuple:"
   ]
  },
  {
   "cell_type": "code",
   "execution_count": null,
   "id": "755686a9-6e82-439b-a03c-0e053b2c6ba3",
   "metadata": {},
   "outputs": [
    {
     "name": "stdout",
     "output_type": "stream",
     "text": [
      "3\n"
     ]
    }
   ],
   "source": [
    "mytuple = (\"apple\", \"banana\", \"cherry\")\n",
    "\n",
    "print(len(mytuple))"
   ]
  },
  {
   "cell_type": "markdown",
   "id": "ca723853-4af0-4518-915c-586f25a2f26e",
   "metadata": {},
   "source": [
    "### Dictionary\n",
    "#### For dictionaries len() returns the number of key/value pairs in the dictionary:"
   ]
  },
  {
   "cell_type": "code",
   "execution_count": null,
   "id": "5d21161d-ee3a-447f-a971-c6b0000a380e",
   "metadata": {},
   "outputs": [
    {
     "name": "stdout",
     "output_type": "stream",
     "text": [
      "3\n"
     ]
    }
   ],
   "source": [
    "thisdict = {\n",
    "  \"brand\": \"Ford\",\n",
    "  \"model\": \"Mustang\",\n",
    "  \"year\": 1964\n",
    "}\n",
    "\n",
    "print(len(thisdict))"
   ]
  },
  {
   "cell_type": "markdown",
   "id": "d50cac8e-75d6-4dc1-91a5-a6df6196a083",
   "metadata": {},
   "source": [
    "## Class Polymorphism\n",
    "Polymorphism is often used in Class methods, where we can have multiple classes with the same method name.\n",
    "\n",
    "For example, say we have three classes: Car, Boat, and Plane, and they all have a method called move():"
   ]
  },
  {
   "cell_type": "markdown",
   "id": "538d68fc-644c-42ba-8596-9de16e63a745",
   "metadata": {},
   "source": [
    "##### Different classes with the same method:"
   ]
  },
  {
   "cell_type": "code",
   "execution_count": null,
   "id": "bd10294b-b556-438b-bfcb-b8e239acf32c",
   "metadata": {},
   "outputs": [
    {
     "name": "stdout",
     "output_type": "stream",
     "text": [
      "Drive!\n",
      "Sail!\n",
      "Fly!\n"
     ]
    }
   ],
   "source": [
    "class Car:\n",
    "  def __init__(self, brand, model):\n",
    "    self.brand = brand\n",
    "    self.model = model\n",
    "\n",
    "  def move(self):\n",
    "    print(\"Drive!\")\n",
    "\n",
    "class Boat:\n",
    "  def __init__(self, brand, model):\n",
    "    self.brand = brand\n",
    "    self.model = model\n",
    "\n",
    "  def move(self):\n",
    "    print(\"Sail!\")\n",
    "\n",
    "class Plane:\n",
    "  def __init__(self, brand, model):\n",
    "    self.brand = brand\n",
    "    self.model = model\n",
    "\n",
    "  def move(self):\n",
    "    print(\"Fly!\")\n",
    "\n",
    "car1 = Car(\"Ford\", \"Mustang\")       #Create a Car class\n",
    "boat1 = Boat(\"Ibiza\", \"Touring 20\") #Create a Boat class\n",
    "plane1 = Plane(\"Boeing\", \"747\")     #Create a Plane class\n",
    "\n",
    "for x in (car1, boat1, plane1):\n",
    "  x.move()"
   ]
  },
  {
   "cell_type": "markdown",
   "id": "c3a17617-bc7a-4daf-86d4-7ed67b9f2b60",
   "metadata": {},
   "source": [
    "### Overloading "
   ]
  },
  {
   "cell_type": "markdown",
   "id": "98fe9e14-c6cd-4485-b848-abd0b44ef543",
   "metadata": {},
   "source": [
    "### https://d1jnx9ba8s6j9r.cloudfront.net/blog/wp-content/uploads/2019/08/Method-Overloading-in-Python.jpg"
   ]
  },
  {
   "cell_type": "markdown",
   "id": "0e71dd89-390a-42c9-9aef-9fe1d874e989",
   "metadata": {},
   "source": [
    "#### in Python is a programming concept that allows multiple functions or methods to share the same name but have different parameters or behaviors"
   ]
  },
  {
   "cell_type": "markdown",
   "id": "6af57398-836d-41cc-9c75-37566f324289",
   "metadata": {},
   "source": [
    "##### Overloading happens when multiple methods have the same name but different parameters (number or type). Python doesn’t directly support method overloading like some other languages (e.g., Java). Instead, we can achieve it by giving default values to arguments or using *args and **kwargs."
   ]
  },
  {
   "cell_type": "code",
   "execution_count": null,
   "id": "e6122dc7-ecbd-4a48-b79f-b11325a61772",
   "metadata": {},
   "outputs": [
    {
     "name": "stdout",
     "output_type": "stream",
     "text": [
      "Welcome to Coding Cloud!\n",
      "Welcome to Vedant!\n"
     ]
    }
   ],
   "source": [
    "class CodingCloud:\n",
    "    def welcome(self, name=\"Coding Cloud\"):  # Default name is \"Coding Cloud\"\n",
    "        return f\"Welcome to {name}!\"\n",
    "\n",
    "# Create an object of the class\n",
    "cloud = CodingCloud()\n",
    "\n",
    "# Calling the method with and without arguments\n",
    "print(cloud.welcome())            # Output: Welcome to Coding Cloud!\n",
    "print(cloud.welcome(\"Vedant\"))    # Output: Welcome to Coding Cloud Vedant!\n"
   ]
  },
  {
   "cell_type": "markdown",
   "id": "6c0aee82-7671-4006-8f81-a57fee8b6391",
   "metadata": {},
   "source": [
    "### Overriding"
   ]
  },
  {
   "cell_type": "markdown",
   "id": "f3b65194-eaf7-4df1-a948-74afff4f5c32",
   "metadata": {},
   "source": [
    "### https://www.scientecheasy.com/wp-content/uploads/2023/10/python-method-overriding-example.png"
   ]
  },
  {
   "cell_type": "markdown",
   "id": "7e73f540-8838-48c4-aa51-0c73fe075a78",
   "metadata": {},
   "source": [
    "### Overwriting happens when a child class has a method with the same name as one in the parent class. The child class’s method replaces the parent’s method."
   ]
  },
  {
   "cell_type": "code",
   "execution_count": null,
   "id": "ce3f8752-75cd-4140-8421-11b51d0a4117",
   "metadata": {},
   "outputs": [
    {
     "name": "stdout",
     "output_type": "stream",
     "text": [
      "Hello from Child\n"
     ]
    }
   ],
   "source": [
    "class Parent:\n",
    "    def greet(self):\n",
    "        return \"Hello from Parent\"\n",
    "\n",
    "class Child(Parent):\n",
    "    def greet(self):\n",
    "        return \"Hello from Child\"\n",
    "\n",
    "child = Child()\n",
    "print(child.greet())  # Output: Hello from Child\n"
   ]
  },
  {
   "cell_type": "markdown",
   "id": "4436bf9c-ca9c-46ce-bbd6-5ea6582a3cb5",
   "metadata": {},
   "source": [
    "### Inheritance Class Polymorphism\n",
    "What about classes with child classes with the same name? Can we use polymorphism there?\n",
    "\n",
    "Yes. If we use the example above and make a parent class called Vehicle, and make Car, Boat, Plane child classes of Vehicle, the child classes inherits the Vehicle methods, but can override them:"
   ]
  },
  {
   "cell_type": "code",
   "execution_count": null,
   "id": "38b59e27-3067-48de-9bfd-ff19a36f30b1",
   "metadata": {},
   "outputs": [
    {
     "name": "stdout",
     "output_type": "stream",
     "text": [
      "Ford\n",
      "Mustang\n",
      "Move!\n",
      "Ibiza\n",
      "Touring 20\n",
      "Sail!\n",
      "Boeing\n",
      "747\n",
      "Fly!\n"
     ]
    }
   ],
   "source": [
    "#Create a class called Vehicle and make Car, Boat, Plane child classes of Vehicle:\n",
    "class Vehicle:\n",
    "  def __init__(self, brand, model):\n",
    "    self.brand = brand\n",
    "    self.model = model\n",
    "\n",
    "  def move(self):\n",
    "    print(\"Move!\")\n",
    "\n",
    "class Car(Vehicle):\n",
    "  pass\n",
    "\n",
    "class Boat(Vehicle):\n",
    "  def move(self):\n",
    "    print(\"Sail!\")\n",
    "\n",
    "class Plane(Vehicle):\n",
    "  def move(self):\n",
    "    print(\"Fly!\")\n",
    "\n",
    "car1 = Car(\"Ford\", \"Mustang\") #Create a Car object\n",
    "boat1 = Boat(\"Ibiza\", \"Touring 20\") #Create a Boat object\n",
    "plane1 = Plane(\"Boeing\", \"747\") #Create a Plane object\n",
    "\n",
    "for x in (car1, boat1, plane1):\n",
    "  print(x.brand)\n",
    "  print(x.model)\n",
    "  x.move()\n",
    "\n",
    "\"\"\"\n",
    "Child classes inherits the properties and methods from the parent class.\n",
    "\n",
    "In the example above you can see that the Car class is empty, but it inherits brand, model, and move() from Vehicle.\n",
    "\n",
    "The Boat and Plane classes also inherit brand, model, and move() from Vehicle, but they both override the move() method.\n",
    "\n",
    "Because of polymorphism we can execute the same method for all classes.\n",
    "\n",
    "\"\"\""
   ]
  },
  {
   "cell_type": "markdown",
   "id": "d2713f74-d87e-4664-b7ef-be3b71faaf1f",
   "metadata": {},
   "source": [
    "### Encapsulation in Python"
   ]
  },
  {
   "cell_type": "markdown",
   "id": "51d8e570-09b1-4050-b095-e0181b9587c5",
   "metadata": {},
   "source": [
    "##### Encapsulation means hiding the internal details of a class and only allowing access to what is necessary. It protects the data by keeping it private and controlling how it’s accessed or changed."
   ]
  },
  {
   "cell_type": "markdown",
   "id": "764f1565-870a-4443-a208-b3da8c3c1e7f",
   "metadata": {},
   "source": [
    "### simple words:\n",
    "\n",
    "#### Think of a TV remote. You can press buttons to change the channel or volume, but you don’t need to know how the remote works internally.\n",
    "#### In Python, we use private variables (by adding _ or __ before their names) and methods to achieve this."
   ]
  },
  {
   "cell_type": "markdown",
   "id": "0d11b97d-4abf-4864-ac0a-c1fc87bd706b",
   "metadata": {},
   "source": [
    "### https://www.scientecheasy.com/wp-content/uploads/2023/10/python-encapsulation-example.png"
   ]
  },
  {
   "cell_type": "markdown",
   "id": "618fcf4b-712b-4dd1-92a8-323cbc55c1a0",
   "metadata": {},
   "source": [
    "### **Encapsulation in Python (Easy English Explanation)**\n",
    "\n",
    "1. **Encapsulation** means combining **data** (variables) and **methods** (functions) into one unit, called a **class**.  \n",
    "   Example: A class for a **car** includes data like color and speed, and methods like start() and stop().  \n",
    "\n",
    "2. **Why it’s useful**: It hides the internal details of how things work, so others can only use what’s necessary.  \n",
    "\n",
    "3. **Real-world example**: A **bank account** keeps your balance private. You can only check or update it using secure methods, like entering your password.\n",
    "\n",
    "4. Another example is a **Gmail account**. Your username and password are private, and you cannot directly access the internal processes.\n",
    "\n",
    "5. **How it works in Python**:  \n",
    "   - Variables or methods starting with `_` or `__` are private.  \n",
    "   - Public methods control access to private variables.  \n",
    "\n",
    "6. Encapsulation ensures **security and privacy** by controlling access to sensitive data.\n",
    "\n",
    "7. **Example of a capsule**: A medicine capsule wraps different medicines together. Similarly, a class wraps variables and methods.  \n",
    "\n",
    "8. **Benefits**: It protects data from misuse, allows secure access, and simplifies the user interface.\n",
    "\n",
    "9. **How to achieve encapsulation**: Use **access modifiers**:  \n",
    "   - `Public`: Accessible everywhere.  \n",
    "   - `Private`: Accessible only inside the class.  \n",
    "\n",
    "10. **Key idea**: Encapsulation simplifies coding, protects sensitive data, and is a core part of object-oriented programming."
   ]
  },
  {
   "cell_type": "code",
   "execution_count": null,
   "id": "18fce2da-a80f-4846-9d31-a288229a5cb9",
   "metadata": {},
   "outputs": [
    {
     "name": "stdout",
     "output_type": "stream",
     "text": [
      "Testing\n"
     ]
    }
   ],
   "source": [
    "class Student:\n",
    "    def __init__(self):  # Corrected __init__ method\n",
    "        self.__name = 'kaushik'   # Private attribute\n",
    "\n",
    "    def getname(self):     # Corrected method to get name\n",
    "        return self.__name  # Fixed the attribute name\n",
    "\n",
    "    def setname(self, name):  # Corrected method to set name\n",
    "        self.__name = name   # Fixed the assignment of name\n",
    "\n",
    "# Creating an object of the Student class\n",
    "obj = Student()\n",
    "\n",
    "# Setting the name using the setter method\n",
    "obj.setname(\"Testing\")\n",
    "\n",
    "# Getting the name using the getter method\n",
    "name = obj.getname()\n",
    "\n",
    "# Printing the name\n",
    "print(name)\n"
   ]
  },
  {
   "cell_type": "markdown",
   "id": "df2b748d-4b76-4c14-8834-253fcbbde3bc",
   "metadata": {},
   "source": [
    "#### Explanation of the Code:\n",
    "\n",
    "1. **Class Definition (`class Student`)**:\n",
    "   - A **class** is like a blueprint for creating objects.  \n",
    "   - Here, `Student` is a class that defines what each student object will have and do.\n",
    "\n",
    "2. **Constructor Method (`__init__`)**:\n",
    "   - This special method runs when you create a new object.  \n",
    "   - Inside it, `self.__name = ''` creates a **private variable** `__name` to store the student's name, which is initially empty.  \n",
    "   - The `self` keyword is used to refer to the current object.\n",
    "\n",
    "3. **Getter Method (`getname`)**:\n",
    "   - This method **returns the value** of `__name`. It is used to get the name of the student.\n",
    "\n",
    "4. **Setter Method (`setname`)**:\n",
    "   - This method **sets a new value** for the `__name` variable. It allows you to change the student's name.\n",
    "\n",
    "5. **Creating an Object (`obj = Student()`)**:\n",
    "   - This creates an object `obj` of the `Student` class, which allows you to use the methods and attributes defined in the class.\n",
    "\n",
    "6. **Setting the Name**:\n",
    "   - The `setname` method is called to set the student's name to \"Testing\" by passing it as an argument.\n",
    "\n",
    "7. **Getting the Name**:\n",
    "   - The `getname` method is called to **retrieve the student's name**, which will return the name stored in `__name`.\n",
    "\n",
    "8. **Printing the Name**:\n",
    "   - Finally, the `print(name)` statement prints the student's name, which is \"Testing\".\n",
    "\n",
    "### **Summary:**\n",
    "This code creates a `Student` class with private data (`__name`) and provides **getter** and **setter** methods to access and update the name. The object `obj` is created, its name is set to \"Testing\", and then the name is printed. "
   ]
  },
  {
   "cell_type": "code",
   "execution_count": null,
   "id": "07d6e571-c3eb-442b-b4a6-d752b4475bde",
   "metadata": {},
   "outputs": [
    {
     "name": "stdout",
     "output_type": "stream",
     "text": [
      "\n",
      "Welcome to the Rental System!\n",
      "1. Rent a Bike\n",
      "2. Rent a Car\n",
      "3. Show Available Vehicles\n",
      "4. Exit\n"
     ]
    },
    {
     "name": "stdout",
     "output_type": "stream",
     "text": [
      "Available vehicles: Bike, Car\n",
      "Total rent for car for 2 day(s): $100. Thank you for renting! Have a good day!\n",
      "\n",
      "Welcome to the Rental System!\n",
      "1. Rent a Bike\n",
      "2. Rent a Car\n",
      "3. Show Available Vehicles\n",
      "4. Exit\n",
      "Available vehicles: Bike\n",
      "Sorry, the car is not available right now.\n",
      "\n",
      "Welcome to the Rental System!\n",
      "1. Rent a Bike\n",
      "2. Rent a Car\n",
      "3. Show Available Vehicles\n",
      "4. Exit\n",
      "Available vehicles: Bike\n",
      "\n",
      "Welcome to the Rental System!\n",
      "1. Rent a Bike\n",
      "2. Rent a Car\n",
      "3. Show Available Vehicles\n",
      "4. Exit\n",
      "Thank you for using the rental system. Goodbye!\n"
     ]
    }
   ],
   "source": [
    "class RentalSystem:\n",
    "    def __init__(self):\n",
    "        self.bike = {\"name\": \"Bike\", \"available\": True, \"price_per_day\": 20}  # Bike info\n",
    "        self.car = {\"name\": \"Car\", \"available\": True, \"price_per_day\": 50}  # Car info\n",
    "\n",
    "    def rent_vehicle(self, vehicle_type, rental_days):\n",
    "        \"\"\"Rent a vehicle based on user input.\"\"\"\n",
    "        if vehicle_type == \"bike\":\n",
    "            if self.bike[\"available\"]:\n",
    "                total_rent = self.bike[\"price_per_day\"] * rental_days\n",
    "                self.bike[\"available\"] = False  # Mark bike as rented\n",
    "                return f\"Total rent for bike for {rental_days} day(s): ${total_rent}. Thank you for renting! Have a good day!\"\n",
    "            else:\n",
    "                return \"Sorry, the bike is currently not available.\"\n",
    "        \n",
    "        elif vehicle_type == \"car\":\n",
    "            if self.car[\"available\"]:\n",
    "                total_rent = self.car[\"price_per_day\"] * rental_days\n",
    "                self.car[\"available\"] = False  # Mark car as rented\n",
    "                return f\"Total rent for car for {rental_days} day(s): ${total_rent}. Thank you for renting! Have a good day!\"\n",
    "            else:\n",
    "                return \"Sorry, the car is currently not available.\"\n",
    "        else:\n",
    "            return \"Invalid vehicle type selected.\"\n",
    "\n",
    "    def return_vehicle(self, vehicle_type):\n",
    "        \"\"\"Return the rented vehicle and mark it as available.\"\"\"\n",
    "        if vehicle_type == \"bike\":\n",
    "            self.bike[\"available\"] = True\n",
    "            return \"Bike has been returned and is now available for rent.\"\n",
    "        \n",
    "        elif vehicle_type == \"car\":\n",
    "            self.car[\"available\"] = True\n",
    "            return \"Car has been returned and is now available for rent.\"\n",
    "        else:\n",
    "            return \"Invalid vehicle type.\"\n",
    "\n",
    "    def show_available_vehicles(self):\n",
    "        \"\"\"Show the availability of vehicles.\"\"\"\n",
    "        available_vehicles = []\n",
    "        if self.bike[\"available\"]:\n",
    "            available_vehicles.append(self.bike[\"name\"])\n",
    "        if self.car[\"available\"]:\n",
    "            available_vehicles.append(self.car[\"name\"])\n",
    "\n",
    "        if available_vehicles:\n",
    "            return f\"Available vehicles: {', '.join(available_vehicles)}\"\n",
    "        else:\n",
    "            return \"No vehicles are available currently.\"\n",
    "\n",
    "# Main function to run the program\n",
    "def main():\n",
    "    rental_system = RentalSystem()\n",
    "\n",
    "    while True:\n",
    "        print(\"\\nWelcome to the Rental System!\")\n",
    "        print(\"1. Rent a Bike\")\n",
    "        print(\"2. Rent a Car\")\n",
    "        print(\"3. Show Available Vehicles\")\n",
    "        print(\"4. Exit\")\n",
    "        \n",
    "        choice = input(\"Please choose an option (1-4): \")\n",
    "        \n",
    "        if choice == \"1\" or choice == \"2\":\n",
    "            vehicle_type = \"bike\" if choice == \"1\" else \"car\"\n",
    "            available_vehicles = rental_system.show_available_vehicles()\n",
    "            print(available_vehicles)\n",
    "\n",
    "            if vehicle_type == \"bike\" and \"Bike\" not in available_vehicles:\n",
    "                print(\"Sorry, the bike is not available right now.\")\n",
    "                continue\n",
    "            elif vehicle_type == \"car\" and \"Car\" not in available_vehicles:\n",
    "                print(\"Sorry, the car is not available right now.\")\n",
    "                continue\n",
    "\n",
    "            try:\n",
    "                rental_days = int(input(f\"How many days do you want to rent the {vehicle_type}? \"))\n",
    "                if rental_days <= 0:\n",
    "                    print(\"Please enter a valid number of days.\")\n",
    "                    continue\n",
    "            except ValueError:\n",
    "                print(\"Please enter a valid number for days.\")\n",
    "                continue\n",
    "\n",
    "            print(rental_system.rent_vehicle(vehicle_type, rental_days))\n",
    "        \n",
    "        elif choice == \"3\":\n",
    "            print(rental_system.show_available_vehicles())\n",
    "        \n",
    "        elif choice == \"4\":\n",
    "            print(\"Thank you for using the rental system. Goodbye!\")\n",
    "            break\n",
    "        \n",
    "        else:\n",
    "            print(\"Invalid option. Please choose a valid option.\")\n",
    "\n",
    "# Run the program\n",
    "if __name__ == \"__main__\":\n",
    "    main()\n"
   ]
  },
  {
   "cell_type": "markdown",
   "id": "24c23685-299e-4425-b0bd-71cb7fc2c90b",
   "metadata": {},
   "source": [
    "### Python Modules\n",
    "\n",
    "\n",
    "\n"
   ]
  },
  {
   "cell_type": "markdown",
   "id": "cf8e2f59-fa30-4e6f-9af1-7d48677f153c",
   "metadata": {},
   "source": [
    "### What is a Module?\n",
    "Consider a module to be the same as a code library.\n",
    "\n",
    "A file containing a set of functions you want to include in your application.\n",
    "\n",
    "Create a Module\n",
    "To create a module just save the code you want in a file with the file extension .py:"
   ]
  },
  {
   "cell_type": "markdown",
   "id": "2ddf7d25-077e-4018-a986-3ee872baaee4",
   "metadata": {},
   "source": [
    "### Example\n",
    "Save this code in a file named mymodule.py"
   ]
  },
  {
   "cell_type": "code",
   "execution_count": null,
   "id": "9ecfe389-2981-429d-ad30-fc3d89e6caaa",
   "metadata": {},
   "outputs": [],
   "source": [
    "def greeting(name):\n",
    "  print(\"Hello, \" + name)"
   ]
  },
  {
   "cell_type": "markdown",
   "id": "02a43260-1292-4ca4-8abd-79d0d9dc361d",
   "metadata": {},
   "source": [
    "### Use a Module\n",
    "#### Now we can use the module we just created, by using the import statement:\n",
    "\n",
    "### Example\n",
    "#### Import the module named mymodule, and call the greeting function:"
   ]
  },
  {
   "cell_type": "markdown",
   "id": "5ee9b9da-87a8-470c-880e-417ceff6c05b",
   "metadata": {},
   "source": [
    "### \"C:\\Users\\Dell\\Downloads\\mymodule.py\""
   ]
  },
  {
   "cell_type": "code",
   "execution_count": null,
   "id": "9f7e9fae-1b49-47b6-829c-5896595d5b1c",
   "metadata": {},
   "outputs": [
    {
     "name": "stdout",
     "output_type": "stream",
     "text": [
      "Hello, Jonathan\n"
     ]
    }
   ],
   "source": [
    "import mymodule\n",
    "\n",
    "mymodule.greeting(\"Jonathan\")"
   ]
  },
  {
   "cell_type": "markdown",
   "id": "6bff8afb-6887-4147-af70-98374a09f345",
   "metadata": {},
   "source": [
    "In Python, a **module** is a file containing Python code (functions, classes, and variables) and having the extension `.py`. Modules organize code, promote reusability, and make projects easier to manage.\n",
    "\n",
    "### 1. **Creating a Module**\n",
    "A Python module is just a `.py` file. Here's how you can create one:\n",
    "\n",
    "- Create a new file with a `.py` extension (e.g., `mymodule.py`).\n",
    "- Write Python code inside it. For example:\n",
    "\n",
    "```python\n",
    "# mymodule.py\n",
    "\n",
    "def greet(name):\n",
    "    return f\"Hello, {name}!\"\n",
    "\n",
    "def add(a, b):\n",
    "    return a + b\n",
    "\n",
    "PI = 3.14159\n",
    "```\n",
    "\n",
    "You can give any valid Python filename to your module, as long as it follows Python naming rules:\n",
    "- It cannot start with a number.\n",
    "- Avoid using reserved keywords (like `for`, `import`, `class`).\n",
    "\n",
    "---\n",
    "\n",
    "### 2. **Saving the Module**\n",
    "1. Save the `.py` file in the same directory as your script (or a directory that's part of Python's module search path).\n",
    "2. Use a descriptive filename related to the module's functionality, like `math_utils.py` for math-related functions.\n",
    "\n",
    "---\n",
    "\n",
    "### 3. **Using the Module**\n",
    "To use the module in another Python script, you need to **import** it using the `import` statement.\n",
    "\n",
    "#### Example:\n",
    "1. Suppose your module is saved as `mymodule.py`.\n",
    "2. Create another Python file in the same directory (e.g., `main.py`), and import your module.\n",
    "\n",
    "```python\n",
    "# main.py\n",
    "\n",
    "import mymodule\n",
    "\n",
    "# Using the functions and variables from the module\n",
    "print(mymodule.greet(\"Kaushik\"))  # Output: Hello, Kaushik!\n",
    "print(mymodule.add(5, 7))         # Output: 12\n",
    "print(mymodule.PI)               # Output: 3.14159\n",
    "```\n",
    "\n",
    "---\n",
    "\n",
    "### 4. **Alternative Import Methods**\n",
    "You can import specific parts of the module instead of the whole file:\n",
    "\n",
    "```python\n",
    "# Import specific functions or variables\n",
    "from mymodule import greet, add\n",
    "\n",
    "print(greet(\"World\"))  #tp#ut: Hello, World!\n",
    "print(add(10, 20))  t: 30\n",
    "```\n",
    "\n",
    "Or, rename the module while importing:\n",
    "\n",
    "```python\n",
    "import my ### \n",
    "print(mm.greet(\"Python\"))  # Output: Hello, Python!\n",
    "```\n",
    "\n",
    "---\n",
    "\n",
    "### 5. **Organizing with Packages**\n",
    "For larger projects, organize modules into **packages** (directories with an `__init__.py` file). For example:\n",
    "\n",
    "```\n",
    "project/\n",
    "├── mypackage/\n",
    "│   ├── __init__.py\n",
    "│   ├── module1.py\n",
    "│   ├── module2.py\n",
    "├── main.py\n",
    "```\n",
    "\n",
    "Now, you can import modules like this:\n",
    "```python\n",
    "from mypackage import module1\n",
    "```\n",
    "\n",
    "---\n",
    "\n",
    "### 6. **Important Notes**\n",
    "- Ensure the module is in the same directory as the script or in Python's `sys.path`.\n",
    "- Module filenames should end in `.py` and be valid identifiers.brary modules (e.g., `math`, `sys`).\n",
    "\n",
    "Would you like to create a module together as an example?"
   ]
  },
  {
   "cell_type": "markdown",
   "id": "a4d5f889-6c04-4737-bbf1-2b208c021f8f",
   "metadata": {},
   "source": [
    "### Note: When using a function from a module, use the syntax: module_name.function_name."
   ]
  },
  {
   "cell_type": "markdown",
   "id": "2e442ced-e002-45e8-981c-6f0ade9d67c4",
   "metadata": {},
   "source": [
    "### Variables in Module\n",
    "### The module can contain functions, as already described, but also variables of all types (arrays, dictionaries, objects etc):\n",
    "\n",
    "### Example\n",
    "### Save this code in the file mymodule.py\n",
    "\n"
   ]
  },
  {
   "cell_type": "code",
   "execution_count": null,
   "id": "ee323ac5-3a62-4d7c-bbbe-7c8b0b9f067f",
   "metadata": {},
   "outputs": [],
   "source": [
    "person1 = {\n",
    "  \"name\": \"John\",\n",
    "  \"age\": 36,\n",
    "  \"country\": \"Norway\"\n",
    "}"
   ]
  },
  {
   "cell_type": "markdown",
   "id": "0cba1a23-e943-45a5-9f4e-16c56e67e234",
   "metadata": {},
   "source": [
    "### Example\n",
    "### Import the module named mymodule, and access the person1 dictionary:"
   ]
  },
  {
   "cell_type": "code",
   "execution_count": null,
   "id": "03ea545a-c524-4b09-a370-543cf6f46b3e",
   "metadata": {},
   "outputs": [
    {
     "name": "stdout",
     "output_type": "stream",
     "text": [
      "John\n",
      "36\n",
      "Norway\n"
     ]
    }
   ],
   "source": [
    "# main.py\n",
    "\n",
    "# Import the person_data module\n",
    "import person_data\n",
    "\n",
    "# Access the dictionary from the module\n",
    "print(person_data.person1[\"name\"])     # Output: John\n",
    "print(person_data.person1[\"age\"])      # Output: 36\n",
    "print(person_data.person1[\"country\"])  # Output: Norway\n"
   ]
  },
  {
   "cell_type": "markdown",
   "id": "e48bacc4-3b36-432d-8348-e515b0c1625f",
   "metadata": {},
   "source": [
    "### \"C:\\Users\\Dell\\Downloads\\person_data.py\""
   ]
  },
  {
   "cell_type": "markdown",
   "id": "46129db6-cfc8-408e-bb79-bb88163018e9",
   "metadata": {},
   "source": [
    "### Naming a Module\n",
    "#### You can name the module file whatever you like, but it must have the file extension .py\n",
    "\n",
    "##### Re-naming a Module\n",
    "###### You can create an alias when you import a module, by using the as keyword:"
   ]
  },
  {
   "cell_type": "markdown",
   "id": "9c6aec84-6b38-47c2-a4fb-7efcb4dd97e2",
   "metadata": {},
   "source": [
    "### Create an alias for mymodule called mx:"
   ]
  },
  {
   "cell_type": "code",
   "execution_count": null,
   "id": "5de39bb4-f905-4ff1-8722-8df87a95ba49",
   "metadata": {},
   "outputs": [
    {
     "name": "stdout",
     "output_type": "stream",
     "text": [
      "36\n"
     ]
    }
   ],
   "source": [
    "import person_data as mx\n",
    "a = mx.person1[\"age\"]\n",
    "print(a)"
   ]
  },
  {
   "cell_type": "markdown",
   "id": "116c4b5d-53ff-4978-a1b4-70511f14386a",
   "metadata": {},
   "source": [
    "#### Built-in Modules\n",
    "##### There are several built-in modules in Python, which you can import whenever you like.\n",
    "\n",
    "# Example\n",
    "### Import and use the platform module:"
   ]
  },
  {
   "cell_type": "code",
   "execution_count": null,
   "id": "fe5de13f-def4-454f-b497-6e9e56e5acef",
   "metadata": {},
   "outputs": [
    {
     "name": "stdout",
     "output_type": "stream",
     "text": [
      "Windows\n"
     ]
    }
   ],
   "source": [
    "import platform\n",
    "\n",
    "x = platform.system()\n",
    "print(x)"
   ]
  },
  {
   "cell_type": "markdown",
   "id": "ccba48cb-8085-46b2-ab53-d4297a98eb22",
   "metadata": {},
   "source": [
    "### Using the dir() Function"
   ]
  },
  {
   "cell_type": "markdown",
   "id": "7f1b2c4b-22e8-4dbe-b9d8-02ccecd26aaa",
   "metadata": {},
   "source": [
    "### The dir() function in Python is like asking Python, \"What do you have inside?\"\n",
    "\n",
    "### It shows you a list of names (functions, variables, classes, etc.) that are available in the current space or inside an object/module."
   ]
  },
  {
   "cell_type": "code",
   "execution_count": null,
   "id": "5e1a94eb-4136-44b0-9328-f63000f87945",
   "metadata": {},
   "outputs": [
    {
     "name": "stdout",
     "output_type": "stream",
     "text": [
      "['In', 'Out', '_', '_1', '_10', '_100', '_102', '_104', '_106', '_108', '_109', '_11', '_110', '_111', '_113', '_114', '_116', '_117', '_118', '_13', '_15', '_17', '_18', '_2', '_20', '_21', '_22', '_23', '_24', '_25', '_26', '_27', '_29', '_3', '_30', '_32', '_34', '_36', '_38', '_40', '_42', '_44', '_46', '_48', '_5', '_50', '_52', '_54', '_56', '_58', '_6', '_60', '_62', '_64', '_66', '_68', '_70', '_72', '_74', '_76', '_78', '_8', '_80', '_82', '_84', '_86', '_88', '_90', '_92', '_94', '_96', '_98', '__', '___', '__builtin__', '__builtins__', '__doc__', '__loader__', '__name__', '__package__', '__pandas', '__session__', '__spec__', '_dh', '_i', '_i1', '_i10', '_i100', '_i101', '_i102', '_i103', '_i104', '_i105', '_i106', '_i107', '_i108', '_i109', '_i11', '_i110', '_i111', '_i112', '_i113', '_i114', '_i115', '_i116', '_i117', '_i118', '_i119', '_i12', '_i13', '_i14', '_i15', '_i16', '_i17', '_i18', '_i19', '_i2', '_i20', '_i21', '_i22', '_i23', '_i24', '_i25', '_i26', '_i27', '_i28', '_i29', '_i3', '_i30', '_i31', '_i32', '_i33', '_i34', '_i35', '_i36', '_i37', '_i38', '_i39', '_i4', '_i40', '_i41', '_i42', '_i43', '_i44', '_i45', '_i46', '_i47', '_i48', '_i49', '_i5', '_i50', '_i51', '_i52', '_i53', '_i54', '_i55', '_i56', '_i57', '_i58', '_i59', '_i6', '_i60', '_i61', '_i62', '_i63', '_i64', '_i65', '_i66', '_i67', '_i68', '_i69', '_i7', '_i70', '_i71', '_i72', '_i73', '_i74', '_i75', '_i76', '_i77', '_i78', '_i79', '_i8', '_i80', '_i81', '_i82', '_i83', '_i84', '_i85', '_i86', '_i87', '_i88', '_i89', '_i9', '_i90', '_i91', '_i92', '_i93', '_i94', '_i95', '_i96', '_i97', '_i98', '_i99', '_ih', '_ii', '_iii', '_oh', 'a', 'dataframe_columns', 'dataframe_hash', 'dtypes_str', 'exit', 'get_dataframes', 'get_ipython', 'getpass', 'greeting', 'hashlib', 'import_pandas_safely', 'is_data_frame', 'json', 'mx', 'mymodule', 'mymodule2', 'open', 'person_data', 'platform', 'quit', 'x']\n"
     ]
    }
   ],
   "source": [
    "print(dir())\n"
   ]
  },
  {
   "cell_type": "code",
   "execution_count": null,
   "id": "ae7373bd-6568-4df5-a287-00b03eca0704",
   "metadata": {},
   "outputs": [
    {
     "name": "stdout",
     "output_type": "stream",
     "text": [
      "['__doc__', '__loader__', '__name__', '__package__', '__spec__', 'acos', 'acosh', 'asin', 'asinh', 'atan', 'atan2', 'atanh', 'cbrt', 'ceil', 'comb', 'copysign', 'cos', 'cosh', 'degrees', 'dist', 'e', 'erf', 'erfc', 'exp', 'exp2', 'expm1', 'fabs', 'factorial', 'floor', 'fmod', 'frexp', 'fsum', 'gamma', 'gcd', 'hypot', 'inf', 'isclose', 'isfinite', 'isinf', 'isnan', 'isqrt', 'lcm', 'ldexp', 'lgamma', 'log', 'log10', 'log1p', 'log2', 'modf', 'nan', 'nextafter', 'perm', 'pi', 'pow', 'prod', 'radians', 'remainder', 'sin', 'sinh', 'sqrt', 'sumprod', 'tan', 'tanh', 'tau', 'trunc', 'ulp']\n"
     ]
    }
   ],
   "source": [
    "import math\n",
    "print(dir(math))  # Lists everything in the math module\n"
   ]
  },
  {
   "cell_type": "code",
   "execution_count": null,
   "id": "95ac8bcf-36a1-4c2e-9e18-db273b0bfa67",
   "metadata": {},
   "outputs": [
    {
     "name": "stdout",
     "output_type": "stream",
     "text": [
      "['__builtins__', '__cached__', '__doc__', '__file__', '__loader__', '__name__', '__package__', '__spec__', 'person1']\n"
     ]
    }
   ],
   "source": [
    "import person_data\n",
    "print(dir(person_data))  # Lists everything in the math module\n"
   ]
  },
  {
   "cell_type": "code",
   "execution_count": null,
   "id": "816031e8-139c-464f-8f68-7e6bac374d49",
   "metadata": {},
   "outputs": [
    {
     "name": "stdout",
     "output_type": "stream",
     "text": [
      "['__builtins__', '__cached__', '__doc__', '__file__', '__loader__', '__name__', '__package__', '__spec__', 'greeting']\n"
     ]
    }
   ],
   "source": [
    "import mymodule\n",
    "\n",
    "print(dir(mymodule))  # Lists everything in the math module"
   ]
  },
  {
   "cell_type": "markdown",
   "id": "aa707df2-3e0e-44fe-831c-e3fae9051398",
   "metadata": {},
   "source": [
    "# Python Datetime"
   ]
  },
  {
   "cell_type": "code",
   "execution_count": null,
   "id": "037a7e15-5ed7-4144-bc14-16c4b7a1d0cb",
   "metadata": {},
   "outputs": [
    {
     "name": "stdout",
     "output_type": "stream",
     "text": [
      "2024-12-09 11:32:22.191589\n"
     ]
    }
   ],
   "source": [
    "#Import the datetime module and display the current date:\n",
    "\n",
    "import datetime\n",
    "\n",
    "x = datetime.datetime.now()\n",
    "print(x)"
   ]
  },
  {
   "cell_type": "markdown",
   "id": "ffb00627-af43-42b7-ac88-7c9821f5c571",
   "metadata": {},
   "source": [
    "### Date Output\n",
    "#### When we execute the code from the example above the result will be:\n",
    "\n",
    "### 2024-12-09 01:37:36.878062\n",
    "#### The date contains year, month, day, hour, minute, second, and microsecond.\n",
    "\n",
    "## The datetime module has many methods to return information about the date object."
   ]
  },
  {
   "cell_type": "code",
   "execution_count": null,
   "id": "fed451e9-a99c-428a-9d8d-2ef227ff9159",
   "metadata": {},
   "outputs": [
    {
     "name": "stdout",
     "output_type": "stream",
     "text": [
      "2024\n",
      "Monday\n"
     ]
    }
   ],
   "source": [
    "#Return the year and name of weekday:\n",
    "\n",
    "import datetime\n",
    "\n",
    "x = datetime.datetime.now()\n",
    "\n",
    "print(x.year)\n",
    "print(x.strftime(\"%A\"))"
   ]
  },
  {
   "cell_type": "markdown",
   "id": "f56efb3d-1cff-4057-8674-f3ce2705dafe",
   "metadata": {},
   "source": [
    "### Creating Date Objects\n",
    "To create a date, we can use the datetime() class (constructor) of the datetime module.\n",
    "\n",
    "The datetime() class requires three parameters to create a date: year, month, day."
   ]
  },
  {
   "cell_type": "code",
   "execution_count": null,
   "id": "699697bd-6c3b-4eaf-be2e-2039ce4b42de",
   "metadata": {},
   "outputs": [
    {
     "name": "stdout",
     "output_type": "stream",
     "text": [
      "2020-05-17 00:00:00\n"
     ]
    }
   ],
   "source": [
    "#Create a date object:\n",
    "\n",
    "import datetime\n",
    "\n",
    "x = datetime.datetime(2020, 5, 17)\n",
    "\n",
    "print(x)"
   ]
  },
  {
   "cell_type": "markdown",
   "id": "a2607088-2fd4-414e-b5e1-d1094f1c7fe3",
   "metadata": {},
   "source": [
    "##### The datetime() class also takes parameters for time and timezone (hour, minute, second, microsecond, tzone), but they are optional, and has a default value of 0, (None for timezone).\n",
    "\n",
    "# The strftime() Method\n",
    "The datetime object has a method for formatting date objects into readable strings.\n",
    "\n",
    "The method is called strftime(), and takes one parameter, format, to specify the format of the returned string:"
   ]
  },
  {
   "cell_type": "code",
   "execution_count": null,
   "id": "8062dba8-3d57-41bf-805e-9c32c42ecc27",
   "metadata": {},
   "outputs": [
    {
     "name": "stdout",
     "output_type": "stream",
     "text": [
      "June\n"
     ]
    }
   ],
   "source": [
    "#Display the name of the month:\n",
    "\n",
    "import datetime\n",
    "\n",
    "x = datetime.datetime(2018, 6, 1)\n",
    "\n",
    "print(x.strftime(\"%B\"))"
   ]
  },
  {
   "cell_type": "markdown",
   "id": "40b1be9a-0fa8-45d3-8477-17e6832b0841",
   "metadata": {},
   "source": [
    "# Python `strftime` Directives \n",
    "\n",
    "This table provides an overview of various `strftime` directives in Python to format date and time strings.\n",
    "\n",
    "| Directive | Description                                | Example                       |\n",
    "|-----------|--------------------------------------------|-------------------------------|\n",
    "| `%a`      | Weekday, short version                    | Wed                           |\n",
    "| `%A`      | Weekday, full version                     | Wednesday                     |\n",
    "| `%w`      | Weekday as a number 0-6, 0 is Sunday      | 3                             |\n",
    "| `%d`      | Day of month 01-31                        | 31                            |\n",
    "| `%b`      | Month name, short version                 | Dec                           |\n",
    "| `%B`      | Month name, full version                  | December                      |\n",
    "| `%m`      | Month as a number 01-12                   | 12                            |\n",
    "| `%y`      | Year, short version, without century      | 18                            |\n",
    "| `%Y`      | Year, full version                        | 2018                          |\n",
    "| `%H`      | Hour 00-23                                | 17                            |\n",
    "| `%I`      | Hour 00-12                                | 05                            |\n",
    "| `%p`      | AM/PM                                     | PM                            |\n",
    "| `%M`      | Minute 00-59                              | 41                            |\n",
    "| `%S`      | Second 00-59                              | 08                            |\n",
    "| `%f`      | Microsecond 000000-999999                 | 548513                        |\n",
    "| `%z`      | UTC offset                                | +0100                         |\n",
    "| `%Z`      | Timezone                                  | CST                           |\n",
    "| `%j`      | Day number of year 001-366               | 365                           |\n",
    "| `%U`      | Week number of year, Sunday as first day | 52                            |\n",
    "| `%W`      | Week number of year, Monday as first day | 52                            |\n",
    "| `%c`      | Local version of date and time           | Mon Dec 31 17:41:00 2018      |\n",
    "| `%C`      | Century                                   | 20                            |\n",
    "| `%x`      | Local version of date                    | 12/31/18                      |\n",
    "| `%X`      | Local version of time                    | 17:41:00                      |\n",
    "| `%%`      | A `%` character                          | %                             |\n",
    "| `%G`      | ISO 8601 year                            | 2018                          |\n",
    "| `%u`      | ISO 8601 weekday (1-7)                   | 1                             |\n",
    "| `%V`      | ISO 8601 week number (01-53)             | 01                            |\n"
   ]
  },
  {
   "cell_type": "markdown",
   "id": "b8af1bb3-da92-4b87-8862-d878ac9d172b",
   "metadata": {},
   "source": [
    "### Python Standard Library Modules\n",
    "\n",
    "The Python standard library includes a wide range of modules that provide various functionalities.  a list of commonly used modules along with their descriptions.\n",
    "\n",
    "| Module Name      | Description                                                                                   |\n",
    "|-------------------|-----------------------------------------------------------------------------------------------|\n",
    "| `os`             | Provides functions to interact with the operating system (e.g., file handling, directory management). |\n",
    "| `sys`            | Access system-specific parameters and functions (e.g., command-line arguments, Python interpreter).  |\n",
    "| `math`           | Provides mathematical functions like square root, trigonometry, factorial, etc.               |\n",
    "| `random`         | Generate random numbers and perform random operations like shuffling.                        |\n",
    "| `datetime`       | Work with dates and times (e.g., get current time, format dates).                            |\n",
    "| `time`           | Functions to work with time (e.g., sleep, measure execution time).                           |\n",
    "| `re`             | Provides support for regular expressions to search and manipulate strings.                   |\n",
    "| `json`           | Work with JSON data (e.g., read/write JSON files).                                           |\n",
    "| `csv`            | Handle CSV files for reading and writing.                                                    |\n",
    "| `subprocess`     | Run system commands and interact with them (e.g., execute shell commands).                   |\n",
    "| `threading`      | Manage threads for multitasking.                                                             |\n",
    "| `multiprocessing`| Create and manage multiple processes for parallel computing.                                 |\n",
    "| `socket`         | Low-level networking interface for working with sockets.                                     |\n",
    "| `urllib`         | Modules for fetching data from URLs (e.g., HTTP requests).                                   |\n",
    "| `http`           | A set of modules to work with HTTP protocols and servers.                                    |\n",
    "| `tkinter`        | GUI (Graphical User Interface) library to create windows, buttons, and more.                 |\n",
    "| `logging`        | Provides tools for logging messages, debugging, and error tracking.                          |\n",
    "| `configparser`   | Read and write configuration files.                                                          |\n",
    "| `argparse`       | Create command-line arguments for scripts.                                                   |\n",
    "| `collections`    | Provides specialized data structures like `deque`, `Counter`, and `OrderedDict`.             |\n",
    "| `itertools`      | Tools for efficient looping and combinatorial operations.                                    |\n",
    "| `functools`      | Tools for higher-order functions like `lru_cache`, `reduce`, etc.                            |\n",
    "| `hashlib`        | Generate secure hashes and checksums (e.g., MD5, SHA256).                                    |\n",
    "| `os.path`        | Functions to manipulate file paths.                                                          |\n",
    "| `pathlib`        | Object-oriented file path handling.                                                          |\n",
    "| `shutil`         | High-level operations on files and directories (e.g., copy, move, delete).                   |\n",
    "| `statistics`     | Perform statistical calculations (e.g., mean, median, variance).                             |\n",
    "| `decimal`        | Perform precise decimal floating-point arithmetic.                                           |\n",
    "| `xml`            | Modules for working with XML data.                                                           |\n",
    "| `pickle`         | Serialize and deserialize Python objects.                                                    |\n",
    "| `sqlite3`        | Built-in lightweight database for storing data in SQL format.                                |\n",
    "| `typing`         | Provides type hints for functions and variables.                                             |\n",
    "| `enum`           | Support for enumerations, which are a set of symbolic names bound to unique values.          |\n",
    "| `email`          | Modules for managing email messages and MIME types.                                          |\n",
    "| `heapq`          | Heap queue algorithm for efficient priority queue operations.                                |\n",
    "| `weakref`        | Allows creation of weak references to objects.                                               |\n",
    "| `uuid`           | Generate unique identifiers (UUIDs).                                                        |\n",
    "| `queue`          | A thread-safe queue for inter-thread communication.                                          |\n",
    "| `inspect`        | Inspect live objects, including functions, classes, and modules.                             |\n",
    "| `pdb`            | Python debugger for interactive debugging sessions.                                          |\n",
    "| `traceback`      | Print or format Python error traceback details.                                              |\n",
    "| `contextlib`     | Tools for creating and managing context managers.                                            |\n",
    "| `zipfile`        | Work with `.zip` archive files (e.g., read, write, extract).                                 |\n",
    "| `tarfile`        | Work with `.tar` archive files.                                                              |\n",
    "| `ftplib`         | Work with the File Transfer Protocol (FTP).                                                  |\n",
    "| `imaplib`        | Work with the Internet Mail Access Protocol (IMAP).                                          |\n",
    "| `smtplib`        | Send emails using the Simple Mail Transfer Protocol (SMTP).                                  |\n",
    "| `base64`         | Encode and decode data in Base64 format.                                                     |\n",
    "| `codecs`         | Handle different text encodings (e.g., UTF-8, ASCII).                                        |\n",
    "| `zlib`           | Compression and decompression using the zlib library.                                        |\n",
    "| `bz2`            | Compression and decompression using the bzip2 algorithm.                                    |\n",
    "| `gzip`           | Work with `.gz` compressed files.                                                            |\n",
    "| `tarfile`        | Create, read, and extract `.tar` archives.                                                   |\n",
    "| `trace`          | Trace program execution to debug code.                                                      |\n",
    "| `venv`           | Create virtual environments for Python projects.                                             |\n",
    "\n",
    "---\n",
    "\n",
    "### How to Use a Module\n",
    "To use any module, you need to **import** it first:\n",
    "```python\n",
    "import module_name\n",
    "\n",
    "# Example:\n",
    "import math\n",
    "print(math.sqrt(16))  # Output: 4.0\n"
   ]
  },
  {
   "cell_type": "markdown",
   "id": "5506a654-19b8-489f-a46e-77c01cad4169",
   "metadata": {},
   "source": [
    "### The **`datetime`** module in Python is like a toolbox to work with dates and times. It helps you:\n",
    "\n",
    "- Know **what time it is now**.\n",
    "- Work with **specific dates and times** (like your birthday).\n",
    "- **Add or subtract time** (e.g., \"What will the date be in 5 days?\").\n",
    "- Format dates/times to look nice.\n",
    "\n",
    "---\n",
    "\n",
    "### 1. **Import `datetime`**\n",
    "To use it, first, import it:\n",
    "```python\n",
    "import datetime\n",
    "```\n",
    "\n",
    "---\n",
    "\n",
    "### 2. **Get the Current Date and Time**\n",
    "The `datetime` module can tell you what time it is **right now**.\n",
    "\n",
    "#### Example:\n",
    "```python\n",
    "import datetime\n",
    "\n",
    "now = datetime.datetime.now()  # Get current date and time\n",
    "print(now)  # Output: 2024-12-09 14:35:45.123456\n",
    "```\n",
    "\n",
    "---\n",
    "\n",
    "### 3. **Work with a Specific Date**\n",
    "You can create a date (like your birthday) using `datetime.datetime()`.\n",
    "\n",
    "#### Example:\n",
    "```python\n",
    "import datetime\n",
    "\n",
    "birthday = datetime.datetime(2000, 1, 1)  # Year, Month, Day\n",
    "print(birthday)  # Output: 2000-01-01 00:00:00\n",
    "```\n",
    "\n",
    "---\n",
    "\n",
    "### 4. **Format the Date/Time**\n",
    "You can make the date/time look nice using `.strftime()`.\n",
    "\n",
    "#### Example:\n",
    "```python\n",
    "import datetime\n",
    "\n",
    "now = datetime.datetime.now()\n",
    "formatted = now.strftime(\"%d-%m-%Y %H:%M:%S\")  # Day-Month-Year Hour:Minute:Second\n",
    "print(formatted)  # Output: 09-12-2024 14:35:45\n",
    "```\n",
    "\n",
    "**Common Format Codes**:\n",
    "- `%d` = Day (e.g., 09)\n",
    "- `%m` = Month (e.g., 12)\n",
    "- `%Y` = Year (e.g., 2024)\n",
    "- `%H` = Hour (24-hour format)\n",
    "- `%M` = Minute\n",
    "- `%S` = Second\n",
    "\n",
    "---\n",
    "\n",
    "### 5. **Add or Subtract Time**\n",
    "You can add or subtract days, hours, etc., using `timedelta`.\n",
    "\n",
    "#### Example:\n",
    "```python\n",
    "import datetime\n",
    "\n",
    "now = datetime.datetime.now()\n",
    "future = now + datetime.timedelta(days=5)  # Add 5 days\n",
    "print(future)  # Output: 2024-12-14 (if today is 2024-12-09)\n",
    "```\n",
    "\n",
    "---\n",
    "\n",
    "### 6. **Find the Difference Between Dates**\n",
    "You can calculate how many days are between two dates.\n",
    "\n",
    "#### Example:\n",
    "```python\n",
    "import datetime\n",
    "\n",
    "date1 = datetime.datetime(2024, 12, 9)\n",
    "date2 = datetime.datetime(2024, 12, 25)\n",
    "difference = date2 - date1\n",
    "print(difference.days)  # Output: 16\n",
    "```\n",
    "\n",
    "---\n",
    "\n",
    "### 7. **What You Should Know**\n",
    "- **`datetime.datetime.now()`** gives the current date and time.\n",
    "- **`datetime.datetime()`** creates a specific date and time.\n",
    "- **`.strftime()`** formats dates to look nice.\n",
    "- **`timedelta`** helps you add or subtract time.\n"
   ]
  },
  {
   "cell_type": "markdown",
   "id": "045151d6-52c7-463d-982a-7c91367be711",
   "metadata": {},
   "source": [
    "\n",
    "# Math module"
   ]
  },
  {
   "cell_type": "markdown",
   "id": "151e3616-22e8-46ef-a583-ec71d58b3b3c",
   "metadata": {},
   "source": [
    "### Python has a set of built-in math functions, including an extensive math module, that allows you to perform mathematical tasks on numbers.\n",
    "\n",
    "Built-in Math Functions\n",
    "The min() and max() functions can be used to find the lowest or highest value in an iterable:"
   ]
  },
  {
   "cell_type": "code",
   "execution_count": null,
   "id": "7b41194b-e78b-46f0-97a8-84f384a0e789",
   "metadata": {},
   "outputs": [
    {
     "name": "stdout",
     "output_type": "stream",
     "text": [
      "5\n",
      "25\n"
     ]
    }
   ],
   "source": [
    "x = min(5, 10, 25)\n",
    "y = max(5, 10, 25)\n",
    "\n",
    "print(x)\n",
    "print(y)"
   ]
  },
  {
   "cell_type": "code",
   "execution_count": null,
   "id": "e9bb803a-b5f4-44ce-81d7-eee1bbcf336d",
   "metadata": {},
   "outputs": [
    {
     "name": "stdout",
     "output_type": "stream",
     "text": [
      "7.25\n"
     ]
    }
   ],
   "source": [
    "#The abs() function returns the absolute (positive) value of the specified number:\n",
    "\n",
    "#Example\n",
    "x = abs(-7.25)\n",
    "\n",
    "print(x)"
   ]
  },
  {
   "cell_type": "code",
   "execution_count": null,
   "id": "48c6a7fb-214d-4a93-9c50-15856eda9e98",
   "metadata": {},
   "outputs": [
    {
     "name": "stdout",
     "output_type": "stream",
     "text": [
      "64\n"
     ]
    }
   ],
   "source": [
    "#The pow(x, y) function returns the value of x to the power of y (xy).\n",
    "\n",
    "#Example\n",
    "#Return the value of 4 to the power of 3 (same as 4 * 4 * 4):\n",
    "\n",
    "x = pow(4, 3)\n",
    "\n",
    "print(x)"
   ]
  },
  {
   "cell_type": "markdown",
   "id": "098d7ccb-2a71-41db-a22d-60f4139d4839",
   "metadata": {},
   "source": [
    "### The Math Module\n",
    "Python has also a built-in module called math, which extends the list of mathematical functions.\n",
    "\n",
    "To use it, you must import the math module:"
   ]
  },
  {
   "cell_type": "code",
   "execution_count": null,
   "id": "8aa0ce4a-2603-4c65-814f-441cecaf830f",
   "metadata": {},
   "outputs": [],
   "source": [
    " import math"
   ]
  },
  {
   "cell_type": "markdown",
   "id": "b09be584-ef3c-45fd-b8e1-a8f2cb8d2ada",
   "metadata": {},
   "source": [
    "\n",
    "\n",
    "### When you have imported the math module, you can start using methods and constants of the module.\n",
    "\n",
    "### The math.sqrt() method for example, returns the square root of a number:"
   ]
  },
  {
   "cell_type": "code",
   "execution_count": null,
   "id": "47f7a77e-b0f3-456a-a31a-621db0c14426",
   "metadata": {},
   "outputs": [
    {
     "name": "stdout",
     "output_type": "stream",
     "text": [
      "8.0\n"
     ]
    }
   ],
   "source": [
    "import math\n",
    "\n",
    "x = math.sqrt(64)\n",
    "\n",
    "print(x)"
   ]
  },
  {
   "cell_type": "markdown",
   "id": "ddae3aa4-4d2b-45db-8665-3106a5521079",
   "metadata": {},
   "source": [
    "### The math.ceil() method rounds a number upwards to its nearest integer, and the math.floor() method rounds a number downwards to its nearest integer, and returns the result:"
   ]
  },
  {
   "cell_type": "code",
   "execution_count": null,
   "id": "9dbbef15-eae5-4c47-aa9c-da3497154f40",
   "metadata": {},
   "outputs": [
    {
     "name": "stdout",
     "output_type": "stream",
     "text": [
      "2\n",
      "1\n"
     ]
    }
   ],
   "source": [
    "import math\n",
    "\n",
    "x = math.ceil(1.4)\n",
    "y = math.floor(1.4)\n",
    "\n",
    "print(x) # returns 2\n",
    "print(y) # returns 1"
   ]
  },
  {
   "cell_type": "code",
   "execution_count": null,
   "id": "57d55614-d497-4b85-bd5b-dfa4b324e71c",
   "metadata": {},
   "outputs": [],
   "source": [
    "The math.pi constant, returns the value of PI (3.14...):"
   ]
  },
  {
   "cell_type": "code",
   "execution_count": null,
   "id": "30eba732-691c-41c1-87c6-f93df79b969c",
   "metadata": {},
   "outputs": [
    {
     "name": "stdout",
     "output_type": "stream",
     "text": [
      "3.141592653589793\n"
     ]
    }
   ],
   "source": [
    "import math\n",
    "\n",
    "x = math.pi\n",
    "\n",
    "print(x)\n"
   ]
  },
  {
   "cell_type": "markdown",
   "id": "69a6a8c6-e9f3-4a7d-b927-2cedac0ea744",
   "metadata": {},
   "source": [
    "# Python File Open"
   ]
  },
  {
   "cell_type": "markdown",
   "id": "e4f64fca-c8c4-45b5-996e-0439ef0c7b9f",
   "metadata": {},
   "source": [
    "# File handling is an important part of any web application.\n",
    "\n",
    "# Python has several functions for creating, reading, updating, and deleting files.\n",
    "\n",
    "# File Handling\n",
    "### The key function for working with files in Python is the open() function.\n",
    "\n",
    " The open() function takes two parameters; filename, and mode.\n",
    "\n",
    "# There are four different methods (modes) for opening a file:\n",
    "\n",
    "\"r\" - Read - Default value. Opens a file for reading, error if the file does not exist\n",
    "\n",
    "\"a\" - Append - Opens a file for appending, creates the file if it does not exist\n",
    "\n",
    " \"w\" - Write - Opens a file for writing, creates the file if it does not exist\n",
    "\n",
    " \"x\" - Create - Creates the specified file, returns an error if the file exists\n",
    "\n",
    "# In addition you can specify if the file should be handled as binary or text mode\n",
    "\n",
    " \"t\" - Text - Default value. Text mode\n",
    "\n",
    " \"b\" - Binary - Binary mode (e.g. images)"
   ]
  },
  {
   "cell_type": "markdown",
   "id": "0781441d-d700-4620-9a82-0f770307ac7e",
   "metadata": {},
   "source": [
    "### Syntax\n",
    "To open a file for reading it is enough to specify the name of the file:"
   ]
  },
  {
   "cell_type": "code",
   "execution_count": null,
   "id": "c91f59fd-b51e-4e97-9834-357c309577c2",
   "metadata": {},
   "outputs": [
    {
     "ename": "FileNotFoundError",
     "evalue": "[Errno 2] No such file or directory: 'ecommerce_data'",
     "output_type": "error",
     "traceback": [
      "\u001b[1;31m---------------------------------------------------------------------------\u001b[0m",
      "\u001b[1;31mFileNotFoundError\u001b[0m                         Traceback (most recent call last)",
      "Cell \u001b[1;32mIn[193], line 1\u001b[0m\n\u001b[1;32m----> 1\u001b[0m f \u001b[38;5;241m=\u001b[39m \u001b[38;5;28mopen\u001b[39m(\u001b[38;5;124m\"\u001b[39m\u001b[38;5;124mecommerce_data\u001b[39m\u001b[38;5;124m\"\u001b[39m, \u001b[38;5;124m\"\u001b[39m\u001b[38;5;124mr\u001b[39m\u001b[38;5;124m\"\u001b[39m)\n",
      "File \u001b[1;32m~\\anaconda3\\Lib\\site-packages\\IPython\\core\\interactiveshell.py:324\u001b[0m, in \u001b[0;36m_modified_open\u001b[1;34m(file, *args, **kwargs)\u001b[0m\n\u001b[0;32m    317\u001b[0m \u001b[38;5;28;01mif\u001b[39;00m file \u001b[38;5;129;01min\u001b[39;00m {\u001b[38;5;241m0\u001b[39m, \u001b[38;5;241m1\u001b[39m, \u001b[38;5;241m2\u001b[39m}:\n\u001b[0;32m    318\u001b[0m     \u001b[38;5;28;01mraise\u001b[39;00m \u001b[38;5;167;01mValueError\u001b[39;00m(\n\u001b[0;32m    319\u001b[0m         \u001b[38;5;124mf\u001b[39m\u001b[38;5;124m\"\u001b[39m\u001b[38;5;124mIPython won\u001b[39m\u001b[38;5;124m'\u001b[39m\u001b[38;5;124mt let you open fd=\u001b[39m\u001b[38;5;132;01m{\u001b[39;00mfile\u001b[38;5;132;01m}\u001b[39;00m\u001b[38;5;124m by default \u001b[39m\u001b[38;5;124m\"\u001b[39m\n\u001b[0;32m    320\u001b[0m         \u001b[38;5;124m\"\u001b[39m\u001b[38;5;124mas it is likely to crash IPython. If you know what you are doing, \u001b[39m\u001b[38;5;124m\"\u001b[39m\n\u001b[0;32m    321\u001b[0m         \u001b[38;5;124m\"\u001b[39m\u001b[38;5;124myou can use builtins\u001b[39m\u001b[38;5;124m'\u001b[39m\u001b[38;5;124m open.\u001b[39m\u001b[38;5;124m\"\u001b[39m\n\u001b[0;32m    322\u001b[0m     )\n\u001b[1;32m--> 324\u001b[0m \u001b[38;5;28;01mreturn\u001b[39;00m io_open(file, \u001b[38;5;241m*\u001b[39margs, \u001b[38;5;241m*\u001b[39m\u001b[38;5;241m*\u001b[39mkwargs)\n",
      "\u001b[1;31mFileNotFoundError\u001b[0m: [Errno 2] No such file or directory: 'ecommerce_data'"
     ]
    }
   ],
   "source": [
    "f = open(\"ecommerce_data\", \"r\")  # Open the file in read mode\n"
   ]
  },
  {
   "cell_type": "markdown",
   "id": "358e7268-5cc8-4172-9372-0d321a5f2827",
   "metadata": {},
   "source": [
    "# File Open"
   ]
  },
  {
   "cell_type": "markdown",
   "id": "62c0e192-093f-4b4e-8cd0-d657f86a7b96",
   "metadata": {},
   "source": [
    "### Open a File on the Server\n",
    "Assume we have the following file, located in the same folder as Python:\n",
    "\n",
    "demofile.txt\n",
    "\n",
    "Hello! Welcome to demofile.txt\n",
    "This file is for testing purposes.\n",
    "Good Luck!"
   ]
  },
  {
   "cell_type": "code",
   "execution_count": null,
   "id": "dd6a8253-3c78-4fff-aa2b-53e4ef5cfd96",
   "metadata": {},
   "outputs": [
    {
     "name": "stdout",
     "output_type": "stream",
     "text": [
      "\n",
      "\n",
      "Hello! Welcome to demofile.txt\n",
      "This file is for testing purposes.\n",
      "Good Luck!\n"
     ]
    }
   ],
   "source": [
    "f = open(\"demofile.txt\", \"r\")\n",
    "print(f.read())"
   ]
  },
  {
   "cell_type": "markdown",
   "id": "8aaf6ae8-cd6b-456b-9c6d-908752eca621",
   "metadata": {},
   "source": [
    "### To open the file, use the built-in open() function.\n",
    "\n",
    "The open() function returns a file object, which has a read() method for reading the content of the file:"
   ]
  },
  {
   "cell_type": "markdown",
   "id": "de40a9bf-1c83-4494-9eaf-a803bc7ac64b",
   "metadata": {},
   "source": [
    "#### If the file is located in a different location, you will have to specify the file path, like this:"
   ]
  },
  {
   "cell_type": "code",
   "execution_count": null,
   "id": "c361ae26-d90c-4656-94eb-39124017d0ba",
   "metadata": {},
   "outputs": [
    {
     "name": "stdout",
     "output_type": "stream",
     "text": [
      "\n",
      "\n",
      "Hello! Welcome to demofile.txt\n",
      "This file is for testing purposes.\n",
      "Good Luck!\n"
     ]
    }
   ],
   "source": [
    "f = open(r\"C:\\Users\\Dell\\Downloads\\demofile.txt\", \"r\")\n",
    "print(f.read())\n",
    "f.close()  # Don't forget to close the file"
   ]
  },
  {
   "cell_type": "markdown",
   "id": "2e4924b4-bc6c-41ad-a8ef-b6e68ea996e7",
   "metadata": {},
   "source": [
    "### Read Lines\n",
    "You can return one line by using the readline() method:"
   ]
  },
  {
   "cell_type": "code",
   "execution_count": null,
   "id": "054766ae-aaaa-456b-b4ad-2297b4b09716",
   "metadata": {},
   "outputs": [
    {
     "name": "stdout",
     "output_type": "stream",
     "text": [
      "\n",
      "\n"
     ]
    }
   ],
   "source": [
    "#By calling readline() two times, you can read the two first lines:\n",
    "\n",
    "#Example\n",
    "#Read two lines of the file:\n",
    "\n",
    "f = open(\"demofile.txt\", \"r\")\n",
    "print(f.readline())"
   ]
  },
  {
   "cell_type": "code",
   "execution_count": null,
   "id": "5fb3df64-eba9-4afa-b1de-65df27e82415",
   "metadata": {},
   "outputs": [
    {
     "name": "stdout",
     "output_type": "stream",
     "text": [
      "\n",
      "\n",
      "\n",
      "\n",
      "Hello! Welcome to demofile.txt\n",
      "\n",
      "This file is for testing purposes.\n",
      "\n",
      "Good Luck!\n"
     ]
    }
   ],
   "source": [
    "#By looping through the lines of the file, you can read the whole file, line by line:\n",
    "\n",
    "#Example\n",
    "#Loop through the file line by line:\n",
    "\n",
    "f = open(\"demofile.txt\", \"r\")\n",
    "for x in f:\n",
    "  print(x)"
   ]
  },
  {
   "cell_type": "code",
   "execution_count": null,
   "id": "8ceb2540-e87d-40da-beea-207b0a6bb426",
   "metadata": {},
   "outputs": [
    {
     "name": "stdout",
     "output_type": "stream",
     "text": [
      "\n",
      "\n"
     ]
    }
   ],
   "source": [
    "#Close Files\n",
    "#It is a good practice to always close the file when you are done with it.\n",
    "\n",
    "#Example\n",
    "#Close the file when you are finished with it:\n",
    "\n",
    "f = open(\"demofile.txt\", \"r\")\n",
    "print(f.readline())\n",
    "f.close()"
   ]
  },
  {
   "cell_type": "code",
   "execution_count": null,
   "id": "00a454be-7e1e-421e-8749-6138dd50e614",
   "metadata": {},
   "outputs": [
    {
     "name": "stdout",
     "output_type": "stream",
     "text": [
      "OrderID,ProductID,Category,Price,Quantity,Discount,TotalPrice,CustomerID,CustomerAge,CustomerGender,OrderDate,ShippingDate,ShippingCost,PaymentMethod,CustomerLocation,OrderStatus,ReturnStatus,ProductRating,ReviewText\n",
      "\n"
     ]
    }
   ],
   "source": [
    "# Use raw string to avoid escape issues\n",
    "f = open(r\"C:\\Users\\Dell\\Downloads\\ecommerce_data (1).csv\", \"rt\")\n",
    "\n",
    "# Reading the content (for example, the first few lines)\n",
    "print(f.readline())  # Print the first line\n",
    "f.close()            # Always close the file after use\n"
   ]
  },
  {
   "cell_type": "code",
   "execution_count": null,
   "id": "1e317960-99ca-4633-b8f4-aa2c69d26b38",
   "metadata": {},
   "outputs": [
    {
     "name": "stdout",
     "output_type": "stream",
     "text": [
      "['OrderID', 'ProductID', 'Category', 'Price', 'Quantity', 'Discount', 'TotalPrice', 'CustomerID', 'CustomerAge', 'CustomerGender', 'OrderDate', 'ShippingDate', 'ShippingCost', 'PaymentMethod', 'CustomerLocation', 'OrderStatus', 'ReturnStatus', 'ProductRating', 'ReviewText']\n",
      "['7636698', '7745', 'Books', '173.74', '4', '38.53', '427.19191200000006', '105913', '58', 'Female', '2023-01-01', '2023-01-02', '34.16', 'Google Pay', 'Location_1', 'Shipped', 'Not Returned', '5', 'Lorem ipsum dolor sit amet']\n",
      "['5955613', '2874', 'Home & Garden', '257.75', '5', '35.11', '836.2698750000001', '343435', '38', 'Female', '2023-01-02', '2023-01-03', '36.06', 'Credit Card', 'Location_2', 'Delivered', 'Returned', '2', 'Lorem ipsum dolor sit amet']\n",
      "['9176641', '9113', 'Books', '286.19', '6', '19.56', '1381.267416', '316757', '31', 'Female', '2023-01-03', '2023-01-04', '8.63', 'Cash', 'Location_3', 'Pending', 'Not Returned', '3', 'Lorem ipsum dolor sit amet']\n",
      "['5056467', '6136', 'Toys', '837.78', '4', '18.98', '2715.077424', '629839', '51', 'Male', '2023-01-04', '2023-01-05', '28.16', 'Debit Card', 'Location_4', 'Delivered', 'Not Returned', '4', 'Lorem ipsum dolor sit amet']\n",
      "['4085709', '3751', 'Beauty', '610.52', '9', '44.04', '3074.822928', '368286', '29', 'Male', '2023-01-05', '2023-01-06', '22.87', 'Cash', 'Location_5', 'Shipped', 'Not Returned', '1', 'Lorem ipsum dolor sit amet']\n",
      "['8810530', '7987', 'Toys', '865.83', '1', '0.33', '862.9727610000001', '892582', '28', 'Male', '2023-01-06', '2023-01-07', '20.46', 'Apple Pay', 'Location_6', 'Delivered', 'Not Returned', '1', 'Lorem ipsum dolor sit amet']\n",
      "['5090866', '4914', 'Clothing', '984.88', '7', '40.15', '4126.15476', '501565', '36', 'Female', '2023-01-07', '2023-01-08', '30.91', 'Debit Card', 'Location_7', 'Canceled', 'Not Returned', '3', 'Lorem ipsum dolor sit amet']\n",
      "['1458198', '5841', 'Clothing', '284.57', '2', '26.65', '417.46419000000003', '395984', '25', 'Female', '2023-01-08', '2023-01-09', '41.33', 'Debit Card', 'Location_8', 'Delivered', 'Returned', '4', 'Lorem ipsum dolor sit amet']\n",
      "['4194550', '4054', 'Books', '427.72', '8', '26.83', '2503.7017920000003', '299454', '56', 'Female', '2023-01-09', '2023-01-10', '43.89', 'Credit Card', 'Location_9', 'Pending', 'Not Returned', '3', 'Lorem ipsum dolor sit amet']\n",
      "['4150128', '2782', 'Toys', '573.59', '7', '6.44', '3756.555628', '560476', '60', 'Female', '2023-01-10', '2023-01-11', '5.64', 'Cash', 'Location_10', 'Delivered', 'Returned', '4', 'Lorem ipsum dolor sit amet']\n",
      "['4051825', '2241', 'Sports', '228.71', '6', '38.58', '842.8420920000001', '318883', '46', 'Male', '2023-01-11', '2023-01-12', '8.83', 'PayPal', 'Location_11', 'Shipped', 'Returned', '2', 'Lorem ipsum dolor sit amet']\n",
      "['8744578', '9831', 'Beauty', '892.56', '6', '2.3', '5232.18672', '578419', '48', 'Other', '2023-01-12', '2023-01-13', '39.59', 'Apple Pay', 'Location_12', 'Delivered', 'Not Returned', '2', 'Lorem ipsum dolor sit amet']\n",
      "['5210101', '4630', 'Home & Garden', '860.77', '9', '40.41', '4616.395587000001', '966490', '51', 'Female', '2023-01-13', '2023-01-14', '33.72', 'Credit Card', 'Location_13', 'Delivered', 'Returned', '4', 'Lorem ipsum dolor sit amet']\n",
      "['4740182', '3096', 'Electronics', '745.03', '9', '20.29', '5344.770716999999', '748912', '57', 'Male', '2023-01-14', '2023-01-15', '31.12', 'Google Pay', 'Location_14', 'Delivered', 'Returned', '3', 'Lorem ipsum dolor sit amet']\n",
      "['6616537', '7077', 'Sports', '110.01', '4', '38.42', '270.976632', '639581', '18', 'Male', '2023-01-15', '2023-01-16', '24.46', 'Debit Card', 'Location_15', 'Canceled', 'Not Returned', '4', 'Lorem ipsum dolor sit amet']\n",
      "['8818055', '9362', 'Sports', '820.47', '1', '42.49', '471.85229699999996', '567195', '50', 'Other', '2023-01-16', '2023-01-17', '40.3', 'Google Pay', 'Location_16', 'Shipped', 'Returned', '2', 'Lorem ipsum dolor sit amet']\n",
      "['9364695', '4283', 'Electronics', '129.89', '3', '32.26', '263.96245799999997', '616228', '34', 'Other', '2023-01-17', '2023-01-18', '37.66', 'Credit Card', 'Location_17', 'Shipped', 'Not Returned', '2', 'Lorem ipsum dolor sit amet']\n",
      "['2957165', '5671', 'Toys', '719.03', '4', '23.87', '2189.5901559999998', '318936', '37', 'Male', '2023-01-18', '2023-01-19', '20.23', 'Apple Pay', 'Location_18', 'Pending', 'Not Returned', '5', 'Lorem ipsum dolor sit amet']\n",
      "['9697900', '8200', 'Sports', '838.72', '3', '2.27', '2459.0431679999997', '469409', '52', 'Male', '2023-01-19', '2023-01-20', '15.8', 'Credit Card', 'Location_19', 'Canceled', 'Not Returned', '5', 'Lorem ipsum dolor sit amet']\n",
      "['7374308', '9521', 'Books', '829.92', '7', '47.6', '3044.14656', '649288', '24', 'Male', '2023-01-20', '2023-01-21', '10.78', 'Apple Pay', 'Location_20', 'Canceled', 'Not Returned', '5', 'Lorem ipsum dolor sit amet']\n",
      "['4436411', '3879', 'Sports', '667.68', '1', '17.29', '552.238128', '160721', '29', 'Male', '2023-01-21', '2023-01-22', '12.64', 'Apple Pay', 'Location_21', 'Canceled', 'Returned', '4', 'Lorem ipsum dolor sit amet']\n",
      "['9232805', '6230', 'Home & Garden', '642.07', '3', '17.26', '1593.7461540000002', '900182', '19', 'Male', '2023-01-22', '2023-01-23', '22.66', 'Apple Pay', 'Location_22', 'Delivered', 'Returned', '4', 'Lorem ipsum dolor sit amet']\n",
      "['3475225', '7912', 'Toys', '941.14', '2', '15.97', '1581.6798840000001', '123621', '21', 'Other', '2023-01-23', '2023-01-24', '6.89', 'Google Pay', 'Location_23', 'Canceled', 'Not Returned', '3', 'Lorem ipsum dolor sit amet']\n",
      "['2941975', '1438', 'Toys', '260.87', '2', '1.78', '512.453028', '534889', '24', 'Male', '2023-01-24', '2023-01-25', '13.24', 'Cash', 'Location_24', 'Delivered', 'Not Returned', '2', 'Lorem ipsum dolor sit amet']\n",
      "['6270722', '6539', 'Sports', '258.66', '5', '31.17', '890.17839', '774716', '63', 'Female', '2023-01-25', '2023-01-26', '13.45', 'Google Pay', 'Location_25', 'Pending', 'Returned', '3', 'Lorem ipsum dolor sit amet']\n",
      "['3840810', '2506', 'Clothing', '493.29', '6', '47.04', '1567.4783040000004', '435265', '56', 'Male', '2023-01-26', '2023-01-27', '22.28', 'Debit Card', 'Location_26', 'Canceled', 'Returned', '3', 'Lorem ipsum dolor sit amet']\n",
      "['3941358', '6745', 'Electronics', '738.57', '8', '15.42', '4997.460048', '254770', '31', 'Male', '2023-01-27', '2023-01-28', '14.8', 'Cash', 'Location_27', 'Delivered', 'Returned', '5', 'Lorem ipsum dolor sit amet']\n",
      "['2927396', '1944', 'Clothing', '203.06', '3', '48.78', '312.021996', '482294', '43', 'Female', '2023-01-28', '2023-01-29', '49.61', 'Credit Card', 'Location_28', 'Delivered', 'Returned', '3', 'Lorem ipsum dolor sit amet']\n",
      "['8318387', '9878', 'Electronics', '245.61', '5', '23.93', '934.1776350000002', '216984', '36', 'Female', '2023-01-29', '2023-01-30', '20.73', 'Google Pay', 'Location_29', 'Shipped', 'Not Returned', '4', 'Lorem ipsum dolor sit amet']\n",
      "['6106524', '2344', 'Books', '478.53', '3', '8.71', '1310.550111', '688168', '60', 'Female', '2023-01-30', '2023-01-31', '27.56', 'Apple Pay', 'Location_30', 'Canceled', 'Returned', '5', 'Lorem ipsum dolor sit amet']\n",
      "['1221460', '5388', 'Sports', '954.38', '1', '37.17', '599.636954', '916725', '69', 'Other', '2023-01-31', '2023-02-01', '47.13', 'Credit Card', 'Location_31', 'Canceled', 'Not Returned', '2', 'Lorem ipsum dolor sit amet']\n",
      "['6039234', '5249', 'Books', '226.19', '1', '27.99', '162.87941899999998', '260131', '24', 'Female', '2023-02-01', '2023-02-02', '19.18', 'Google Pay', 'Location_32', 'Pending', 'Not Returned', '2', 'Lorem ipsum dolor sit amet']\n",
      "['9186081', '1321', 'Clothing', '207.89', '7', '23.44', '1114.124088', '948505', '66', 'Male', '2023-02-02', '2023-02-03', '23.28', 'Debit Card', 'Location_33', 'Shipped', 'Returned', '5', 'Lorem ipsum dolor sit amet']\n",
      "['1157310', '5529', 'Beauty', '41.92', '4', '0.54', '166.774528', '206310', '35', 'Male', '2023-02-03', '2023-02-04', '31.08', 'PayPal', 'Location_34', 'Canceled', 'Returned', '1', 'Lorem ipsum dolor sit amet']\n",
      "['8002838', '5728', 'Toys', '655.82', '4', '44.82', '1447.5259040000003', '736325', '24', 'Other', '2023-02-04', '2023-02-05', '29.66', 'Credit Card', 'Location_35', 'Shipped', 'Returned', '1', 'Lorem ipsum dolor sit amet']\n",
      "['8378157', '1920', 'Sports', '394.66', '6', '12.73', '2066.518692', '426278', '35', 'Male', '2023-02-05', '2023-02-06', '20.87', 'Google Pay', 'Location_36', 'Shipped', 'Not Returned', '5', 'Lorem ipsum dolor sit amet']\n",
      "['2042802', '9206', 'Clothing', '665.72', '6', '6.57', '3731.893176', '166449', '51', 'Female', '2023-02-06', '2023-02-07', '5.01', 'Cash', 'Location_37', 'Canceled', 'Not Returned', '3', 'Lorem ipsum dolor sit amet']\n",
      "['3064124', '5438', 'Home & Garden', '540.53', '3', '14.99', '1378.513659', '792426', '55', 'Other', '2023-02-07', '2023-02-08', '29.3', 'PayPal', 'Location_38', 'Delivered', 'Returned', '3', 'Lorem ipsum dolor sit amet']\n",
      "['8652308', '7667', 'Sports', '349.73', '2', '10.73', '624.407942', '474885', '48', 'Male', '2023-02-08', '2023-02-09', '24.45', 'PayPal', 'Location_39', 'Pending', 'Returned', '5', 'Lorem ipsum dolor sit amet']\n",
      "['5801904', '9796', 'Electronics', '105.78', '4', '3.07', '410.130216', '204969', '64', 'Other', '2023-02-09', '2023-02-10', '13.87', 'Cash', 'Location_40', 'Shipped', 'Not Returned', '2', 'Lorem ipsum dolor sit amet']\n",
      "['6227395', '8809', 'Sports', '931.07', '3', '29.15', '1978.989285', '563894', '53', 'Female', '2023-02-10', '2023-02-11', '15.56', 'Google Pay', 'Location_41', 'Delivered', 'Not Returned', '4', 'Lorem ipsum dolor sit amet']\n",
      "['4537767', '4850', 'Electronics', '58.85', '9', '29.41', '373.879935', '192075', '29', 'Male', '2023-02-11', '2023-02-12', '33.45', 'Cash', 'Location_42', 'Pending', 'Returned', '5', 'Lorem ipsum dolor sit amet']\n",
      "['4591870', '2312', 'Home & Garden', '116.84', '6', '32.83', '470.88856799999996', '307835', '19', 'Female', '2023-02-12', '2023-02-13', '5.92', 'Cash', 'Location_43', 'Shipped', 'Returned', '3', 'Lorem ipsum dolor sit amet']\n",
      "['1755369', '3085', 'Books', '849.82', '8', '40.44', '4049.2223360000003', '531445', '52', 'Male', '2023-02-13', '2023-02-14', '29.25', 'Apple Pay', 'Location_44', 'Canceled', 'Not Returned', '4', 'Lorem ipsum dolor sit amet']\n",
      "['9558511', '4793', 'Clothing', '56.6', '8', '37.48', '283.09056', '960800', '20', 'Female', '2023-02-14', '2023-02-15', '14.58', 'Debit Card', 'Location_45', 'Shipped', 'Not Returned', '5', 'Lorem ipsum dolor sit amet']\n",
      "['2907774', '7588', 'Home & Garden', '180.26', '4', '11.62', '637.255152', '993702', '51', 'Male', '2023-02-15', '2023-02-16', '16.73', 'PayPal', 'Location_46', 'Delivered', 'Returned', '4', 'Lorem ipsum dolor sit amet']\n",
      "['1487437', '2317', 'Beauty', '91.12', '9', '43.72', '461.541024', '466179', '52', 'Male', '2023-02-16', '2023-02-17', '25.91', 'Debit Card', 'Location_47', 'Canceled', 'Returned', '3', 'Lorem ipsum dolor sit amet']\n",
      "['6892838', '5153', 'Toys', '847.15', '8', '45.52', '3692.2185599999993', '532430', '54', 'Male', '2023-02-17', '2023-02-18', '34.4', 'Credit Card', 'Location_48', 'Shipped', 'Not Returned', '1', 'Lorem ipsum dolor sit amet']\n",
      "['8162022', '1545', 'Clothing', '663.14', '5', '35.94', '2124.03742', '713911', '42', 'Female', '2023-02-18', '2023-02-19', '15.7', 'Credit Card', 'Location_49', 'Canceled', 'Returned', '5', 'Lorem ipsum dolor sit amet']\n",
      "['1005389', '4792', 'Books', '341.27', '4', '26.56', '1002.5147519999998', '817305', '43', 'Other', '2023-02-19', '2023-02-20', '20.94', 'Apple Pay', 'Location_50', 'Canceled', 'Returned', '3', 'Lorem ipsum dolor sit amet']\n",
      "['3526910', '2075', 'Electronics', '176.83', '1', '29.62', '124.452954', '912416', '64', 'Other', '2023-02-20', '2023-02-21', '36.93', 'Google Pay', 'Location_51', 'Canceled', 'Returned', '3', 'Lorem ipsum dolor sit amet']\n",
      "['6065654', '3840', 'Clothing', '659.28', '1', '42.86', '376.712592', '678550', '20', 'Other', '2023-02-21', '2023-02-22', '38.35', 'Cash', 'Location_52', 'Pending', 'Not Returned', '2', 'Lorem ipsum dolor sit amet']\n",
      "['2989401', '5363', 'Sports', '751.92', '8', '2.78', '5848.132992', '199162', '19', 'Male', '2023-02-22', '2023-02-23', '32.47', 'PayPal', 'Location_53', 'Shipped', 'Returned', '5', 'Lorem ipsum dolor sit amet']\n",
      "['2549753', '6413', 'Beauty', '780.42', '2', '16.89', '1297.2141239999999', '227786', '21', 'Female', '2023-02-23', '2023-02-24', '22.26', 'Apple Pay', 'Location_54', 'Shipped', 'Returned', '5', 'Lorem ipsum dolor sit amet']\n",
      "['5684466', '3049', 'Books', '378.12', '3', '3.22', '1097.8336080000001', '939912', '36', 'Male', '2023-02-24', '2023-02-25', '47.09', 'Credit Card', 'Location_55', 'Canceled', 'Returned', '3', 'Lorem ipsum dolor sit amet']\n",
      "['4895089', '9475', 'Electronics', '584.74', '4', '25.83', '1734.806632', '626788', '33', 'Other', '2023-02-25', '2023-02-26', '9.39', 'Credit Card', 'Location_56', 'Canceled', 'Returned', '1', 'Lorem ipsum dolor sit amet']\n",
      "['6812111', '7740', 'Electronics', '189.56', '5', '43.28', '537.5921599999999', '415675', '28', 'Male', '2023-02-26', '2023-02-27', '33.32', 'PayPal', 'Location_57', 'Canceled', 'Not Returned', '5', 'Lorem ipsum dolor sit amet']\n",
      "['8559905', '5384', 'Electronics', '576.24', '5', '15.44', '2436.34272', '842322', '25', 'Female', '2023-02-27', '2023-02-28', '37.42', 'Credit Card', 'Location_58', 'Shipped', 'Returned', '3', 'Lorem ipsum dolor sit amet']\n",
      "['2273181', '3798', 'Home & Garden', '69.71', '8', '32.88', '374.31481599999995', '644836', '44', 'Other', '2023-02-28', '2023-03-01', '41.92', 'Google Pay', 'Location_59', 'Pending', 'Not Returned', '4', 'Lorem ipsum dolor sit amet']\n",
      "['6528428', '3510', 'Beauty', '642.21', '3', '17.59', '1587.735783', '687391', '46', 'Female', '2023-03-01', '2023-03-02', '40.66', 'Cash', 'Location_60', 'Canceled', 'Returned', '3', 'Lorem ipsum dolor sit amet']\n",
      "['9528685', '6265', 'Sports', '587.11', '3', '7.89', '1622.361063', '375286', '45', 'Male', '2023-03-02', '2023-03-03', '21.98', 'PayPal', 'Location_61', 'Shipped', 'Not Returned', '5', 'Lorem ipsum dolor sit amet']\n",
      "['9575725', '9613', 'Toys', '669.95', '3', '41.98', '1166.11497', '426981', '28', 'Male', '2023-03-03', '2023-03-04', '21.18', 'Debit Card', 'Location_62', 'Delivered', 'Not Returned', '2', 'Lorem ipsum dolor sit amet']\n",
      "['5263542', '4359', 'Home & Garden', '741.61', '5', '3.81', '3566.773295', '623550', '49', 'Female', '2023-03-04', '2023-03-05', '5.27', 'PayPal', 'Location_63', 'Delivered', 'Not Returned', '3', 'Lorem ipsum dolor sit amet']\n",
      "['7999920', '8451', 'Sports', '709.23', '6', '40.57', '2528.9723340000005', '763835', '59', 'Male', '2023-03-05', '2023-03-06', '20.99', 'Apple Pay', 'Location_64', 'Delivered', 'Returned', '5', 'Lorem ipsum dolor sit amet']\n",
      "['7565978', '7190', 'Books', '778.39', '8', '41.4', '3649.09232', '659113', '54', 'Male', '2023-03-06', '2023-03-07', '5.42', 'PayPal', 'Location_65', 'Pending', 'Not Returned', '5', 'Lorem ipsum dolor sit amet']\n",
      "['9132990', '7542', 'Sports', '456.52', '9', '22.02', '3203.9486640000005', '123560', '41', 'Other', '2023-03-07', '2023-03-08', '42.9', 'Cash', 'Location_66', 'Pending', 'Returned', '3', 'Lorem ipsum dolor sit amet']\n",
      "['7379592', '4919', 'Beauty', '101.94', '4', '18.92', '330.611808', '759980', '43', 'Other', '2023-03-08', '2023-03-09', '19.96', 'Credit Card', 'Location_67', 'Delivered', 'Not Returned', '5', 'Lorem ipsum dolor sit amet']\n",
      "['8364277', '3662', 'Clothing', '103.37', '8', '26.8', '605.3347200000001', '353805', '63', 'Other', '2023-03-09', '2023-03-10', '23.25', 'Apple Pay', 'Location_68', 'Shipped', 'Returned', '4', 'Lorem ipsum dolor sit amet']\n",
      "['6478086', '2286', 'Home & Garden', '458.98', '6', '3.21', '2665.4804520000002', '673873', '38', 'Male', '2023-03-10', '2023-03-11', '11.87', 'Apple Pay', 'Location_69', 'Canceled', 'Returned', '1', 'Lorem ipsum dolor sit amet']\n",
      "['6696919', '8432', 'Books', '563.28', '4', '40.76', '1334.748288', '191156', '35', 'Other', '2023-03-11', '2023-03-12', '24.8', 'Google Pay', 'Location_70', 'Canceled', 'Not Returned', '2', 'Lorem ipsum dolor sit amet']\n",
      "['5835310', '2108', 'Beauty', '233.19', '7', '16.65', '1360.547055', '674271', '62', 'Male', '2023-03-12', '2023-03-13', '32.88', 'Apple Pay', 'Location_71', 'Shipped', 'Not Returned', '5', 'Lorem ipsum dolor sit amet']\n",
      "['2288249', '8297', 'Books', '900.61', '5', '8.43', '4123.442885', '936136', '62', 'Female', '2023-03-13', '2023-03-14', '10.59', 'Debit Card', 'Location_72', 'Pending', 'Not Returned', '4', 'Lorem ipsum dolor sit amet']\n",
      "['6258870', '3642', 'Beauty', '20.71', '5', '20.35', '82.477575', '866528', '48', 'Male', '2023-03-14', '2023-03-15', '9.95', 'Apple Pay', 'Location_73', 'Canceled', 'Not Returned', '4', 'Lorem ipsum dolor sit amet']\n",
      "['6720773', '5566', 'Books', '716.57', '8', '14.08', '4925.415552', '664683', '56', 'Other', '2023-03-15', '2023-03-16', '23.64', 'Credit Card', 'Location_74', 'Delivered', 'Returned', '1', 'Lorem ipsum dolor sit amet']\n",
      "['8206528', '2217', 'Electronics', '670.6', '2', '30.69', '929.5857200000002', '949454', '57', 'Female', '2023-03-16', '2023-03-17', '6.7', 'Cash', 'Location_75', 'Canceled', 'Returned', '3', 'Lorem ipsum dolor sit amet']\n",
      "['1441389', '8026', 'Books', '429.72', '1', '41.6', '250.95648', '931267', '52', 'Other', '2023-03-17', '2023-03-18', '10.94', 'Apple Pay', 'Location_76', 'Canceled', 'Not Returned', '1', 'Lorem ipsum dolor sit amet']\n",
      "['9721825', '9375', 'Books', '353.77', '6', '15.26', '1798.708188', '197134', '69', 'Male', '2023-03-18', '2023-03-19', '19.47', 'Apple Pay', 'Location_77', 'Delivered', 'Returned', '5', 'Lorem ipsum dolor sit amet']\n",
      "['1438490', '5516', 'Home & Garden', '481.3', '6', '31.36', '1982.1859200000001', '200085', '45', 'Female', '2023-03-19', '2023-03-20', '16.24', 'Apple Pay', 'Location_78', 'Pending', 'Returned', '4', 'Lorem ipsum dolor sit amet']\n",
      "['3185933', '8753', 'Sports', '861.89', '9', '22.44', '6016.336956', '227006', '34', 'Other', '2023-03-20', '2023-03-21', '34.95', 'Debit Card', 'Location_79', 'Pending', 'Returned', '4', 'Lorem ipsum dolor sit amet']\n",
      "['7979126', '8876', 'Home & Garden', '619.76', '8', '9.22', '4500.945024', '191493', '48', 'Female', '2023-03-21', '2023-03-22', '36.87', 'PayPal', 'Location_80', 'Delivered', 'Not Returned', '4', 'Lorem ipsum dolor sit amet']\n",
      "['2035957', '1143', 'Books', '41.24', '3', '19.75', '99.28529999999999', '990559', '46', 'Female', '2023-03-22', '2023-03-23', '8.24', 'Google Pay', 'Location_81', 'Canceled', 'Returned', '5', 'Lorem ipsum dolor sit amet']\n",
      "['8004437', '9425', 'Home & Garden', '427.07', '9', '17.78', '3160.232586', '874162', '26', 'Other', '2023-03-23', '2023-03-24', '26.86', 'Cash', 'Location_82', 'Pending', 'Not Returned', '3', 'Lorem ipsum dolor sit amet']\n",
      "['3204014', '5422', 'Books', '324.89', '8', '9.02', '2364.6793759999996', '259257', '18', 'Other', '2023-03-24', '2023-03-25', '20.26', 'PayPal', 'Location_83', 'Pending', 'Returned', '4', 'Lorem ipsum dolor sit amet']\n",
      "['2362520', '6462', 'Sports', '913.98', '8', '35.34', '4727.835744', '771480', '47', 'Female', '2023-03-25', '2023-03-26', '10.2', 'Google Pay', 'Location_84', 'Shipped', 'Not Returned', '3', 'Lorem ipsum dolor sit amet']\n",
      "['1514202', '8405', 'Beauty', '750.33', '7', '33.2', '3508.54308', '394606', '66', 'Female', '2023-03-26', '2023-03-27', '25.56', 'Apple Pay', 'Location_85', 'Delivered', 'Not Returned', '5', 'Lorem ipsum dolor sit amet']\n",
      "['6017351', '1066', 'Electronics', '918.45', '2', '28.55', '1312.4650499999998', '978902', '26', 'Male', '2023-03-27', '2023-03-28', '19.43', 'Credit Card', 'Location_86', 'Delivered', 'Returned', '2', 'Lorem ipsum dolor sit amet']\n",
      "['2028764', '4257', 'Sports', '118.74', '6', '3.64', '686.5071839999999', '462566', '27', 'Male', '2023-03-28', '2023-03-29', '14.69', 'Apple Pay', 'Location_87', 'Delivered', 'Returned', '4', 'Lorem ipsum dolor sit amet']\n",
      "['5712679', '4966', 'Home & Garden', '938.73', '8', '23.24', '5764.553184', '178173', '31', 'Other', '2023-03-29', '2023-03-30', '45.9', 'Apple Pay', 'Location_88', 'Canceled', 'Not Returned', '4', 'Lorem ipsum dolor sit amet']\n",
      "['6623713', '3575', 'Beauty', '493.81', '1', '6.67', '460.872873', '326248', '39', 'Female', '2023-03-30', '2023-03-31', '30.22', 'Google Pay', 'Location_89', 'Delivered', 'Not Returned', '2', 'Lorem ipsum dolor sit amet']\n",
      "['5299874', '7146', 'Electronics', '388.39', '6', '28.76', '1660.134216', '149984', '57', 'Female', '2023-03-31', '2023-04-01', '48.36', 'Google Pay', 'Location_90', 'Pending', 'Not Returned', '1', 'Lorem ipsum dolor sit amet']\n",
      "['1943142', '7726', 'Clothing', '731.29', '8', '17.1', '4849.915279999999', '928347', '37', 'Other', '2023-04-01', '2023-04-02', '15.17', 'Cash', 'Location_91', 'Canceled', 'Not Returned', '5', 'Lorem ipsum dolor sit amet']\n",
      "['9418482', '9135', 'Clothing', '516.09', '1', '1.83', '506.64555300000006', '262039', '40', 'Male', '2023-04-02', '2023-04-03', '35.61', 'PayPal', 'Location_92', 'Delivered', 'Returned', '2', 'Lorem ipsum dolor sit amet']\n",
      "['3762380', '4676', 'Electronics', '602.87', '1', '4.6', '575.13798', '845027', '67', 'Other', '2023-04-03', '2023-04-04', '24.38', 'Google Pay', 'Location_93', 'Delivered', 'Not Returned', '4', 'Lorem ipsum dolor sit amet']\n",
      "['8547403', '7215', 'Beauty', '961.11', '2', '1.12', '1900.6911360000001', '651099', '22', 'Male', '2023-04-04', '2023-04-05', '20.03', 'Cash', 'Location_94', 'Delivered', 'Not Returned', '4', 'Lorem ipsum dolor sit amet']\n",
      "['2840265', '2450', 'Sports', '409.46', '8', '17.98', '2686.712736', '149718', '63', 'Male', '2023-04-05', '2023-04-06', '8.42', 'Cash', 'Location_95', 'Pending', 'Not Returned', '3', 'Lorem ipsum dolor sit amet']\n",
      "['5332549', '4930', 'Electronics', '897.53', '5', '4.69', '4277.179214999999', '361690', '34', 'Other', '2023-04-06', '2023-04-07', '33.48', 'Cash', 'Location_96', 'Canceled', 'Returned', '4', 'Lorem ipsum dolor sit amet']\n",
      "['7037535', '7604', 'Home & Garden', '955.96', '6', '1.51', '5649.1500240000005', '899804', '43', 'Male', '2023-04-07', '2023-04-08', '8.94', 'Debit Card', 'Location_97', 'Canceled', 'Not Returned', '3', 'Lorem ipsum dolor sit amet']\n",
      "['2774213', '6851', 'Clothing', '498.26', '7', '29.8', '2448.44964', '731849', '18', 'Female', '2023-04-08', '2023-04-09', '44.03', 'Debit Card', 'Location_98', 'Pending', 'Not Returned', '1', 'Lorem ipsum dolor sit amet']\n",
      "['7299424', '1669', 'Electronics', '124.64', '1', '49.57', '62.855951999999995', '353359', '33', 'Female', '2023-04-09', '2023-04-10', '17.48', 'PayPal', 'Location_99', 'Pending', 'Returned', '5', 'Lorem ipsum dolor sit amet']\n",
      "['3738623', '7258', 'Sports', '849.93', '2', '27.89', '1225.7690460000001', '373545', '33', 'Female', '2023-04-10', '2023-04-11', '42.06', 'Cash', 'Location_100', 'Canceled', 'Returned', '3', 'Lorem ipsum dolor sit amet']\n"
     ]
    }
   ],
   "source": [
    "import csv\n",
    "\n",
    "# Open the CSV file\n",
    "with open(r\"C:\\Users\\Dell\\Downloads\\ecommerce_data (1).csv\", \"rt\") as f:\n",
    "    reader = csv.reader(f)\n",
    "    \n",
    "    # Iterate through each row in the CSV and print it\n",
    "    for row in reader:\n",
    "        print(row)\n"
   ]
  },
  {
   "cell_type": "code",
   "execution_count": null,
   "id": "757f6faf-04ee-4bed-9923-bf3f97daf610",
   "metadata": {},
   "outputs": [
    {
     "name": "stdout",
     "output_type": "stream",
     "text": [
      "['OrderID', 'ProductID', 'Category', 'Price', 'Quantity', 'Discount', 'TotalPrice', 'CustomerID', 'CustomerAge', 'CustomerGender', 'OrderDate', 'ShippingDate', 'ShippingCost', 'PaymentMethod', 'CustomerLocation', 'OrderStatus', 'ReturnStatus', 'ProductRating', 'ReviewText']\n",
      "['7636698', '7745', 'Books', '173.74', '4', '38.53', '427.19191200000006', '105913', '58', 'Female', '2023-01-01', '2023-01-02', '34.16', 'Google Pay', 'Location_1', 'Shipped', 'Not Returned', '5', 'Lorem ipsum dolor sit amet']\n",
      "['5955613', '2874', 'Home & Garden', '257.75', '5', '35.11', '836.2698750000001', '343435', '38', 'Female', '2023-01-02', '2023-01-03', '36.06', 'Credit Card', 'Location_2', 'Delivered', 'Returned', '2', 'Lorem ipsum dolor sit amet']\n",
      "['9176641', '9113', 'Books', '286.19', '6', '19.56', '1381.267416', '316757', '31', 'Female', '2023-01-03', '2023-01-04', '8.63', 'Cash', 'Location_3', 'Pending', 'Not Returned', '3', 'Lorem ipsum dolor sit amet']\n",
      "['5056467', '6136', 'Toys', '837.78', '4', '18.98', '2715.077424', '629839', '51', 'Male', '2023-01-04', '2023-01-05', '28.16', 'Debit Card', 'Location_4', 'Delivered', 'Not Returned', '4', 'Lorem ipsum dolor sit amet']\n"
     ]
    }
   ],
   "source": [
    "import csv\n",
    "\n",
    "# Open the CSV file\n",
    "with open(r\"C:\\Users\\Dell\\Downloads\\ecommerce_data (1).csv\", \"rt\") as f:\n",
    "    reader = csv.reader(f)\n",
    "    \n",
    "    # Read the first 5 rows\n",
    "    for i, row in enumerate(reader):\n",
    "        if i < 5:\n",
    "            print(row)\n",
    "        else:\n",
    "            break\n"
   ]
  },
  {
   "cell_type": "code",
   "execution_count": null,
   "id": "51f53f37-f364-43bc-af03-b1865f873e91",
   "metadata": {},
   "outputs": [
    {
     "name": "stdout",
     "output_type": "stream",
     "text": [
      "   OrderID  ProductID       Category   Price  Quantity  Discount   TotalPrice  \\\n",
      "0  7636698       7745          Books  173.74         4     38.53   427.191912   \n",
      "1  5955613       2874  Home & Garden  257.75         5     35.11   836.269875   \n",
      "2  9176641       9113          Books  286.19         6     19.56  1381.267416   \n",
      "3  5056467       6136           Toys  837.78         4     18.98  2715.077424   \n",
      "4  4085709       3751         Beauty  610.52         9     44.04  3074.822928   \n",
      "\n",
      "   CustomerID  CustomerAge CustomerGender   OrderDate ShippingDate  \\\n",
      "0      105913           58         Female  2023-01-01   2023-01-02   \n",
      "1      343435           38         Female  2023-01-02   2023-01-03   \n",
      "2      316757           31         Female  2023-01-03   2023-01-04   \n",
      "3      629839           51           Male  2023-01-04   2023-01-05   \n",
      "4      368286           29           Male  2023-01-05   2023-01-06   \n",
      "\n",
      "   ShippingCost PaymentMethod CustomerLocation OrderStatus  ReturnStatus  \\\n",
      "0         34.16    Google Pay       Location_1     Shipped  Not Returned   \n",
      "1         36.06   Credit Card       Location_2   Delivered      Returned   \n",
      "2          8.63          Cash       Location_3     Pending  Not Returned   \n",
      "3         28.16    Debit Card       Location_4   Delivered  Not Returned   \n",
      "4         22.87          Cash       Location_5     Shipped  Not Returned   \n",
      "\n",
      "   ProductRating                  ReviewText  \n",
      "0              5  Lorem ipsum dolor sit amet  \n",
      "1              2  Lorem ipsum dolor sit amet  \n",
      "2              3  Lorem ipsum dolor sit amet  \n",
      "3              4  Lorem ipsum dolor sit amet  \n",
      "4              1  Lorem ipsum dolor sit amet  \n"
     ]
    }
   ],
   "source": [
    "import pandas as pd\n",
    "\n",
    "# Read the CSV file into a DataFrame\n",
    "df = pd.read_csv(r\"C:\\Users\\Dell\\Downloads\\ecommerce_data (1).csv\")\n",
    "\n",
    "# Display the top 5 rows\n",
    "print(df.head())  # By default, it shows the top 5 rows\n"
   ]
  },
  {
   "cell_type": "markdown",
   "id": "66db96b3-d502-448f-b9bb-e4f03133567f",
   "metadata": {},
   "source": [
    "# Python File Write"
   ]
  },
  {
   "cell_type": "markdown",
   "id": "d4994b6d-8ee1-4f25-b07a-bf868f8789ae",
   "metadata": {},
   "source": [
    "### Write to an Existing File\n",
    "### To write to an existing file, you must add a parameter to the open() function:\n",
    "\n",
    "\"a\" - Append - will append to the end of the file\n",
    "\n",
    "\"w\" - Write - will overwrite any existing content"
   ]
  },
  {
   "cell_type": "code",
   "execution_count": null,
   "id": "72d057c2-799a-46c9-8843-70bca929f2e6",
   "metadata": {},
   "outputs": [
    {
     "name": "stdout",
     "output_type": "stream",
     "text": [
      "Now the file has more content!Now the file has more content!Now the file has more content!\n"
     ]
    }
   ],
   "source": [
    "\n",
    "#Open the file \"demofile2.txt\" and append content to the file:\n",
    "\n",
    "f = open(\"demofile2.txt\", \"a\")\n",
    "f.write(\"Now the file has more content!\")\n",
    "f.close()\n",
    "\n",
    "#open and read the file after the appending:\n",
    "f = open(\"demofile2.txt\", \"r\")\n",
    "print(f.read())\n"
   ]
  },
  {
   "cell_type": "code",
   "execution_count": null,
   "id": "04da2bf1-a490-4888-85b3-ac8b0c384925",
   "metadata": {},
   "outputs": [
    {
     "name": "stdout",
     "output_type": "stream",
     "text": [
      "Woops! I have deleted the content!\n"
     ]
    }
   ],
   "source": [
    "#Open the file \"demofile3.txt\" and overwrite the content:\n",
    "\n",
    "f = open(\"demofile3.txt\", \"w\")\n",
    "f.write(\"Woops! I have deleted the content!\")\n",
    "f.close()\n",
    "\n",
    "#open and read the file after the overwriting:\n",
    "f = open(\"demofile3.txt\", \"r\")\n",
    "print(f.read())"
   ]
  },
  {
   "cell_type": "markdown",
   "id": "c70917db-1d03-4c8a-bf9d-88adfda8be77",
   "metadata": {},
   "source": [
    "### Note: the \"w\" method will overwrite the entire file."
   ]
  },
  {
   "cell_type": "markdown",
   "id": "740b0773-d3b3-4a2a-97d9-678b28b9e23e",
   "metadata": {},
   "source": [
    "### Create a New File\n",
    "To create a new file in Python, use the open() method, with one of the following parameters:\n",
    "\n",
    "\"x\" - Create - will create a file, returns an error if the file exists\n",
    "\n",
    "\"a\" - Append - will create a file if the specified file does not exists\n",
    "\n",
    "\"w\" - Write - will create a file if the specified file does not exists"
   ]
  },
  {
   "cell_type": "code",
   "execution_count": null,
   "id": "66012aa7-10eb-4e9e-bf4c-c9e947e89f3b",
   "metadata": {},
   "outputs": [
    {
     "name": "stdout",
     "output_type": "stream",
     "text": [
      "File already exists.\n"
     ]
    }
   ],
   "source": [
    "#The error you are encountering (FileExistsError) happens because you're trying to create a file using \"x\" mode, which only works if the file does not already exist. If the file already exists, Python will raise this error.\n",
    "\n",
    "#Solution:\n",
    "#If you want to create the file only if it doesn't exist, but you want to handle the situation where the file already exists, you can use a try-except block. Here’s how:\n",
    "try:\n",
    "    # Try to create the file\n",
    "    f = open(\"myfile.txt\", \"x\")\n",
    "    print(\"File created successfully\")\n",
    "except FileExistsError:\n",
    "    print(\"File already exists.\")\n",
    "finally:\n",
    "    f.close()  # Always close the file if it's opened"
   ]
  },
  {
   "cell_type": "code",
   "execution_count": null,
   "id": "6f43dee3-9c58-4429-927f-3fc38b8bc024",
   "metadata": {},
   "outputs": [],
   "source": [
    "f = open(\"kaushik.txt\", \"w\")\n",
    "f.write(\"Hey, handsome man!\")\n",
    "f.close()\n",
    "#Result: a new empty file is created!"
   ]
  },
  {
   "cell_type": "code",
   "execution_count": null,
   "id": "5f186ddd-1985-4d49-927b-c42a4a78398e",
   "metadata": {},
   "outputs": [
    {
     "name": "stdout",
     "output_type": "stream",
     "text": [
      "Hey, handsome man!\n"
     ]
    }
   ],
   "source": [
    "f = open(\"kaushik.txt\", \"r\")\n",
    "print(f.read())\n",
    "f.close()\n"
   ]
  },
  {
   "cell_type": "markdown",
   "id": "361f31a4-4978-4bce-ab9c-ea7a02a7da62",
   "metadata": {},
   "source": [
    "### Python Delete File"
   ]
  },
  {
   "cell_type": "code",
   "execution_count": null,
   "id": "bf3631b5-04ce-4259-91fc-b80d965240a2",
   "metadata": {},
   "outputs": [],
   "source": [
    "import os  # Import the OS module, which contains functions to interact with the operating system\n",
    "os.remove(\"demofile3.txt\")  # Deletes the file 'kaushik.txt'\n"
   ]
  },
  {
   "cell_type": "code",
   "execution_count": null,
   "id": "3c351215-20b7-43de-b17b-052c7a8ec8c6",
   "metadata": {},
   "outputs": [
    {
     "name": "stdout",
     "output_type": "stream",
     "text": [
      "Hey, handsome man!\n"
     ]
    }
   ],
   "source": [
    "f = open(\"kaushik.txt\", \"r\")\n",
    "print(f.read())\n",
    "f.close()"
   ]
  },
  {
   "cell_type": "markdown",
   "id": "910e32b4-29f7-46ab-9122-532fc53f2285",
   "metadata": {},
   "source": [
    "### Check if File exist:\n",
    "To avoid getting an error, you might want to check if the file exists before you try to delete it:"
   ]
  },
  {
   "cell_type": "code",
   "execution_count": null,
   "id": "1142ad6d-c529-4a9c-90da-facef772d32f",
   "metadata": {},
   "outputs": [
    {
     "name": "stdout",
     "output_type": "stream",
     "text": [
      "The file does not exist\n"
     ]
    }
   ],
   "source": [
    "#Check if file exists, then delete it:\n",
    "\n",
    "import os\n",
    "if os.path.exists(\"kaushik.txt\"):\n",
    "  os.remove(\"kaushik.txt\")\n",
    "else:\n",
    "  print(\"The file does not exist\")"
   ]
  },
  {
   "cell_type": "code",
   "execution_count": null,
   "id": "99af06a8-d10b-4dcd-99b4-4eb66397ec95",
   "metadata": {},
   "outputs": [],
   "source": [
    "f = open(\"kaushik2.txt\", \"w\")\n",
    "f.write(\"Hey, handsome man!\")\n",
    "f.close()\n",
    "#Result: a new empty file is created!\n",
    "# check download "
   ]
  },
  {
   "cell_type": "markdown",
   "id": "e471f8bd-c499-46ef-896a-2607d1b5543e",
   "metadata": {},
   "source": [
    "### If you're referring to changing the **file location** (i.e., the directory where the file is stored or accessed from), you can use the `os` module to change the current working directory or specify a different path for your files.\n",
    "\n",
    "### 1. **Changing the Current Working Directory:**\n",
    "To change the **current working directory** (where Python looks for files by default), you can use `os.chdir()`:\n",
    "\n",
    "#### Example:\n",
    "```python\n",
    "import os\n",
    "\n",
    "# Change the current working directory to a new location\n",
    "os.chdir(\"C:/Users/Dell/Documents/\")  # Change this to the directory you want to use\n",
    "\n",
    "# Now, any file operations will be relative to this new directory\n",
    "print(\"Current working directory:\", os.getcwd())\n",
    "```\n",
    "\n",
    "### 2. **Specifying a Full Path for File Operations:**\n",
    "If you want to access or save files to a specific location, you can provide the full path of the file.\n",
    "\n",
    "#### Example:\n",
    "```python\n",
    "# Writing to a file in a specific directory\n",
    "file_path = \"C:/Users/Dell/Documents/kaushik.txt\"  # Full path to the file\n",
    "f = open(file_path, \"w\")\n",
    "f.write(\"This file is saved in a different location.\")\n",
    "f.close()\n",
    "\n",
    "# Reading from a file in a specific directory\n",
    "f = open(file_path, \"r\")\n",
    "print(f.read())\n",
    "f.close()\n",
    "```\n",
    "\n",
    "In this example, the file `kaushik.txt` will be created or accessed in the `C:/Users/Dell/Documents/` directory.\n",
    "\n",
    "### 3. **Changing Store Location for a Specific File Operation:**\n",
    "\n",
    "If you just want to move a file or specify where to save a file, you can simply change the file path in your `open()` function.\n",
    "\n",
    "#### Example (Moving or Renaming a File):\n",
    "import shutil\n",
    "\n",
    "# Moving a file from one location to another\n",
    "shutil.move(\"kaushik.txt\", \"C:/Users/Dell/Documents/kaushik.txt\")  # Moves the file\n",
    "\n",
    "# Renaming a file during the move\n",
    "shutil.move(\"kaushik.txt\", \"C:/Users/Dell/Documents/new_kaushik.txt\")  # Renames while moving\n",
    "```\n",
    "\n",
    "### 4. **Checking and Creating a Directory (if it doesn't exist):**\n",
    "If you want to ensure the directory exists before moving or saving files, you can use `os.makedirs()`.\n",
    "\n",
    "#### Example:\n",
    "import os\n",
    "\n",
    "# Ensure the directory exists\n",
    "directory = \"C:/Users/Dell/Documents/Store\"\n",
    "if not os.path.exists(directory):\n",
    "    os.makedirs(directory)  # Create the directory if it doesn't exist\n",
    "\n",
    "# Now save the file in this new directory\n",
    "file_path = os.path.join(directory, \"kaushik.txt\")\n",
    "f = open(file_path, \"w\")\n",
    "f.write(\"This file is saved in a new directory.\")\n",
    "f.close()"
   ]
  },
  {
   "cell_type": "markdown",
   "id": "e66e609d-4670-4a11-9424-18903f9b742a",
   "metadata": {},
   "source": [
    "### Printing emojis in Python is simple! You can use **Unicode characters** or an **emoji library** to do so.\n",
    "\n",
    "---\n",
    "\n",
    "### 1. **Using Unicode Characters**\n",
    "Every emoji has a unique Unicode value. To use it in Python, write the Unicode with the prefix `\\U` or `\\u`.\n",
    "\n",
    "#### Example:\n",
    "```python\n",
    "print(\"\\U0001F600\")  # 😀 (Grinning Face)\n",
    "print(\"\\U0001F602\")  # 😂 (Face With Tears of Joy)\n",
    "print(\"\\U0001F970\")  # 🥰 (Smiling Face With Hearts)\n",
    "```\n",
    "\n",
    "#### How to Find Emoji Unicode:\n",
    "1. Google \"emoji Unicode\".\n",
    "2. Replace `U+` in the code with `\\U` and pad with zeros if needed (8 digits for `\\U`).\n",
    "\n",
    "For example:\n",
    "- Unicode `U+1F600` → `\\U0001F600`\n",
    "\n",
    "---\n",
    "\n",
    "### 2. **Using the `emoji` Library**\n",
    "This library allows you to print emojis by their names.\n",
    "\n",
    "#### Installation:\n",
    "pip install emoji\n",
    "\n",
    "#### Example:\n",
    "import emoji\n",
    "\n",
    "print(emoji.emojize(\":grinning_face:\"))  # 😀\n",
    "print(emoji.emojize(\":red_heart:\"))      # ❤️\n",
    "print(emoji.emojize(\":thumbs_up:\"))      # 👍\n",
    "```\n",
    "\n",
    "---\n",
    "\n",
    "### 3. **Copy-Paste the Emoji**\n",
    "You can directly use the emoji in your Python code by copy-pasting it.\n",
    "\n",
    "#### Example:\n",
    "```python\n",
    "print(\"Hello 😀\")\n",
    "print(\"I ❤️ Python!\")\n",
    "```\n",
    "## Emoji\n",
    "https://www.unicode.org/emoji/charts/full-emoji-list.html"
   ]
  },
  {
   "cell_type": "code",
   "execution_count": null,
   "id": "1e35baa2-e759-4ea3-8c00-c40a99996005",
   "metadata": {},
   "outputs": [
    {
     "name": "stdout",
     "output_type": "stream",
     "text": [
      "Collecting pygameNote: you may need to restart the kernel to use updated packages.\n",
      "\n",
      "  Downloading pygame-2.6.1-cp312-cp312-win_amd64.whl.metadata (13 kB)\n",
      "Downloading pygame-2.6.1-cp312-cp312-win_amd64.whl (10.6 MB)\n",
      "   ---------------------------------------- 0.0/10.6 MB ? eta -:--:--\n",
      "   ---------------------------------------- 0.0/10.6 MB ? eta -:--:--\n",
      "    --------------------------------------- 0.2/10.6 MB 1.8 MB/s eta 0:00:06\n",
      "   -- ------------------------------------- 0.7/10.6 MB 5.3 MB/s eta 0:00:02\n",
      "   --- ------------------------------------ 0.8/10.6 MB 5.9 MB/s eta 0:00:02\n",
      "   ----- ---------------------------------- 1.5/10.6 MB 6.9 MB/s eta 0:00:02\n",
      "   ------- -------------------------------- 1.9/10.6 MB 7.0 MB/s eta 0:00:02\n",
      "   --------- ------------------------------ 2.5/10.6 MB 7.9 MB/s eta 0:00:02\n",
      "   ---------- ----------------------------- 2.9/10.6 MB 8.0 MB/s eta 0:00:01\n",
      "   ------------ --------------------------- 3.2/10.6 MB 7.9 MB/s eta 0:00:01\n",
      "   ------------- -------------------------- 3.7/10.6 MB 8.1 MB/s eta 0:00:01\n",
      "   -------------- ------------------------- 3.9/10.6 MB 8.3 MB/s eta 0:00:01\n",
      "   --------------- ------------------------ 4.2/10.6 MB 7.9 MB/s eta 0:00:01\n",
      "   ----------------- ---------------------- 4.5/10.6 MB 7.8 MB/s eta 0:00:01\n",
      "   ------------------ --------------------- 4.9/10.6 MB 7.8 MB/s eta 0:00:01\n",
      "   -------------------- ------------------- 5.4/10.6 MB 7.8 MB/s eta 0:00:01\n",
      "   --------------------- ------------------ 5.7/10.6 MB 8.0 MB/s eta 0:00:01\n",
      "   ----------------------- ---------------- 6.2/10.6 MB 8.0 MB/s eta 0:00:01\n",
      "   ------------------------ --------------- 6.6/10.6 MB 8.1 MB/s eta 0:00:01\n",
      "   -------------------------- ------------- 7.1/10.6 MB 8.2 MB/s eta 0:00:01\n",
      "   ---------------------------- ----------- 7.5/10.6 MB 8.3 MB/s eta 0:00:01\n",
      "   ----------------------------- ---------- 7.9/10.6 MB 8.3 MB/s eta 0:00:01\n",
      "   ------------------------------- -------- 8.4/10.6 MB 8.4 MB/s eta 0:00:01\n",
      "   --------------------------------- ------ 8.8/10.6 MB 8.4 MB/s eta 0:00:01\n",
      "   ---------------------------------- ----- 9.3/10.6 MB 8.5 MB/s eta 0:00:01\n",
      "   ------------------------------------ --- 9.7/10.6 MB 8.5 MB/s eta 0:00:01\n",
      "   -------------------------------------- - 10.2/10.6 MB 8.6 MB/s eta 0:00:01\n",
      "   ---------------------------------------  10.6/10.6 MB 9.1 MB/s eta 0:00:01\n",
      "   ---------------------------------------- 10.6/10.6 MB 9.0 MB/s eta 0:00:00\n",
      "Installing collected packages: pygame\n",
      "Successfully installed pygame-2.6.1\n"
     ]
    }
   ],
   "source": [
    "pip install pygame\n"
   ]
  },
  {
   "cell_type": "code",
   "execution_count": null,
   "id": "12e117ea-f23c-4e87-91f3-ad0de68d9242",
   "metadata": {},
   "outputs": [
    {
     "name": "stdout",
     "output_type": "stream",
     "text": [
      "pygame 2.6.1 (SDL 2.28.4, Python 3.12.4)\n",
      "Hello from the pygame community. https://www.pygame.org/contribute.html\n"
     ]
    },
    {
     "ename": "error",
     "evalue": "display Surface quit",
     "output_type": "error",
     "traceback": [
      "\u001b[1;31m---------------------------------------------------------------------------\u001b[0m",
      "\u001b[1;31merror\u001b[0m                                     Traceback (most recent call last)",
      "Cell \u001b[1;32mIn[94], line 139\u001b[0m\n\u001b[0;32m    136\u001b[0m     pygame\u001b[38;5;241m.\u001b[39mquit()\n\u001b[0;32m    137\u001b[0m     quit()\n\u001b[1;32m--> 139\u001b[0m gameLoop()\n",
      "Cell \u001b[1;32mIn[94], line 72\u001b[0m, in \u001b[0;36mgameLoop\u001b[1;34m()\u001b[0m\n\u001b[0;32m     69\u001b[0m \u001b[38;5;28;01mwhile\u001b[39;00m \u001b[38;5;129;01mnot\u001b[39;00m game_over:\n\u001b[0;32m     71\u001b[0m     \u001b[38;5;28;01mwhile\u001b[39;00m game_close:\n\u001b[1;32m---> 72\u001b[0m         dis\u001b[38;5;241m.\u001b[39mfill(blue)\n\u001b[0;32m     73\u001b[0m         message(\u001b[38;5;124m\"\u001b[39m\u001b[38;5;124mYou Lost! Press C-Play Again or Q-Quit\u001b[39m\u001b[38;5;124m\"\u001b[39m, red)\n\u001b[0;32m     74\u001b[0m         Your_score(Length_of_snake \u001b[38;5;241m-\u001b[39m \u001b[38;5;241m1\u001b[39m)\n",
      "\u001b[1;31merror\u001b[0m: display Surface quit"
     ]
    }
   ],
   "source": [
    "import pygame\n",
    "import time\n",
    "import random\n",
    "\n",
    "# Initialize Pygame\n",
    "pygame.init()\n",
    "\n",
    "# Define colors\n",
    "white = (255, 255, 255)\n",
    "yellow = (255, 255, 102)\n",
    "black = (0, 0, 0)\n",
    "red = (213, 50, 80)\n",
    "green = (0, 255, 0)\n",
    "blue = (50, 153, 213)\n",
    "\n",
    "# Set the display window size\n",
    "dis_width = 600\n",
    "dis_height = 400\n",
    "dis = pygame.display.set_mode((dis_width, dis_height))\n",
    "pygame.display.set_caption('Snake Game by Kaushik')\n",
    "\n",
    "# Set the clock\n",
    "clock = pygame.time.Clock()\n",
    "\n",
    "# Set the Snake speed\n",
    "snake_block = 10\n",
    "snake_speed = 15\n",
    "\n",
    "# Set the font for score and game over\n",
    "font_style = pygame.font.SysFont(\"bahnschrift\", 25)\n",
    "score_font = pygame.font.SysFont(\"comicsansms\", 35)\n",
    "\n",
    "# Function to display the score\n",
    "def Your_score(score):\n",
    "    value = score_font.render(\"Your Score: \" + str(score), True, black)\n",
    "    dis.blit(value, [0, 0])\n",
    "\n",
    "# Function to draw the snake\n",
    "def our_snake(snake_block, snake_list):\n",
    "    for x in snake_list:\n",
    "        pygame.draw.rect(dis, green, [x[0], x[1], snake_block, snake_block])\n",
    "\n",
    "# Function to display message\n",
    "def message(msg, color):\n",
    "    mesg = font_style.render(msg, True, color)\n",
    "    dis.blit(mesg, [dis_width / 6, dis_height / 3])\n",
    "\n",
    "# Main game loop\n",
    "def gameLoop():\n",
    "    game_over = False\n",
    "    game_close = False\n",
    "\n",
    "    # Initial position of the snake\n",
    "    x1 = dis_width / 2\n",
    "    y1 = dis_height / 2\n",
    "\n",
    "    # Initial movement direction of the snake\n",
    "    x1_change = 0\n",
    "    y1_change = 0\n",
    "\n",
    "    # Snake body\n",
    "    snake_List = []\n",
    "    Length_of_snake = 1\n",
    "\n",
    "    # Generate food for the snake\n",
    "    foodx = round(random.randrange(0, dis_width - snake_block) / 10.0) * 10.0\n",
    "    foody = round(random.randrange(0, dis_height - snake_block) / 10.0) * 10.0\n",
    "\n",
    "    while not game_over:\n",
    "\n",
    "        while game_close:\n",
    "            dis.fill(blue)\n",
    "            message(\"You Lost! Press C-Play Again or Q-Quit\", red)\n",
    "            Your_score(Length_of_snake - 1)\n",
    "            pygame.display.update()\n",
    "\n",
    "            # Handle keypress for restart or quit\n",
    "            for event in pygame.event.get():\n",
    "                if event.type == pygame.KEYDOWN:\n",
    "                    if event.key == pygame.K_q:\n",
    "                        game_over = True\n",
    "                        game_close = False\n",
    "                    if event.key == pygame.K_c:\n",
    "                        gameLoop()\n",
    "\n",
    "        # Handle events (keystrokes)\n",
    "        for event in pygame.event.get():\n",
    "            if event.type == pygame.QUIT:\n",
    "                game_over = True\n",
    "            if event.type == pygame.KEYDOWN:\n",
    "                if event.key == pygame.K_LEFT:\n",
    "                    x1_change = -snake_block\n",
    "                    y1_change = 0\n",
    "                elif event.key == pygame.K_RIGHT:\n",
    "                    x1_change = snake_block\n",
    "                    y1_change = 0\n",
    "                elif event.key == pygame.K_UP:\n",
    "                    y1_change = -snake_block\n",
    "                    x1_change = 0\n",
    "                elif event.key == pygame.K_DOWN:\n",
    "                    y1_change = snake_block\n",
    "                    x1_change = 0\n",
    "\n",
    "        # Check for boundaries\n",
    "        if x1 >= dis_width or x1 < 0 or y1 >= dis_height or y1 < 0:\n",
    "            game_close = True\n",
    "        x1 += x1_change\n",
    "        y1 += y1_change\n",
    "        dis.fill(blue)\n",
    "        pygame.draw.rect(dis, yellow, [foodx, foody, snake_block, snake_block])\n",
    "        snake_Head = []\n",
    "        snake_Head.append(x1)\n",
    "        snake_Head.append(y1)\n",
    "        snake_List.append(snake_Head)\n",
    "\n",
    "        if len(snake_List) > Length_of_snake:\n",
    "            del snake_List[0]\n",
    "\n",
    "        for x in snake_List[:-1]:\n",
    "            if x == snake_Head:\n",
    "                game_close = True\n",
    "\n",
    "        our_snake(snake_block, snake_List)\n",
    "        Your_score(Length_of_snake - 1)\n",
    "\n",
    "        pygame.display.update()\n",
    "\n",
    "        # Check if snake eats food\n",
    "        if x1 == foodx and y1 == foody:\n",
    "            foodx = round(random.randrange(0, dis_width - snake_block) / 10.0) * 10.0\n",
    "            foody = round(random.randrange(0, dis_height - snake_block) / 10.0) * 10.0\n",
    "            Length_of_snake += 1\n",
    "\n",
    "        clock.tick(snake_speed)\n",
    "\n",
    "    pygame.quit()\n",
    "    quit()\n",
    "\n",
    "gameLoop()\n"
   ]
  },
  {
   "cell_type": "markdown",
   "id": "18395660-e1b2-463e-b2ec-133f377cc65b",
   "metadata": {},
   "source": [
    "# Python Random Module"
   ]
  },
  {
   "cell_type": "markdown",
   "id": "21f2871c-9090-48b5-b7bd-054dc2b88f8e",
   "metadata": {},
   "source": [
    "# Python Random module generates random numbers in Python. These are pseudo-random numbers means they are not truly random.\n",
    "\n",
    "## This module can perform random actions such as generating random numbers, printing a random value for a list or string, etc. It is an in-built function in Python.\n",
    "\n",
    "# List of all the functions  Python Random Module\n",
    "## There are different random functions in the Random Module of Python. Look at the table below to learn more about these functions:"
   ]
  },
  {
   "cell_type": "markdown",
   "id": "0df80e6f-3085-4045-b1de-72fbb2c478ac",
   "metadata": {},
   "source": [
    "### Random Module Functions (Casual and Easy)\n",
    "\n",
    "#### 1. seed():\n",
    "# \"Sets the starting point for randomness. Use this if you want repeatable random results.\"\n",
    "\n",
    "#### 2. getstate():\n",
    "# \"Takes a snapshot of the random generator's current setup. Useful for saving the current state.\"\n",
    "\n",
    "#### 3. setstate():\n",
    "# \"Restores the random generator to a saved state. Great if you want to continue from where you left off.\"\n",
    "\n",
    "#### 4. getrandbits():\n",
    "# \"Creates a random number with a specific number of bits. More bits = bigger numbers.\"\n",
    "\n",
    "#### 5. randrange():\n",
    "# \"Picks a random number from a range, but doesn't include the last number.\"\n",
    "\n",
    "#### 6. randint():\n",
    "# \"Gives you a random number between two numbers, including both ends.\"\n",
    "\n",
    "#### 7. choice():\n",
    "# \"Grabs a random item from a list, tuple, or even a string.\"\n",
    "\n",
    "#### 8. choices():\n",
    "# \"Picks several random items from a list, and it might pick the same item more than once.\"\n",
    "\n",
    "#### 9. sample():\n",
    "# \"Picks a set number of unique random items from a list. No repeats!\"\n",
    "\n",
    "#### 10. random():\n",
    "# \"Spits out a random decimal number between 0 and 1.\"\n",
    "\n",
    "#### 11. uniform():\n",
    "# \"Gives you a random decimal between two numbers, and it includes both ends.\"\n",
    "\n",
    "#### 12. triangular():\n",
    "# \"Picks a random decimal within a range but leans towards a preferred middle value if given.\"\n",
    "\n",
    "#### 13. betavariate():\n",
    "# \"Generates a random decimal based on the Beta distribution. Math lovers use this!\"\n",
    "\n",
    "#### 14. expovariate():\n",
    "# \"Creates a random decimal based on how often an event might happen (exponential distribution).\"\n",
    "\n",
    "#### 15. gammavariate():\n",
    "# \"Generates a random decimal using the Gamma distribution, popular in simulations.\"\n",
    "\n",
    "#### 16. gauss():\n",
    "# \"Picks a random decimal that follows the bell curve (Gaussian or normal distribution).\"\n",
    "\n",
    "#### 17. lognormvariate():\n",
    "# \"Gives a random decimal based on a log-normal curve (useful in economics).\"\n",
    "\n",
    "#### 18. normalvariate():\n",
    "# \"Like gauss(), but a slightly different way to handle the bell curve randomness.\"\n",
    "\n",
    "#### 19. vonmisesvariate():\n",
    "# \"Creates a random number that's great for circular data, like directions.\"\n",
    "\n",
    "####  20. paretovariate():\n",
    "# \"Picks a random decimal based on the Pareto distribution (think wealth distributions).\"\n",
    "\n",
    "#### 21. weibullvariate():\n",
    "# \"Generates a random decimal using Weibull distribution, often for reliability tests.\"\n"
   ]
  },
  {
   "cell_type": "code",
   "execution_count": null,
   "id": "d510479f-a81c-402f-acbb-965557409c93",
   "metadata": {},
   "outputs": [
    {
     "name": "stdout",
     "output_type": "stream",
     "text": [
      "6\n"
     ]
    }
   ],
   "source": [
    "\"\"\" \n",
    "Random Module in Python Examples\n",
    "Let’s discuss some common operations performed by Random module in Python.\n",
    "\n",
    "Example 1: Printing a random value from a list in Python.\n",
    "\n",
    "This code uses the random module to select a random element from the list list1 using the random.choice() function. It prints a random element from the list, \n",
    "demonstrating how to pick a random item from a sequence in Python.\n",
    "\"\"\"\n",
    "import random\n",
    "list1 = [1, 2, 3, 4, 5, 6]\n",
    "print(random.choice(list1))"
   ]
  },
  {
   "cell_type": "code",
   "execution_count": null,
   "id": "a2493cef-3d5e-4936-982c-3a3cc60c49dc",
   "metadata": {},
   "outputs": [
    {
     "name": "stdout",
     "output_type": "stream",
     "text": [
      "0.6229016948897019\n",
      "0.7417869892607294\n"
     ]
    }
   ],
   "source": [
    "\"\"\"\n",
    "Example 2: Creating random numbers with Python seed() in Python.\n",
    "\n",
    "As stated above random module creates pseudo-random numbers. Random numbers depend on the seeding value.\n",
    "For example, if the seeding value is 5, the output of the below program will always be the same. \n",
    "Therefore,\n",
    "it must not be used for encryption.\n",
    "\n",
    "The code sets the random number generator’s seed to 5 using random.seed(5), ensuring reproducibility.\n",
    "It then prints two random floating-point numbers between 0 and 1 using random.random().\n",
    "The seed makes these numbers the same every time you run the code with a seed of 5, \n",
    "providing consistency in the generated random values.\n",
    "\n",
    "\"\"\"\n",
    "import random\n",
    "random.seed(5)\n",
    "print(random.random())\n",
    "print(random.random())"
   ]
  },
  {
   "cell_type": "code",
   "execution_count": null,
   "id": "3dacd719-2621-4562-8ec3-7057067a601d",
   "metadata": {},
   "outputs": [
    {
     "name": "stdout",
     "output_type": "stream",
     "text": [
      "Random number between 5 and 15 is 15\n",
      "Random number between -10 and -2 is -2\n"
     ]
    }
   ],
   "source": [
    "\"\"\"\n",
    "Example: Creating random integers\n",
    "\n",
    "This code uses the ‘random' module to generate random integers within specific ranges. \n",
    "It first generates a random integer between 5 and 15 (inclusive) and then between -10 and -2 (inclusive). \n",
    "The generated integers are printed with appropriate formatting.\n",
    "\"\"\"\n",
    "import random\n",
    "r1 = random.randint(5, 15)\n",
    "print(\"Random number between 5 and 15 is % s\" % (r1))\n",
    "r2 = random.randint(-10, -2)\n",
    "print(\"Random number between -10 and -2 is % d\" % (r2))"
   ]
  },
  {
   "cell_type": "code",
   "execution_count": null,
   "id": "1c5ab726-1d2a-4681-8de9-a5ce3c4b6752",
   "metadata": {},
   "outputs": [
    {
     "name": "stdout",
     "output_type": "stream",
     "text": [
      "1\n",
      "k\n",
      "2\n"
     ]
    }
   ],
   "source": [
    "\"\"\"\n",
    "Randomly Select Elements from a List in Python\n",
    "Random sampling from a list in Python (random.choice, and sample)\n",
    "\n",
    "Example 1:  Python random.choice() function is used to return a random item from a list, tuple, or string.\n",
    "\n",
    "The code uses the random.choice() function from the random module to randomly select elements from different data types. \n",
    "It demonstrates selecting a random element from a list, a string, and a tuple. \n",
    "The chosen elements will vary each time you run the code, making it useful for random selection from various data structures.\n",
    "\"\"\"\n",
    "import random\n",
    "list1 = [1, 2, 3, 4, 5, 6]\n",
    "print(random.choice(list1))\n",
    "string = \"geeks\"\n",
    "print(random.choice(string))\n",
    "tuple1 = (1, 2, 3, 4, 5)\n",
    "print(random.choice(tuple1))"
   ]
  },
  {
   "cell_type": "code",
   "execution_count": null,
   "id": "5d527e43-c6f9-4e2f-aaf2-ccefe3477304",
   "metadata": {},
   "outputs": [
    {
     "name": "stdout",
     "output_type": "stream",
     "text": [
      "[1, 2, 5]\n",
      "[6, 7, 4]\n",
      "['7', '4', '6']\n"
     ]
    }
   ],
   "source": [
    "\"\"\"\n",
    "Python random.sample() function is used to return a random item from a list, tuple, or string.\n",
    "This code utilizes the sample function from the ‘random' module to obtain random samples from various data types. \n",
    "It selects three random elements without replacement from a list, a tuple, and a string, demonstrating its versatility in generating distinct random samples. \n",
    "With each execution, the selected elements will differ, providing random subsets from the input data structures.\n",
    "\"\"\"\n",
    "from random import sample\n",
    "list1 = [1, 2, 3, 4, 5]\n",
    "\n",
    "print(sample(list1,3))\n",
    "list2 = (4, 5, 6, 7, 8)\n",
    "\n",
    "print(sample(list2,3))\n",
    "list3 = \"45678\"\n",
    "\n",
    "print(sample(list3,3))"
   ]
  },
  {
   "cell_type": "code",
   "execution_count": null,
   "id": "bb046e9c-bd68-484e-92e5-fed58d012645",
   "metadata": {},
   "outputs": [
    {
     "name": "stdout",
     "output_type": "stream",
     "text": [
      "Original list : \n",
      "[1, 2, 3, 4, 5]\n",
      "\n",
      "After the first shuffle : \n",
      "[5, 4, 3, 1, 2]\n",
      "\n",
      "After the second shuffle : \n",
      "[2, 4, 5, 3, 1]\n"
     ]
    }
   ],
   "source": [
    "#Shuffle List in Python\n",
    "# A random.shuffle() method is used to shuffle a sequence (list). Shuffling means changing the position of the elements of the sequence.\n",
    "#Here, the shuffling operation is in place.\n",
    "\n",
    "#Syntax: random.shuffle(sequence, function)\n",
    "\n",
    "#Example: Shuffling a List\n",
    "\n",
    "#This code uses the random.shuffle() function from the ‘random' module to shuffle the elements of a list named ‘sample_list'. \n",
    "#It first prints the original order of the list, then shuffles it twice. The second shuffle creates a new random order,\n",
    "#and the list’s content is displayed after each shuffle. \n",
    "#This demonstrates how the elements are rearranged randomly in the list with each shuffle operation.\n",
    "\n",
    "import random\n",
    "sample_list = [1, 2, 3, 4, 5]\n",
    "\n",
    "print(\"Original list : \")\n",
    "print(sample_list)\n",
    "random.shuffle(sample_list)\n",
    "print(\"\\nAfter the first shuffle : \")\n",
    "print(sample_list)\n",
    "random.shuffle(sample_list)\n",
    "print(\"\\nAfter the second shuffle : \")\n",
    "print(sample_list)"
   ]
  },
  {
   "cell_type": "markdown",
   "id": "8934b42f-be1a-4a6a-bc19-56aa2e6495f5",
   "metadata": {},
   "source": [
    "### Rock-Paper-Scissor Program using Random Module"
   ]
  },
  {
   "cell_type": "code",
   "execution_count": null,
   "id": "5eaffbfe-f73f-4206-8db5-df34d4f26c3a",
   "metadata": {},
   "outputs": [
    {
     "name": "stdout",
     "output_type": "stream",
     "text": [
      " This is Javatpoint's Rock-Paper-Scissors! \n",
      " Please Enter your choice: \n",
      " choice 1: Rock \n",
      " choice 2: Paper \n",
      " choice 3: Scissors \n"
     ]
    },
    {
     "name": "stdout",
     "output_type": "stream",
     "text": [
      " Select any options from 1 - 3 :  1\n"
     ]
    },
    {
     "name": "stdout",
     "output_type": "stream",
     "text": [
      " Option choosed by Machine is:   Rock \n",
      " Wow It's a tie! \n"
     ]
    },
    {
     "name": "stdout",
     "output_type": "stream",
     "text": [
      " Want to Play again? ( yes / no )  NO\n"
     ]
    },
    {
     "name": "stdout",
     "output_type": "stream",
     "text": [
      " Thanks for playing Rock-Paper-Scissors! \n"
     ]
    }
   ],
   "source": [
    "# import random module  \n",
    "import random  \n",
    "# Function to play game  \n",
    "def start_game():  \n",
    "    # Print games rules and instructions  \n",
    "    print(\" This is Javatpoint's Rock-Paper-Scissors! \")  \n",
    "    print(\" Please Enter your choice: \")  \n",
    "    print(\" choice 1: Rock \")  \n",
    "    print(\" choice 2: Paper \")  \n",
    "    print(\" choice 3: Scissors \")  \n",
    "#To take the user input      \n",
    "    choice_user = int(input(\" Select any options from 1 - 3 : \"))  \n",
    "  \n",
    "    # randint() Function which generates a random number by computer  \n",
    "    choice_machine = random.randint(1, 3)  \n",
    "  \n",
    "    # display the machines choice  \n",
    "    print(\" Option choosed by Machine is: \", end = \" \")  \n",
    "    if choice_machine == 1:  \n",
    "        print(\" Rock \")  \n",
    "    elif choice_machine == 2:  \n",
    "        print(\"Paper\")  \n",
    "    else:  \n",
    "        print(\"Scissors\")  \n",
    "  \n",
    "    # To declare who the winner is  \n",
    "    if choice_user == choice_machine:  \n",
    "        print(\" Wow It's a tie! \")  \n",
    "    elif choice_user == 1 and choice_machine == 3:  \n",
    "        print(\" Congratulations!! You won! \")  \n",
    "    elif choice_user == 2 and choice_machine == 1:  \n",
    "        print(\" Congratulations!! You won! \")  \n",
    "    elif choice_user == 3 and choice_machine == 2:  \n",
    "        print(\" Congratulations!! You won! \")  \n",
    "    else:  \n",
    "        print(\" Sorry! The Machine Won the Game? \")  \n",
    "  \n",
    "    # If user wants to play again  \n",
    "    play_again = input(\" Want to Play again? ( yes / no ) \").lower()  \n",
    "    if play_again == \" yes \":  \n",
    "        start_game()  \n",
    "    else:  \n",
    "        print(\" Thanks for playing Rock-Paper-Scissors! \")  \n",
    "  \n",
    "# Begin the game  \n",
    "start_game()  "
   ]
  },
  {
   "cell_type": "code",
   "execution_count": null,
   "id": "79603ccd-155d-4bb2-9003-7b9a0b7ec857",
   "metadata": {},
   "outputs": [],
   "source": [
    "### Random Module Functions (Super Easy Jupyter Notebook Format)\n",
    "\n",
    "# Import the random module\n",
    "import random\n",
    "\n",
    "# 1. seed(a=None, version=2):\n",
    "# \"Starts the random generator. Use it to get repeatable random numbers.\"\n",
    "random.seed(42)  # Example: Set seed for repeatable results\n",
    "\n",
    "# 2. getstate():\n",
    "# \"Takes a snapshot of the random generator's current setup.\"\n",
    "state = random.getstate()  # Save the current state\n",
    "\n",
    "# 3. setstate(state):\n",
    "# \"Restores the random generator to a saved state.\"\n",
    "random.setstate(state)  # Reset to the saved state\n",
    "\n",
    "# 4. getrandbits(k):\n",
    "# \"Generates a random integer with k bits.\"\n",
    "rand_bits = random.getrandbits(8)  # Example: Generate an 8-bit number\n",
    "\n",
    "# 5. randrange(start, stop[, step]):\n",
    "# \"Picks a random number in the range, with an optional step.\"\n",
    "rand_num = random.randrange(1, 10)  # Example: Random number between 1 and 9\n",
    "\n",
    "# 6. randint(a, b):\n",
    "# \"Generates a random integer between a and b (inclusive).\"\n",
    "rand_int = random.randint(1, 10)  # Example: Random number between 1 and 10\n",
    "\n",
    "# 7. choice(seq):\n",
    "# \"Selects a random element from a sequence.\"\n",
    "rand_choice = random.choice(['apple', 'banana', 'cherry'])\n",
    "\n",
    "# 8. shuffle(seq):\n",
    "# \"Shuffles the order of items in a sequence.\"\n",
    "fruits = ['apple', 'banana', 'cherry']\n",
    "random.shuffle(fruits)  # Shuffled order\n",
    "\n",
    "# 9. sample(population, k):\n",
    "# \"Picks k unique random elements from a population.\"\n",
    "sample_items = random.sample(['apple', 'banana', 'cherry', 'date'], 2)\n",
    "\n",
    "# 10. random():\n",
    "# \"Generates a random float between 0 and 1.\"\n",
    "rand_float = random.random()\n",
    "\n",
    "# 11. uniform(a, b):\n",
    "# \"Generates a random float between a and b (inclusive).\"\n",
    "rand_uniform = random.uniform(1.5, 3.5)\n",
    "\n",
    "# 12. triangular(low, high, mode):\n",
    "# \"Generates a random float within a range, optionally skewed towards a mode.\"\n",
    "rand_triangular = random.triangular(1, 10, 5)\n",
    "\n",
    "# 13. gauss(mu, sigma):\n",
    "# \"Generates a random float with a Gaussian distribution.\"\n",
    "gauss_num = random.gauss(0, 1)  # Mean = 0, Std Dev = 1\n",
    "\n",
    "# 14. betavariate(alpha, beta):\n",
    "# \"Generates a random float using the Beta distribution.\"\n",
    "beta_num = random.betavariate(2, 5)  # Alpha = 2, Beta = 5\n",
    "\n",
    "# 15. expovariate(lambda):\n",
    "# \"Generates a random float using the Exponential distribution.\"\n",
    "expo_num = random.expovariate(1.5)  # Lambda = 1.5\n",
    "\n",
    "# 16. normalvariate(mu, sigma):\n",
    "# \"Generates a random float using the Normal distribution.\"\n",
    "normal_num = random.normalvariate(0, 1)  # Mean = 0, Std Dev = 1\n",
    "\n",
    "# 17. gammavariate(alpha, beta):\n",
    "# \"Generates a random float using the Gamma distribution.\"\n",
    "gamma_num = random.gammavariate(2, 2)  # Alpha = 2, Beta = 2"
   ]
  },
  {
   "cell_type": "code",
   "execution_count": null,
   "id": "868a7f31-f430-42df-b5c0-b96fdaf308fb",
   "metadata": {},
   "outputs": [],
   "source": []
  },
  {
   "cell_type": "markdown",
   "id": "e152c880-5e01-4ea7-a7b5-b97f971e19eb",
   "metadata": {},
   "source": [
    "### Threads: Simplified Explanation\n",
    "Thread: A thread is the smallest unit of a program that can run independently. Think of it as a \"lightweight process\" that performs a specific task within a program.\n",
    "Multithreading: This allows multiple threads to run at the same time, sharing the same resources (like memory) but executing tasks concurrently.\n",
    "### Why Use Threads?\n",
    "Multitasking: Threads allow a program to perform multiple tasks simultaneously. For example, downloading a file while updating the user interface.\n",
    "Efficient Resource Sharing: Threads share the same memory space, making them faster and more lightweight than running separate processes.\n",
    "Better Performance: Useful for tasks like web scraping, parallel computations, or I/O-bound operations.\n",
    "\n",
    "### Example Use Case\n",
    "Imagine a video player app:\n",
    "One thread plays the video.\n",
    "Another thread handles audio.\n",
    "Another thread listens for user input like play, pause, or stop."
   ]
  },
  {
   "cell_type": "code",
   "execution_count": null,
   "id": "5f6ab927-de39-4d50-9dda-a87af92b9b32",
   "metadata": {},
   "outputs": [
    {
     "data": {
      "text/plain": [
       "'\\nBenefits of Using Python for Multithreading\\nThe following are the advantages of using Python for multithreading:\\n\\nIt guarantees powerful usage of PC framework assets.\\nApplications with multiple threads respond faster.\\nIt is more cost-effective because it shares resources and its state with sub-threads (child).\\nIt makes the multiprocessor engineering more viable because of closeness.\\nBy running multiple threads simultaneously, it cuts down on time.\\nTo store multiple threads, the system does not require a lot of memory.\\nWhen to use Multithreading in Python?\\nIt is an exceptionally valuable strategy for efficient and working on the presentation of an application. Programmers can run multiple subtasks of an application at the same time by using multithreading. It lets threads talk to the same processor and share resources like files, data, and memory. In addition, it makes it easier for the user to continue running a program even when a portion of it is blocked or too long.\\n\\nHow to achieve multithreading in Python?\\nThere are two main modules of multithreading used to handle threads in Python.\\n\\nThe thread module\\nThe threading module\\nThread modules\\nIt is started with Python 3, designated as obsolete, and can only be accessed with _thread that supports backward compatibility.\\n\\n# Syntax:\\n\\n# thread.start_new_thread ( function_name, args[, kwargs] )  \\n# To implement the thread module in Python, we need to import a thread module and then define a function that performs some action by setting the target with a variable.\\n\\nThread.py\\n'"
      ]
     },
     "execution_count": 32,
     "metadata": {},
     "output_type": "execute_result"
    }
   ],
   "source": [
    "### Multithreading in Python 3 (Key Points)\n",
    "\n",
    "\"\"\"\n",
    "A thread is the smallest unit of a program that can run independently.\n",
    "Multitasking splits a process into multiple threads, managed by the operating system.\n",
    "Threads are lightweight and execute tasks independently.\n",
    "In Python 3, multithreading allows multiple tasks to run simultaneously in a program.\n",
    "\"\"\"\n",
    "\"\"\"\n",
    "Benefits of Using Python for Multithreading\n",
    "The following are the advantages of using Python for multithreading:\n",
    "\n",
    "It guarantees powerful usage of PC framework assets.\n",
    "Applications with multiple threads respond faster.\n",
    "It is more cost-effective because it shares resources and its state with sub-threads (child).\n",
    "It makes the multiprocessor engineering more viable because of closeness.\n",
    "By running multiple threads simultaneously, it cuts down on time.\n",
    "To store multiple threads, the system does not require a lot of memory.\n",
    "When to use Multithreading in Python?\n",
    "It is an exceptionally valuable strategy for efficient and working on the presentation of an application. Programmers can run multiple subtasks of an application at the same time by using multithreading. It lets threads talk to the same processor and share resources like files, data, and memory. In addition, it makes it easier for the user to continue running a program even when a portion of it is blocked or too long.\n",
    "\n",
    "How to achieve multithreading in Python?\n",
    "There are two main modules of multithreading used to handle threads in Python.\n",
    "\n",
    "The thread module\n",
    "The threading module\n",
    "Thread modules\n",
    "It is started with Python 3, designated as obsolete, and can only be accessed with _thread that supports backward compatibility.\n",
    "\n",
    "# Syntax:\n",
    "\n",
    "# thread.start_new_thread ( function_name, args[, kwargs] )  \n",
    "# To implement the thread module in Python, we need to import a thread module and then define a function that performs some action by setting the target with a variable.\n",
    "\n",
    "Thread.py\n",
    "\"\"\""
   ]
  },
  {
   "cell_type": "code",
   "execution_count": null,
   "id": "26b8a4b2-1903-4560-a4c7-26dbdfe6257c",
   "metadata": {},
   "outputs": [
    {
     "name": "stdout",
     "output_type": "stream",
     "text": [
      "Calculating the square of the given numbers\n",
      "Calculating the cube of the given numbers\n",
      "Cube of 4 is: 64\n",
      "Cube of 5 is: 125\n",
      "Cube of 6 is: 216\n",
      "Cube of 7 is: 343\n",
      "Cube of 2 is: 8\n",
      "Square of 4 is: 16\n",
      "Square of 5 is: 25\n",
      "Square of 6 is: 36\n",
      "Square of 7 is: 49\n",
      "Square of 2 is: 4\n",
      "Total time taken by threads is: 50.01071214675903\n"
     ]
    }
   ],
   "source": [
    "# Fixed and Simplified Code with Comments\n",
    "\n",
    "import threading  # Import threading module to use threads\n",
    "import time  # Import time module for sleep and timing\n",
    "\n",
    "def cal_sqre(num):\n",
    "    \"\"\"Calculate the square of numbers in the list\"\"\"\n",
    "    print(\"Calculating the square of the given numbers\")\n",
    "    for n in num:\n",
    "        time.sleep(10)  # Pause for 0.3 seconds for each calculation\n",
    "        print(f'Square of {n} is: {n * n}')\n",
    "\n",
    "def cal_cube(num):\n",
    "    \"\"\"Calculate the cube of numbers in the list\"\"\"\n",
    "    print(\"Calculating the cube of the given numbers\")\n",
    "    for n in num:\n",
    "        time.sleep(0.3)  # Pause for 0.3 seconds for each calculation\n",
    "        print(f'Cube of {n} is: {n * n * n}')\n",
    "\n",
    "# List of numbers\n",
    "arr = [4, 5, 6, 7, 2]\n",
    "\n",
    "# Measure the total time taken\n",
    "start_time = time.time()\n",
    "\n",
    "# Create threads for square and cube calculations\n",
    "thread1 = threading.Thread(target=cal_sqre, args=(arr,))\n",
    "thread2 = threading.Thread(target=cal_cube, args=(arr,))\n",
    "\n",
    "# Start the threads\n",
    "thread1.start()\n",
    "thread2.start()\n",
    "\n",
    "# Wait for threads to complete\n",
    "thread1.join()\n",
    "thread2.join()\n",
    "\n",
    "# Print the total time taken\n",
    "print(\"Total time taken by threads is:\", time.time() - start_time)\n"
   ]
  },
  {
   "cell_type": "markdown",
   "id": "3dc1ab97-8dfb-4ccd-8993-c5c79e33ebdc",
   "metadata": {},
   "source": [
    "### start()\n",
    "A start() method is used to initiate the activity of a thread. And it calls only once for each thread so that the execution of the thread can begin.\n",
    "### run()\n",
    "A run() method is used to define a thread's activity and can be overridden by a class that extends the threads class.\n",
    "### join()\n",
    "A join() method is used to block the execution of another code until the thread terminates."
   ]
  },
  {
   "cell_type": "code",
   "execution_count": null,
   "id": "493ba909-795c-4b37-9971-8cb08c14699a",
   "metadata": {},
   "outputs": [
    {
     "name": "stdout",
     "output_type": "stream",
     "text": [
      " Calculate the square root of the given number\n",
      " Calculate the cube of  the given number\n",
      " Square is :  16\n",
      " Cube is :  64\n",
      " Square is :  25\n",
      " Cube is :  125\n",
      " Square is :  36\n",
      " Cube is :  216\n",
      " Square is :  49\n",
      " Cube is :  343\n",
      " Square is :  4\n",
      " Cube is :  8\n",
      " Total time taking by threads is : 1.515237808227539\n",
      " Again executing the main thread\n",
      " Thread 1 and Thread 2 have finished their execution.\n"
     ]
    }
   ],
   "source": [
    "import time # import time module  \n",
    "import threading  \n",
    "from threading import *  \n",
    "def cal_sqre(num): # define a square calculating function  \n",
    "    print(\" Calculate the square root of the given number\")  \n",
    "    for n in num: # Use for loop   \n",
    "        time.sleep(0.3) # at each iteration it waits for 0.3 time  \n",
    "        print(' Square is : ', n * n)  \n",
    "  \n",
    "def cal_cube(num): # define a cube calculating function  \n",
    "    print(\" Calculate the cube of  the given number\")  \n",
    "    for n in num: # for loop  \n",
    "        time.sleep(0.3) # at each iteration it waits for 0.3 time  \n",
    "        print(\" Cube is : \", n * n *n)  \n",
    "  \n",
    "ar = [4, 5, 6, 7, 2] # given array  \n",
    "  \n",
    "t = time.time() # get total time to execute the functions  \n",
    "#cal_cube(ar)  \n",
    "#cal_sqre(ar)  \n",
    "th1 = threading.Thread(target=cal_sqre, args=(ar, ))  \n",
    "th2 = threading.Thread(target=cal_cube, args=(ar, ))  \n",
    "th1.start()  \n",
    "th2.start()  \n",
    "th1.join()  \n",
    "th2.join()  \n",
    "print(\" Total time taking by threads is :\", time.time() - t) # print the total time  \n",
    "print(\" Again executing the main thread\")  \n",
    "print(\" Thread 1 and Thread 2 have finished their execution.\")  "
   ]
  },
  {
   "cell_type": "code",
   "execution_count": null,
   "id": "552ec43e-1f05-480d-a85d-f1c6aaaae50b",
   "metadata": {},
   "outputs": [],
   "source": []
  }
 ],
 "metadata": {
  "kernelspec": {
   "display_name": "Python 3",
   "language": "python",
   "name": "python3"
  },
  "language_info": {
   "codemirror_mode": {
    "name": "ipython",
    "version": 3
   },
   "file_extension": ".py",
   "mimetype": "text/x-python",
   "name": "python",
   "nbconvert_exporter": "python",
   "pygments_lexer": "ipython3",
   "version": "3.11.9"
  }
 },
 "nbformat": 4,
 "nbformat_minor": 5
}
